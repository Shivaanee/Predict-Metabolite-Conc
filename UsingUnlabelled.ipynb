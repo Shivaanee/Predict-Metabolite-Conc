{
 "cells": [
  {
   "cell_type": "markdown",
   "metadata": {},
   "source": [
    "# Using the Unlabelled Data"
   ]
  },
  {
   "cell_type": "code",
   "execution_count": 1,
   "metadata": {},
   "outputs": [],
   "source": [
    "import pandas as pd\n",
    "import numpy as np\n",
    "import matplotlib.pyplot as plt\n",
    "import seaborn as sns"
   ]
  },
  {
   "cell_type": "code",
   "execution_count": 2,
   "metadata": {},
   "outputs": [],
   "source": [
    "data = pd.read_csv('data/data.csv')\n",
    "target = pd.read_csv('data/target.csv')"
   ]
  },
  {
   "cell_type": "code",
   "execution_count": 3,
   "metadata": {},
   "outputs": [],
   "source": [
    "new_data = pd.read_csv('data/new_data.csv')\n",
    "new_target = pd.read_csv('data/new_target.csv')"
   ]
  },
  {
   "cell_type": "markdown",
   "metadata": {},
   "source": [
    "# do feature scaling here"
   ]
  },
  {
   "cell_type": "code",
   "execution_count": 4,
   "metadata": {},
   "outputs": [],
   "source": [
    "from sklearn.preprocessing import StandardScaler\n",
    "\n",
    "scaler = StandardScaler()\n",
    "data = scaler.fit_transform(data)"
   ]
  },
  {
   "cell_type": "markdown",
   "metadata": {},
   "source": [
    "# regression models"
   ]
  },
  {
   "cell_type": "code",
   "execution_count": 5,
   "metadata": {},
   "outputs": [],
   "source": [
    "from sklearn.linear_model import LinearRegression\n",
    "from sklearn.tree import DecisionTreeRegressor\n",
    "from sklearn.ensemble import RandomForestRegressor\n",
    "from sklearn.svm import SVR\n",
    "from sklearn.neighbors import KNeighborsRegressor\n",
    "from sklearn.ensemble import GradientBoostingRegressor\n",
    "from sklearn.linear_model import Ridge\n",
    "from sklearn.linear_model import Lasso\n",
    "from sklearn.linear_model import ElasticNet\n",
    "from sklearn.cross_decomposition import PLSRegression\n",
    "\n",
    "from sklearn.model_selection import cross_val_score, KFold, train_test_split\n",
    "from sklearn.metrics import mean_squared_error"
   ]
  },
  {
   "cell_type": "code",
   "execution_count": 6,
   "metadata": {},
   "outputs": [],
   "source": [
    "from sklearn.model_selection import cross_val_score, KFold\n",
    "\n",
    "# loop through the columns of target and find the best model for each column using data2 and target2. Do k-fold cross validation and take k as parameter to the function\n",
    "\n",
    "def best_model2(X, y, k):\n",
    "\n",
    "    models = [LinearRegression(), DecisionTreeRegressor(), RandomForestRegressor(), SVR(), KNeighborsRegressor(),\n",
    "              GradientBoostingRegressor(), Ridge(), Lasso(), ElasticNet(), PLSRegression()]\n",
    "    \n",
    "    r2_scores = []\n",
    "    rmse_scores = []\n",
    "\n",
    "    for model in models:\n",
    "        cv = KFold(n_splits=k, random_state=0, shuffle=True)\n",
    "        r2_scores.append(np.mean(cross_val_score(model, X, y, cv=cv, scoring='r2')))\n",
    "        rmse_scores.append(np.mean(np.sqrt(-cross_val_score(model, X, y, cv=cv, scoring='neg_mean_squared_error'))))\n",
    "\n",
    "    model_scores = pd.DataFrame(sorted(list(zip([type(model).__name__ for model in models], r2_scores, rmse_scores)), key=lambda x: x[1], reverse=True), columns=['Model', 'R2 Score', 'RMSE'])\n",
    "\n",
    "    return model_scores"
   ]
  },
  {
   "cell_type": "markdown",
   "metadata": {},
   "source": [
    "# Using the unlabelled data"
   ]
  },
  {
   "cell_type": "code",
   "execution_count": 7,
   "metadata": {},
   "outputs": [],
   "source": [
    "unlabelled_data = pd.read_csv('data/unlabelled.csv')\n",
    "data3 = pd.read_csv('data/data.csv')\n",
    "target3 = pd.read_csv('data/target.csv')"
   ]
  },
  {
   "cell_type": "markdown",
   "metadata": {},
   "source": [
    "# Adding the batch experiment data"
   ]
  },
  {
   "cell_type": "code",
   "execution_count": 8,
   "metadata": {},
   "outputs": [],
   "source": [
    "data3 = pd.concat([data3, new_data], axis=0)\n",
    "target3 = pd.concat([target3, new_target], axis=0)"
   ]
  },
  {
   "cell_type": "code",
   "execution_count": 9,
   "metadata": {},
   "outputs": [],
   "source": [
    "from scipy.signal import savgol_filter\n",
    "\n",
    "# integrate the unlabelled data (data with no target) into the labelled data for better scaling and normalization\n",
    "data3 = pd.concat([data3, unlabelled_data], axis=0)\n",
    "\n",
    "# Baseline correction\n",
    "data3 = data3 - data3.min()\n",
    "\n",
    "# Normalization\n",
    "data3 = data3 / data3.max()\n",
    "\n",
    "# Noise reduction using smoothing techniques\n",
    "data3 = savgol_filter(data3, 5, 2)\n",
    "data3 = pd.DataFrame(data3, columns=unlabelled_data.columns)\n",
    "\n",
    "# not doing pca because it only shows worse performance in the different models\n",
    "# # Multiple scatter correction to reduce scattering effects\n",
    "# data3 = pca.transform(data3)\n",
    "# data3 = pd.DataFrame(data3)\n",
    "\n",
    "# remove the unlabelled data from the complete data to get the labelled data\n",
    "data3 = data3.iloc[:len(data3) - len(unlabelled_data)]"
   ]
  },
  {
   "cell_type": "markdown",
   "metadata": {},
   "source": [
    "# loop through each column in target3 and find the best model using the best hyperparameters found by optuna\n"
   ]
  },
  {
   "cell_type": "code",
   "execution_count": 12,
   "metadata": {},
   "outputs": [],
   "source": [
    "from keras.models import Sequential\n",
    "from keras.layers import Dense, Dropout, BatchNormalization, Activation\n",
    "from sklearn.model_selection import train_test_split\n",
    "from sklearn.metrics import mean_squared_error"
   ]
  },
  {
   "cell_type": "code",
   "execution_count": 14,
   "metadata": {},
   "outputs": [
    {
     "name": "stderr",
     "output_type": "stream",
     "text": [
      "[I 2025-02-09 19:45:30,500] A new study created in memory with name: no-name-ec9c3e85-003c-4bfb-89d2-d45d101a94fd\n"
     ]
    },
    {
     "name": "stdout",
     "output_type": "stream",
     "text": [
      "2/2 [==============================] - 0s 3ms/step\n"
     ]
    },
    {
     "name": "stderr",
     "output_type": "stream",
     "text": [
      "[I 2025-02-09 19:45:35,472] Trial 0 finished with value: 261.3559385394974 and parameters: {'units1': 70, 'dropout1': 0.13545547316555448, 'units2': 173, 'dropout2': 0.22887818451245923}. Best is trial 0 with value: 261.3559385394974.\n"
     ]
    },
    {
     "name": "stdout",
     "output_type": "stream",
     "text": [
      "2/2 [==============================] - 0s 2ms/step\n"
     ]
    },
    {
     "name": "stderr",
     "output_type": "stream",
     "text": [
      "[I 2025-02-09 19:45:39,834] Trial 1 finished with value: 150.36273156228097 and parameters: {'units1': 40, 'dropout1': 0.1639233234678018, 'units2': 133, 'dropout2': 0.1356814934961966}. Best is trial 1 with value: 150.36273156228097.\n"
     ]
    },
    {
     "name": "stdout",
     "output_type": "stream",
     "text": [
      "2/2 [==============================] - 0s 3ms/step\n"
     ]
    },
    {
     "name": "stderr",
     "output_type": "stream",
     "text": [
      "[I 2025-02-09 19:45:44,561] Trial 2 finished with value: 259.4841255835191 and parameters: {'units1': 34, 'dropout1': 0.47268636705435974, 'units2': 200, 'dropout2': 0.1732033408915602}. Best is trial 1 with value: 150.36273156228097.\n"
     ]
    },
    {
     "name": "stdout",
     "output_type": "stream",
     "text": [
      "WARNING:tensorflow:5 out of the last 9 calls to <function Model.make_predict_function.<locals>.predict_function at 0x1664d53f0> triggered tf.function retracing. Tracing is expensive and the excessive number of tracings could be due to (1) creating @tf.function repeatedly in a loop, (2) passing tensors with different shapes, (3) passing Python objects instead of tensors. For (1), please define your @tf.function outside of the loop. For (2), @tf.function has reduce_retracing=True option that can avoid unnecessary retracing. For (3), please refer to https://www.tensorflow.org/guide/function#controlling_retracing and https://www.tensorflow.org/api_docs/python/tf/function for  more details.\n",
      "2/2 [==============================] - 0s 4ms/step\n"
     ]
    },
    {
     "name": "stderr",
     "output_type": "stream",
     "text": [
      "[I 2025-02-09 19:45:49,593] Trial 3 finished with value: 257.6907495244266 and parameters: {'units1': 105, 'dropout1': 0.32692363881345887, 'units2': 66, 'dropout2': 0.46165731038580016}. Best is trial 1 with value: 150.36273156228097.\n"
     ]
    },
    {
     "name": "stdout",
     "output_type": "stream",
     "text": [
      "WARNING:tensorflow:6 out of the last 11 calls to <function Model.make_predict_function.<locals>.predict_function at 0x3114784c0> triggered tf.function retracing. Tracing is expensive and the excessive number of tracings could be due to (1) creating @tf.function repeatedly in a loop, (2) passing tensors with different shapes, (3) passing Python objects instead of tensors. For (1), please define your @tf.function outside of the loop. For (2), @tf.function has reduce_retracing=True option that can avoid unnecessary retracing. For (3), please refer to https://www.tensorflow.org/guide/function#controlling_retracing and https://www.tensorflow.org/api_docs/python/tf/function for  more details.\n",
      "2/2 [==============================] - 0s 3ms/step\n"
     ]
    },
    {
     "name": "stderr",
     "output_type": "stream",
     "text": [
      "[I 2025-02-09 19:45:55,262] Trial 4 finished with value: 166.4302933581232 and parameters: {'units1': 203, 'dropout1': 0.41433320460805984, 'units2': 67, 'dropout2': 0.12187779626498246}. Best is trial 1 with value: 150.36273156228097.\n"
     ]
    },
    {
     "name": "stdout",
     "output_type": "stream",
     "text": [
      "2/2 [==============================] - 0s 3ms/step\n"
     ]
    },
    {
     "name": "stderr",
     "output_type": "stream",
     "text": [
      "[I 2025-02-09 19:46:01,850] Trial 5 finished with value: 250.7989284215006 and parameters: {'units1': 241, 'dropout1': 0.37609322489896146, 'units2': 234, 'dropout2': 0.44668039182445357}. Best is trial 1 with value: 150.36273156228097.\n"
     ]
    },
    {
     "name": "stdout",
     "output_type": "stream",
     "text": [
      "2/2 [==============================] - 0s 5ms/step\n"
     ]
    },
    {
     "name": "stderr",
     "output_type": "stream",
     "text": [
      "[I 2025-02-09 19:46:08,249] Trial 6 finished with value: 274.2228002677824 and parameters: {'units1': 229, 'dropout1': 0.3319044059071537, 'units2': 193, 'dropout2': 0.3645551878142285}. Best is trial 1 with value: 150.36273156228097.\n"
     ]
    },
    {
     "name": "stdout",
     "output_type": "stream",
     "text": [
      "2/2 [==============================] - 0s 4ms/step\n"
     ]
    },
    {
     "name": "stderr",
     "output_type": "stream",
     "text": [
      "[I 2025-02-09 19:46:13,828] Trial 7 finished with value: 212.56669548921462 and parameters: {'units1': 130, 'dropout1': 0.22361242609194576, 'units2': 37, 'dropout2': 0.3825075628625182}. Best is trial 1 with value: 150.36273156228097.\n"
     ]
    },
    {
     "name": "stdout",
     "output_type": "stream",
     "text": [
      "2/2 [==============================] - 0s 2ms/step\n"
     ]
    },
    {
     "name": "stderr",
     "output_type": "stream",
     "text": [
      "[I 2025-02-09 19:46:19,569] Trial 8 finished with value: 203.38501219722048 and parameters: {'units1': 201, 'dropout1': 0.12423198792315647, 'units2': 144, 'dropout2': 0.15251003845674593}. Best is trial 1 with value: 150.36273156228097.\n"
     ]
    },
    {
     "name": "stdout",
     "output_type": "stream",
     "text": [
      "2/2 [==============================] - 0s 3ms/step\n"
     ]
    },
    {
     "name": "stderr",
     "output_type": "stream",
     "text": [
      "[I 2025-02-09 19:46:25,001] Trial 9 finished with value: 148.35505988552842 and parameters: {'units1': 152, 'dropout1': 0.35948061302536954, 'units2': 206, 'dropout2': 0.21903247224880645}. Best is trial 9 with value: 148.35505988552842.\n"
     ]
    },
    {
     "name": "stdout",
     "output_type": "stream",
     "text": [
      "2/2 [==============================] - 0s 4ms/step\n"
     ]
    },
    {
     "name": "stderr",
     "output_type": "stream",
     "text": [
      "[I 2025-02-09 19:46:29,704] Trial 10 finished with value: 163.49664383667616 and parameters: {'units1': 160, 'dropout1': 0.2486593833082847, 'units2': 248, 'dropout2': 0.30276307674168096}. Best is trial 9 with value: 148.35505988552842.\n"
     ]
    },
    {
     "name": "stdout",
     "output_type": "stream",
     "text": [
      "2/2 [==============================] - 0s 2ms/step\n"
     ]
    },
    {
     "name": "stderr",
     "output_type": "stream",
     "text": [
      "[I 2025-02-09 19:46:34,619] Trial 11 finished with value: 210.7887533217609 and parameters: {'units1': 166, 'dropout1': 0.2276687869201292, 'units2': 121, 'dropout2': 0.22940878549297702}. Best is trial 9 with value: 148.35505988552842.\n"
     ]
    },
    {
     "name": "stdout",
     "output_type": "stream",
     "text": [
      "2/2 [==============================] - 0s 2ms/step\n"
     ]
    },
    {
     "name": "stderr",
     "output_type": "stream",
     "text": [
      "[I 2025-02-09 19:46:38,996] Trial 12 finished with value: 228.25355968449054 and parameters: {'units1': 97, 'dropout1': 0.1904809893831521, 'units2': 121, 'dropout2': 0.22321902001778685}. Best is trial 9 with value: 148.35505988552842.\n"
     ]
    },
    {
     "name": "stdout",
     "output_type": "stream",
     "text": [
      "2/2 [==============================] - 0s 3ms/step\n"
     ]
    },
    {
     "name": "stderr",
     "output_type": "stream",
     "text": [
      "[I 2025-02-09 19:46:43,156] Trial 13 finished with value: 177.21183061556772 and parameters: {'units1': 56, 'dropout1': 0.4379933206322079, 'units2': 165, 'dropout2': 0.2789782921670802}. Best is trial 9 with value: 148.35505988552842.\n"
     ]
    },
    {
     "name": "stdout",
     "output_type": "stream",
     "text": [
      "2/2 [==============================] - 0s 3ms/step\n"
     ]
    },
    {
     "name": "stderr",
     "output_type": "stream",
     "text": [
      "[I 2025-02-09 19:46:48,413] Trial 14 finished with value: 191.64870959068705 and parameters: {'units1': 131, 'dropout1': 0.2860890073301616, 'units2': 105, 'dropout2': 0.11994426813774853}. Best is trial 9 with value: 148.35505988552842.\n"
     ]
    },
    {
     "name": "stdout",
     "output_type": "stream",
     "text": [
      "2/2 [==============================] - 0s 2ms/step\n"
     ]
    },
    {
     "name": "stderr",
     "output_type": "stream",
     "text": [
      "[I 2025-02-09 19:46:53,759] Trial 15 finished with value: 193.37675863990586 and parameters: {'units1': 93, 'dropout1': 0.36858533101247615, 'units2': 217, 'dropout2': 0.17785429832568367}. Best is trial 9 with value: 148.35505988552842.\n"
     ]
    },
    {
     "name": "stdout",
     "output_type": "stream",
     "text": [
      "2/2 [==============================] - 0s 3ms/step\n"
     ]
    },
    {
     "name": "stderr",
     "output_type": "stream",
     "text": [
      "[I 2025-02-09 19:46:59,619] Trial 16 finished with value: 145.37172084702445 and parameters: {'units1': 184, 'dropout1': 0.1807669410977461, 'units2': 157, 'dropout2': 0.10281167771651373}. Best is trial 16 with value: 145.37172084702445.\n"
     ]
    },
    {
     "name": "stdout",
     "output_type": "stream",
     "text": [
      "2/2 [==============================] - 0s 4ms/step\n"
     ]
    },
    {
     "name": "stderr",
     "output_type": "stream",
     "text": [
      "[I 2025-02-09 19:47:05,401] Trial 17 finished with value: 161.80825951260212 and parameters: {'units1': 186, 'dropout1': 0.2876988229266483, 'units2': 171, 'dropout2': 0.3066796237667085}. Best is trial 16 with value: 145.37172084702445.\n"
     ]
    },
    {
     "name": "stdout",
     "output_type": "stream",
     "text": [
      "2/2 [==============================] - 0s 4ms/step\n"
     ]
    },
    {
     "name": "stderr",
     "output_type": "stream",
     "text": [
      "[I 2025-02-09 19:47:10,499] Trial 18 finished with value: 179.4438606823607 and parameters: {'units1': 153, 'dropout1': 0.4930958738344735, 'units2': 211, 'dropout2': 0.19738437077561888}. Best is trial 16 with value: 145.37172084702445.\n"
     ]
    },
    {
     "name": "stdout",
     "output_type": "stream",
     "text": [
      "2/2 [==============================] - 0s 3ms/step\n"
     ]
    },
    {
     "name": "stderr",
     "output_type": "stream",
     "text": [
      "[I 2025-02-09 19:47:15,520] Trial 19 finished with value: 249.95028231998987 and parameters: {'units1': 182, 'dropout1': 0.1025590738815407, 'units2': 94, 'dropout2': 0.10225288884935996}. Best is trial 16 with value: 145.37172084702445.\n"
     ]
    },
    {
     "name": "stdout",
     "output_type": "stream",
     "text": [
      "2/2 [==============================] - 0s 3ms/step\n"
     ]
    },
    {
     "name": "stderr",
     "output_type": "stream",
     "text": [
      "[I 2025-02-09 19:47:20,461] Trial 20 finished with value: 156.33160982621945 and parameters: {'units1': 210, 'dropout1': 0.25716973654569136, 'units2': 153, 'dropout2': 0.26680263666376275}. Best is trial 16 with value: 145.37172084702445.\n"
     ]
    },
    {
     "name": "stdout",
     "output_type": "stream",
     "text": [
      "2/2 [==============================] - 0s 2ms/step\n"
     ]
    },
    {
     "name": "stderr",
     "output_type": "stream",
     "text": [
      "[I 2025-02-09 19:47:24,794] Trial 21 finished with value: 173.31487097350603 and parameters: {'units1': 125, 'dropout1': 0.1709780499304834, 'units2': 183, 'dropout2': 0.1541909624773695}. Best is trial 16 with value: 145.37172084702445.\n"
     ]
    },
    {
     "name": "stdout",
     "output_type": "stream",
     "text": [
      "2/2 [==============================] - 0s 5ms/step\n"
     ]
    },
    {
     "name": "stderr",
     "output_type": "stream",
     "text": [
      "[I 2025-02-09 19:47:29,847] Trial 22 finished with value: 215.70404176844255 and parameters: {'units1': 174, 'dropout1': 0.17577953933020185, 'units2': 127, 'dropout2': 0.14078427757109535}. Best is trial 16 with value: 145.37172084702445.\n"
     ]
    },
    {
     "name": "stdout",
     "output_type": "stream",
     "text": [
      "2/2 [==============================] - 0s 2ms/step\n"
     ]
    },
    {
     "name": "stderr",
     "output_type": "stream",
     "text": [
      "[I 2025-02-09 19:47:34,344] Trial 23 finished with value: 231.93059541913257 and parameters: {'units1': 140, 'dropout1': 0.1512836334107865, 'units2': 146, 'dropout2': 0.19919082501299085}. Best is trial 16 with value: 145.37172084702445.\n"
     ]
    },
    {
     "name": "stdout",
     "output_type": "stream",
     "text": [
      "2/2 [==============================] - 0s 2ms/step\n"
     ]
    },
    {
     "name": "stderr",
     "output_type": "stream",
     "text": [
      "[I 2025-02-09 19:47:38,566] Trial 24 finished with value: 211.2664355162696 and parameters: {'units1': 112, 'dropout1': 0.20002023543688618, 'units2': 226, 'dropout2': 0.10098092125610808}. Best is trial 16 with value: 145.37172084702445.\n"
     ]
    },
    {
     "name": "stdout",
     "output_type": "stream",
     "text": [
      "2/2 [==============================] - 0s 2ms/step\n"
     ]
    },
    {
     "name": "stderr",
     "output_type": "stream",
     "text": [
      "[I 2025-02-09 19:47:43,202] Trial 25 finished with value: 203.40919008017616 and parameters: {'units1': 83, 'dropout1': 0.37359675882292026, 'units2': 88, 'dropout2': 0.13975104459289664}. Best is trial 16 with value: 145.37172084702445.\n"
     ]
    },
    {
     "name": "stdout",
     "output_type": "stream",
     "text": [
      "2/2 [==============================] - 0s 2ms/step\n"
     ]
    },
    {
     "name": "stderr",
     "output_type": "stream",
     "text": [
      "[I 2025-02-09 19:47:48,134] Trial 26 finished with value: 217.69306873752612 and parameters: {'units1': 253, 'dropout1': 0.3209589181380914, 'units2': 130, 'dropout2': 0.25418049377012236}. Best is trial 16 with value: 145.37172084702445.\n"
     ]
    },
    {
     "name": "stdout",
     "output_type": "stream",
     "text": [
      "2/2 [==============================] - 0s 2ms/step\n"
     ]
    },
    {
     "name": "stderr",
     "output_type": "stream",
     "text": [
      "[I 2025-02-09 19:47:51,734] Trial 27 finished with value: 315.94626164123747 and parameters: {'units1': 32, 'dropout1': 0.2560232214376966, 'units2': 160, 'dropout2': 0.18067752893576405}. Best is trial 16 with value: 145.37172084702445.\n"
     ]
    },
    {
     "name": "stdout",
     "output_type": "stream",
     "text": [
      "2/2 [==============================] - 0s 3ms/step\n"
     ]
    },
    {
     "name": "stderr",
     "output_type": "stream",
     "text": [
      "[I 2025-02-09 19:47:56,379] Trial 28 finished with value: 157.61623981520037 and parameters: {'units1': 148, 'dropout1': 0.21759181651813253, 'units2': 202, 'dropout2': 0.21104903283546478}. Best is trial 16 with value: 145.37172084702445.\n"
     ]
    },
    {
     "name": "stdout",
     "output_type": "stream",
     "text": [
      "2/2 [==============================] - 0s 2ms/step\n"
     ]
    },
    {
     "name": "stderr",
     "output_type": "stream",
     "text": [
      "[I 2025-02-09 19:48:00,324] Trial 29 finished with value: 360.0308696552759 and parameters: {'units1': 70, 'dropout1': 0.1409763157612116, 'units2': 178, 'dropout2': 0.24809483709577804}. Best is trial 16 with value: 145.37172084702445.\n"
     ]
    },
    {
     "name": "stdout",
     "output_type": "stream",
     "text": [
      "2/2 [==============================] - 0s 3ms/step\n"
     ]
    },
    {
     "name": "stderr",
     "output_type": "stream",
     "text": [
      "[I 2025-02-09 19:48:05,443] Trial 30 finished with value: 214.1885336234024 and parameters: {'units1': 228, 'dropout1': 0.1079080059397233, 'units2': 249, 'dropout2': 0.33916674899718685}. Best is trial 16 with value: 145.37172084702445.\n"
     ]
    },
    {
     "name": "stdout",
     "output_type": "stream",
     "text": [
      "2/2 [==============================] - 0s 3ms/step\n"
     ]
    },
    {
     "name": "stderr",
     "output_type": "stream",
     "text": [
      "[I 2025-02-09 19:48:10,253] Trial 31 finished with value: 267.1664775607366 and parameters: {'units1': 198, 'dropout1': 0.25963630453735687, 'units2': 159, 'dropout2': 0.2686027989791743}. Best is trial 16 with value: 145.37172084702445.\n"
     ]
    },
    {
     "name": "stdout",
     "output_type": "stream",
     "text": [
      "2/2 [==============================] - 0s 5ms/step\n"
     ]
    },
    {
     "name": "stderr",
     "output_type": "stream",
     "text": [
      "[I 2025-02-09 19:48:16,194] Trial 32 finished with value: 189.86180442807532 and parameters: {'units1': 212, 'dropout1': 0.15753343077817777, 'units2': 151, 'dropout2': 0.3266523911062465}. Best is trial 16 with value: 145.37172084702445.\n"
     ]
    },
    {
     "name": "stdout",
     "output_type": "stream",
     "text": [
      "2/2 [==============================] - 0s 18ms/step\n"
     ]
    },
    {
     "name": "stderr",
     "output_type": "stream",
     "text": [
      "[I 2025-02-09 19:48:22,195] Trial 33 finished with value: 227.38841244315395 and parameters: {'units1': 188, 'dropout1': 0.30275078033695807, 'units2': 134, 'dropout2': 0.16650594390638118}. Best is trial 16 with value: 145.37172084702445.\n"
     ]
    },
    {
     "name": "stdout",
     "output_type": "stream",
     "text": [
      "2/2 [==============================] - 0s 3ms/step\n"
     ]
    },
    {
     "name": "stderr",
     "output_type": "stream",
     "text": [
      "[I 2025-02-09 19:48:28,347] Trial 34 finished with value: 189.30389670235442 and parameters: {'units1': 218, 'dropout1': 0.20118247003874823, 'units2': 189, 'dropout2': 0.24874164575519242}. Best is trial 16 with value: 145.37172084702445.\n"
     ]
    },
    {
     "name": "stdout",
     "output_type": "stream",
     "text": [
      "2/2 [==============================] - 0s 2ms/step\n"
     ]
    },
    {
     "name": "stderr",
     "output_type": "stream",
     "text": [
      "[I 2025-02-09 19:48:32,957] Trial 35 finished with value: 185.03740491600152 and parameters: {'units1': 54, 'dropout1': 0.40783663963648376, 'units2': 111, 'dropout2': 0.1223966099778445}. Best is trial 16 with value: 145.37172084702445.\n"
     ]
    },
    {
     "name": "stdout",
     "output_type": "stream",
     "text": [
      "2/2 [==============================] - 0s 4ms/step\n"
     ]
    },
    {
     "name": "stderr",
     "output_type": "stream",
     "text": [
      "[I 2025-02-09 19:48:38,410] Trial 36 finished with value: 163.99478986477277 and parameters: {'units1': 170, 'dropout1': 0.34523088937419827, 'units2': 174, 'dropout2': 0.41040433597961856}. Best is trial 16 with value: 145.37172084702445.\n"
     ]
    },
    {
     "name": "stdout",
     "output_type": "stream",
     "text": [
      "2/2 [==============================] - 0s 2ms/step\n"
     ]
    },
    {
     "name": "stderr",
     "output_type": "stream",
     "text": [
      "[I 2025-02-09 19:48:43,086] Trial 37 finished with value: 192.74364475254248 and parameters: {'units1': 120, 'dropout1': 0.2654062253279917, 'units2': 82, 'dropout2': 0.280407372776742}. Best is trial 16 with value: 145.37172084702445.\n"
     ]
    },
    {
     "name": "stdout",
     "output_type": "stream",
     "text": [
      "2/2 [==============================] - 0s 6ms/step\n"
     ]
    },
    {
     "name": "stderr",
     "output_type": "stream",
     "text": [
      "[I 2025-02-09 19:48:48,084] Trial 38 finished with value: 161.04264032986106 and parameters: {'units1': 213, 'dropout1': 0.40291005182952555, 'units2': 138, 'dropout2': 0.19329215534098532}. Best is trial 16 with value: 145.37172084702445.\n"
     ]
    },
    {
     "name": "stdout",
     "output_type": "stream",
     "text": [
      "2/2 [==============================] - 0s 3ms/step\n"
     ]
    },
    {
     "name": "stderr",
     "output_type": "stream",
     "text": [
      "[I 2025-02-09 19:48:53,144] Trial 39 finished with value: 291.82767365720554 and parameters: {'units1': 232, 'dropout1': 0.23630840394160638, 'units2': 202, 'dropout2': 0.13189200071206175}. Best is trial 16 with value: 145.37172084702445.\n"
     ]
    },
    {
     "name": "stdout",
     "output_type": "stream",
     "text": [
      "2/2 [==============================] - 0s 6ms/step\n"
     ]
    },
    {
     "name": "stderr",
     "output_type": "stream",
     "text": [
      "[I 2025-02-09 19:48:58,244] Trial 40 finished with value: 146.86781475007743 and parameters: {'units1': 194, 'dropout1': 0.3549424210399923, 'units2': 153, 'dropout2': 0.22972684704389368}. Best is trial 16 with value: 145.37172084702445.\n"
     ]
    },
    {
     "name": "stdout",
     "output_type": "stream",
     "text": [
      "2/2 [==============================] - 0s 2ms/step\n"
     ]
    },
    {
     "name": "stderr",
     "output_type": "stream",
     "text": [
      "[I 2025-02-09 19:49:03,330] Trial 41 finished with value: 266.79579341873335 and parameters: {'units1': 201, 'dropout1': 0.3499387617342009, 'units2': 104, 'dropout2': 0.2303270387399569}. Best is trial 16 with value: 145.37172084702445.\n"
     ]
    },
    {
     "name": "stdout",
     "output_type": "stream",
     "text": [
      "2/2 [==============================] - 0s 4ms/step\n"
     ]
    },
    {
     "name": "stderr",
     "output_type": "stream",
     "text": [
      "[I 2025-02-09 19:49:09,766] Trial 42 finished with value: 268.78734069526894 and parameters: {'units1': 192, 'dropout1': 0.4251656168274577, 'units2': 152, 'dropout2': 0.16478600194445356}. Best is trial 16 with value: 145.37172084702445.\n"
     ]
    },
    {
     "name": "stdout",
     "output_type": "stream",
     "text": [
      "2/2 [==============================] - 0s 4ms/step\n"
     ]
    },
    {
     "name": "stderr",
     "output_type": "stream",
     "text": [
      "[I 2025-02-09 19:49:15,450] Trial 43 finished with value: 251.88968457871997 and parameters: {'units1': 177, 'dropout1': 0.31222745171588573, 'units2': 114, 'dropout2': 0.2250327299907988}. Best is trial 16 with value: 145.37172084702445.\n"
     ]
    },
    {
     "name": "stdout",
     "output_type": "stream",
     "text": [
      "2/2 [==============================] - 0s 3ms/step\n"
     ]
    },
    {
     "name": "stderr",
     "output_type": "stream",
     "text": [
      "[I 2025-02-09 19:49:19,882] Trial 44 finished with value: 367.84068468538044 and parameters: {'units1': 157, 'dropout1': 0.3928630317366863, 'units2': 40, 'dropout2': 0.49973148607376194}. Best is trial 16 with value: 145.37172084702445.\n"
     ]
    },
    {
     "name": "stdout",
     "output_type": "stream",
     "text": [
      "2/2 [==============================] - 0s 2ms/step\n"
     ]
    },
    {
     "name": "stderr",
     "output_type": "stream",
     "text": [
      "[I 2025-02-09 19:49:24,071] Trial 45 finished with value: 163.4627927797106 and parameters: {'units1': 138, 'dropout1': 0.342896021472503, 'units2': 143, 'dropout2': 0.2958226783076028}. Best is trial 16 with value: 145.37172084702445.\n"
     ]
    },
    {
     "name": "stdout",
     "output_type": "stream",
     "text": [
      "2/2 [==============================] - 0s 3ms/step\n"
     ]
    },
    {
     "name": "stderr",
     "output_type": "stream",
     "text": [
      "[I 2025-02-09 19:49:28,891] Trial 46 finished with value: 320.4644880543992 and parameters: {'units1': 243, 'dropout1': 0.27644658705901154, 'units2': 238, 'dropout2': 0.21161434306253893}. Best is trial 16 with value: 145.37172084702445.\n"
     ]
    },
    {
     "name": "stdout",
     "output_type": "stream",
     "text": [
      "2/2 [==============================] - 0s 2ms/step\n"
     ]
    },
    {
     "name": "stderr",
     "output_type": "stream",
     "text": [
      "[I 2025-02-09 19:49:33,464] Trial 47 finished with value: 173.0064056008601 and parameters: {'units1': 165, 'dropout1': 0.12478292704228022, 'units2': 165, 'dropout2': 0.2614913409069393}. Best is trial 16 with value: 145.37172084702445.\n"
     ]
    },
    {
     "name": "stdout",
     "output_type": "stream",
     "text": [
      "2/2 [==============================] - 0s 3ms/step\n"
     ]
    },
    {
     "name": "stderr",
     "output_type": "stream",
     "text": [
      "[I 2025-02-09 19:49:38,343] Trial 48 finished with value: 255.12699144907032 and parameters: {'units1': 222, 'dropout1': 0.43914785698453296, 'units2': 188, 'dropout2': 0.1159100367298365}. Best is trial 16 with value: 145.37172084702445.\n"
     ]
    },
    {
     "name": "stdout",
     "output_type": "stream",
     "text": [
      "2/2 [==============================] - 0s 3ms/step\n"
     ]
    },
    {
     "name": "stderr",
     "output_type": "stream",
     "text": [
      "[I 2025-02-09 19:49:42,187] Trial 49 finished with value: 191.80672931367383 and parameters: {'units1': 51, 'dropout1': 0.3591776225146169, 'units2': 153, 'dropout2': 0.23905070387973956}. Best is trial 16 with value: 145.37172084702445.\n"
     ]
    },
    {
     "name": "stdout",
     "output_type": "stream",
     "text": [
      "2/2 [==============================] - 0s 3ms/step\n"
     ]
    },
    {
     "name": "stderr",
     "output_type": "stream",
     "text": [
      "[I 2025-02-09 19:49:47,129] Trial 50 finished with value: 211.65787979262626 and parameters: {'units1': 206, 'dropout1': 0.38466657727611775, 'units2': 122, 'dropout2': 0.15470243109972168}. Best is trial 16 with value: 145.37172084702445.\n"
     ]
    },
    {
     "name": "stdout",
     "output_type": "stream",
     "text": [
      "2/2 [==============================] - 0s 3ms/step\n"
     ]
    },
    {
     "name": "stderr",
     "output_type": "stream",
     "text": [
      "[I 2025-02-09 19:49:51,689] Trial 51 finished with value: 162.3331812203123 and parameters: {'units1': 150, 'dropout1': 0.2352191068238541, 'units2': 199, 'dropout2': 0.1828717224142326}. Best is trial 16 with value: 145.37172084702445.\n"
     ]
    },
    {
     "name": "stdout",
     "output_type": "stream",
     "text": [
      "2/2 [==============================] - 0s 3ms/step\n"
     ]
    },
    {
     "name": "stderr",
     "output_type": "stream",
     "text": [
      "[I 2025-02-09 19:49:56,148] Trial 52 finished with value: 154.61277147735896 and parameters: {'units1': 147, 'dropout1': 0.21497587919097555, 'units2': 217, 'dropout2': 0.20563876061357592}. Best is trial 16 with value: 145.37172084702445.\n"
     ]
    },
    {
     "name": "stdout",
     "output_type": "stream",
     "text": [
      "2/2 [==============================] - 0s 3ms/step\n"
     ]
    },
    {
     "name": "stderr",
     "output_type": "stream",
     "text": [
      "[I 2025-02-09 19:50:00,843] Trial 53 finished with value: 191.30312165149937 and parameters: {'units1': 179, 'dropout1': 0.2138680287154367, 'units2': 235, 'dropout2': 0.21677621296266}. Best is trial 16 with value: 145.37172084702445.\n"
     ]
    },
    {
     "name": "stdout",
     "output_type": "stream",
     "text": [
      "2/2 [==============================] - 0s 3ms/step\n"
     ]
    },
    {
     "name": "stderr",
     "output_type": "stream",
     "text": [
      "[I 2025-02-09 19:50:05,273] Trial 54 finished with value: 221.7873610133495 and parameters: {'units1': 160, 'dropout1': 0.19116094058224095, 'units2': 216, 'dropout2': 0.2821545149528569}. Best is trial 16 with value: 145.37172084702445.\n"
     ]
    },
    {
     "name": "stdout",
     "output_type": "stream",
     "text": [
      "2/2 [==============================] - 0s 3ms/step\n"
     ]
    },
    {
     "name": "stderr",
     "output_type": "stream",
     "text": [
      "[I 2025-02-09 19:50:10,240] Trial 55 finished with value: 168.5417282832769 and parameters: {'units1': 193, 'dropout1': 0.17362329233092544, 'units2': 165, 'dropout2': 0.32022790668484036}. Best is trial 16 with value: 145.37172084702445.\n"
     ]
    },
    {
     "name": "stdout",
     "output_type": "stream",
     "text": [
      "2/2 [==============================] - 0s 3ms/step\n"
     ]
    },
    {
     "name": "stderr",
     "output_type": "stream",
     "text": [
      "[I 2025-02-09 19:50:14,782] Trial 56 finished with value: 241.49605031019698 and parameters: {'units1': 109, 'dropout1': 0.15901215199333515, 'units2': 222, 'dropout2': 0.19451376935009168}. Best is trial 16 with value: 145.37172084702445.\n"
     ]
    },
    {
     "name": "stdout",
     "output_type": "stream",
     "text": [
      "2/2 [==============================] - 0s 5ms/step\n"
     ]
    },
    {
     "name": "stderr",
     "output_type": "stream",
     "text": [
      "[I 2025-02-09 19:50:19,567] Trial 57 finished with value: 220.58869917087756 and parameters: {'units1': 135, 'dropout1': 0.24606173447971325, 'units2': 256, 'dropout2': 0.13893697273223476}. Best is trial 16 with value: 145.37172084702445.\n"
     ]
    },
    {
     "name": "stdout",
     "output_type": "stream",
     "text": [
      "2/2 [==============================] - 0s 2ms/step\n"
     ]
    },
    {
     "name": "stderr",
     "output_type": "stream",
     "text": [
      "[I 2025-02-09 19:50:24,245] Trial 58 finished with value: 214.9973952183724 and parameters: {'units1': 117, 'dropout1': 0.2867510341087596, 'units2': 209, 'dropout2': 0.11056044362040293}. Best is trial 16 with value: 145.37172084702445.\n"
     ]
    },
    {
     "name": "stdout",
     "output_type": "stream",
     "text": [
      "2/2 [==============================] - 0s 4ms/step\n"
     ]
    },
    {
     "name": "stderr",
     "output_type": "stream",
     "text": [
      "[I 2025-02-09 19:50:29,812] Trial 59 finished with value: 245.75668966362355 and parameters: {'units1': 170, 'dropout1': 0.18283004791969876, 'units2': 179, 'dropout2': 0.205463710598719}. Best is trial 16 with value: 145.37172084702445.\n"
     ]
    },
    {
     "name": "stdout",
     "output_type": "stream",
     "text": [
      "2/2 [==============================] - 0s 3ms/step\n"
     ]
    },
    {
     "name": "stderr",
     "output_type": "stream",
     "text": [
      "[I 2025-02-09 19:50:35,596] Trial 60 finished with value: 188.43594579762996 and parameters: {'units1': 141, 'dropout1': 0.14507222162416716, 'units2': 139, 'dropout2': 0.23954388546462438}. Best is trial 16 with value: 145.37172084702445.\n"
     ]
    },
    {
     "name": "stdout",
     "output_type": "stream",
     "text": [
      "2/2 [==============================] - 0s 2ms/step\n"
     ]
    },
    {
     "name": "stderr",
     "output_type": "stream",
     "text": [
      "[I 2025-02-09 19:50:40,261] Trial 61 finished with value: 211.95693882488143 and parameters: {'units1': 149, 'dropout1': 0.21208468543000508, 'units2': 198, 'dropout2': 0.2140371494814086}. Best is trial 16 with value: 145.37172084702445.\n"
     ]
    },
    {
     "name": "stdout",
     "output_type": "stream",
     "text": [
      "2/2 [==============================] - 0s 2ms/step\n"
     ]
    },
    {
     "name": "stderr",
     "output_type": "stream",
     "text": [
      "[I 2025-02-09 19:50:44,795] Trial 62 finished with value: 275.8387538660536 and parameters: {'units1': 129, 'dropout1': 0.22193578120271765, 'units2': 206, 'dropout2': 0.1858235269488167}. Best is trial 16 with value: 145.37172084702445.\n"
     ]
    },
    {
     "name": "stdout",
     "output_type": "stream",
     "text": [
      "2/2 [==============================] - 0s 2ms/step\n"
     ]
    },
    {
     "name": "stderr",
     "output_type": "stream",
     "text": [
      "[I 2025-02-09 19:50:49,301] Trial 63 finished with value: 342.1194718418424 and parameters: {'units1': 145, 'dropout1': 0.20244976125750938, 'units2': 193, 'dropout2': 0.23130098283500392}. Best is trial 16 with value: 145.37172084702445.\n"
     ]
    },
    {
     "name": "stdout",
     "output_type": "stream",
     "text": [
      "2/2 [==============================] - 0s 2ms/step\n"
     ]
    },
    {
     "name": "stderr",
     "output_type": "stream",
     "text": [
      "[I 2025-02-09 19:50:53,444] Trial 64 finished with value: 246.22679227844768 and parameters: {'units1': 98, 'dropout1': 0.33234618762893003, 'units2': 228, 'dropout2': 0.26747891226749504}. Best is trial 16 with value: 145.37172084702445.\n"
     ]
    },
    {
     "name": "stdout",
     "output_type": "stream",
     "text": [
      "2/2 [==============================] - 0s 2ms/step\n"
     ]
    },
    {
     "name": "stderr",
     "output_type": "stream",
     "text": [
      "[I 2025-02-09 19:50:58,035] Trial 65 finished with value: 186.6435092146126 and parameters: {'units1': 182, 'dropout1': 0.16094070079781336, 'units2': 170, 'dropout2': 0.16750852732583016}. Best is trial 16 with value: 145.37172084702445.\n"
     ]
    },
    {
     "name": "stdout",
     "output_type": "stream",
     "text": [
      "2/2 [==============================] - 0s 2ms/step\n"
     ]
    },
    {
     "name": "stderr",
     "output_type": "stream",
     "text": [
      "[I 2025-02-09 19:51:02,546] Trial 66 finished with value: 142.1388981941194 and parameters: {'units1': 161, 'dropout1': 0.24446937635017357, 'units2': 184, 'dropout2': 0.1251445546560688}. Best is trial 66 with value: 142.1388981941194.\n"
     ]
    },
    {
     "name": "stdout",
     "output_type": "stream",
     "text": [
      "2/2 [==============================] - 0s 2ms/step\n"
     ]
    },
    {
     "name": "stderr",
     "output_type": "stream",
     "text": [
      "[I 2025-02-09 19:51:07,252] Trial 67 finished with value: 146.5128478329586 and parameters: {'units1': 207, 'dropout1': 0.27187423488309076, 'units2': 158, 'dropout2': 0.1003645348280339}. Best is trial 66 with value: 142.1388981941194.\n"
     ]
    },
    {
     "name": "stdout",
     "output_type": "stream",
     "text": [
      "2/2 [==============================] - 0s 2ms/step\n"
     ]
    },
    {
     "name": "stderr",
     "output_type": "stream",
     "text": [
      "[I 2025-02-09 19:51:11,609] Trial 68 finished with value: 158.81062571233727 and parameters: {'units1': 157, 'dropout1': 0.2742292589761688, 'units2': 160, 'dropout2': 0.12514158184421134}. Best is trial 66 with value: 142.1388981941194.\n"
     ]
    },
    {
     "name": "stdout",
     "output_type": "stream",
     "text": [
      "2/2 [==============================] - 0s 2ms/step\n"
     ]
    },
    {
     "name": "stderr",
     "output_type": "stream",
     "text": [
      "[I 2025-02-09 19:51:16,071] Trial 69 finished with value: 153.33954912525823 and parameters: {'units1': 164, 'dropout1': 0.3062314232313074, 'units2': 181, 'dropout2': 0.10235304606006343}. Best is trial 66 with value: 142.1388981941194.\n"
     ]
    },
    {
     "name": "stdout",
     "output_type": "stream",
     "text": [
      "2/2 [==============================] - 0s 2ms/step\n"
     ]
    },
    {
     "name": "stderr",
     "output_type": "stream",
     "text": [
      "[I 2025-02-09 19:51:20,718] Trial 70 finished with value: 163.14602028465998 and parameters: {'units1': 187, 'dropout1': 0.2979216210306699, 'units2': 185, 'dropout2': 0.10115230449494866}. Best is trial 66 with value: 142.1388981941194.\n"
     ]
    },
    {
     "name": "stdout",
     "output_type": "stream",
     "text": [
      "2/2 [==============================] - 0s 4ms/step\n"
     ]
    },
    {
     "name": "stderr",
     "output_type": "stream",
     "text": [
      "[I 2025-02-09 19:51:25,447] Trial 71 finished with value: 157.4403813504836 and parameters: {'units1': 166, 'dropout1': 0.31471832313253584, 'units2': 175, 'dropout2': 0.15015990970642243}. Best is trial 66 with value: 142.1388981941194.\n"
     ]
    },
    {
     "name": "stdout",
     "output_type": "stream",
     "text": [
      "2/2 [==============================] - 0s 2ms/step\n"
     ]
    },
    {
     "name": "stderr",
     "output_type": "stream",
     "text": [
      "[I 2025-02-09 19:51:29,984] Trial 72 finished with value: 301.8864876465533 and parameters: {'units1': 194, 'dropout1': 0.23385849796500194, 'units2': 147, 'dropout2': 0.10991290689639849}. Best is trial 66 with value: 142.1388981941194.\n"
     ]
    },
    {
     "name": "stdout",
     "output_type": "stream",
     "text": [
      "2/2 [==============================] - 0s 2ms/step\n"
     ]
    },
    {
     "name": "stderr",
     "output_type": "stream",
     "text": [
      "[I 2025-02-09 19:51:34,350] Trial 73 finished with value: 224.67595191599165 and parameters: {'units1': 173, 'dropout1': 0.3033684047168613, 'units2': 192, 'dropout2': 0.12987579002629057}. Best is trial 66 with value: 142.1388981941194.\n"
     ]
    },
    {
     "name": "stdout",
     "output_type": "stream",
     "text": [
      "2/2 [==============================] - 0s 2ms/step\n"
     ]
    },
    {
     "name": "stderr",
     "output_type": "stream",
     "text": [
      "[I 2025-02-09 19:51:38,716] Trial 74 finished with value: 183.72309019915807 and parameters: {'units1': 166, 'dropout1': 0.36206392602743764, 'units2': 180, 'dropout2': 0.1461026013237638}. Best is trial 66 with value: 142.1388981941194.\n"
     ]
    },
    {
     "name": "stdout",
     "output_type": "stream",
     "text": [
      "2/2 [==============================] - 0s 2ms/step\n"
     ]
    },
    {
     "name": "stderr",
     "output_type": "stream",
     "text": [
      "[I 2025-02-09 19:51:43,092] Trial 75 finished with value: 172.82967739717395 and parameters: {'units1': 160, 'dropout1': 0.2461099692452201, 'units2': 215, 'dropout2': 0.10878036001981096}. Best is trial 66 with value: 142.1388981941194.\n"
     ]
    },
    {
     "name": "stdout",
     "output_type": "stream",
     "text": [
      "2/2 [==============================] - 0s 2ms/step\n"
     ]
    },
    {
     "name": "stderr",
     "output_type": "stream",
     "text": [
      "[I 2025-02-09 19:51:46,792] Trial 76 finished with value: 193.40752409236234 and parameters: {'units1': 45, 'dropout1': 0.27511217171894653, 'units2': 129, 'dropout2': 0.13396028411793173}. Best is trial 66 with value: 142.1388981941194.\n"
     ]
    },
    {
     "name": "stdout",
     "output_type": "stream",
     "text": [
      "2/2 [==============================] - 0s 2ms/step\n"
     ]
    },
    {
     "name": "stderr",
     "output_type": "stream",
     "text": [
      "[I 2025-02-09 19:51:50,786] Trial 77 finished with value: 269.57219037432986 and parameters: {'units1': 82, 'dropout1': 0.32977886315383154, 'units2': 170, 'dropout2': 0.12521052598449708}. Best is trial 66 with value: 142.1388981941194.\n"
     ]
    },
    {
     "name": "stdout",
     "output_type": "stream",
     "text": [
      "2/2 [==============================] - 0s 3ms/step\n"
     ]
    },
    {
     "name": "stderr",
     "output_type": "stream",
     "text": [
      "[I 2025-02-09 19:51:56,117] Trial 78 finished with value: 231.6871283423595 and parameters: {'units1': 205, 'dropout1': 0.13108136528110448, 'units2': 159, 'dropout2': 0.1147719289126473}. Best is trial 66 with value: 142.1388981941194.\n"
     ]
    },
    {
     "name": "stdout",
     "output_type": "stream",
     "text": [
      "2/2 [==============================] - 0s 2ms/step\n"
     ]
    },
    {
     "name": "stderr",
     "output_type": "stream",
     "text": [
      "[I 2025-02-09 19:52:00,858] Trial 79 finished with value: 368.2050635142965 and parameters: {'units1': 183, 'dropout1': 0.1910125745378784, 'units2': 143, 'dropout2': 0.15624369887656503}. Best is trial 66 with value: 142.1388981941194.\n"
     ]
    },
    {
     "name": "stdout",
     "output_type": "stream",
     "text": [
      "2/2 [==============================] - 0s 2ms/step\n"
     ]
    },
    {
     "name": "stderr",
     "output_type": "stream",
     "text": [
      "[I 2025-02-09 19:52:04,997] Trial 80 finished with value: 222.75376346176898 and parameters: {'units1': 153, 'dropout1': 0.2663531580692177, 'units2': 164, 'dropout2': 0.16925538407662674}. Best is trial 66 with value: 142.1388981941194.\n"
     ]
    },
    {
     "name": "stdout",
     "output_type": "stream",
     "text": [
      "2/2 [==============================] - 0s 2ms/step\n"
     ]
    },
    {
     "name": "stderr",
     "output_type": "stream",
     "text": [
      "[I 2025-02-09 19:52:09,558] Trial 81 finished with value: 226.81260386067592 and parameters: {'units1': 209, 'dropout1': 0.25790975282531153, 'units2': 154, 'dropout2': 0.10689844080666597}. Best is trial 66 with value: 142.1388981941194.\n"
     ]
    },
    {
     "name": "stdout",
     "output_type": "stream",
     "text": [
      "2/2 [==============================] - 0s 3ms/step\n"
     ]
    },
    {
     "name": "stderr",
     "output_type": "stream",
     "text": [
      "[I 2025-02-09 19:52:14,545] Trial 82 finished with value: 189.8458276748009 and parameters: {'units1': 218, 'dropout1': 0.22764733535268877, 'units2': 137, 'dropout2': 0.14088281884665668}. Best is trial 66 with value: 142.1388981941194.\n"
     ]
    },
    {
     "name": "stdout",
     "output_type": "stream",
     "text": [
      "2/2 [==============================] - 0s 3ms/step\n"
     ]
    },
    {
     "name": "stderr",
     "output_type": "stream",
     "text": [
      "[I 2025-02-09 19:52:19,286] Trial 83 finished with value: 241.61920778205777 and parameters: {'units1': 197, 'dropout1': 0.2916836439846068, 'units2': 147, 'dropout2': 0.2928508925943481}. Best is trial 66 with value: 142.1388981941194.\n"
     ]
    },
    {
     "name": "stdout",
     "output_type": "stream",
     "text": [
      "2/2 [==============================] - 0s 2ms/step\n"
     ]
    },
    {
     "name": "stderr",
     "output_type": "stream",
     "text": [
      "[I 2025-02-09 19:52:23,989] Trial 84 finished with value: 250.03534165243914 and parameters: {'units1': 228, 'dropout1': 0.38355046135729587, 'units2': 156, 'dropout2': 0.12375411430988062}. Best is trial 66 with value: 142.1388981941194.\n"
     ]
    },
    {
     "name": "stdout",
     "output_type": "stream",
     "text": [
      "2/2 [==============================] - 0s 2ms/step\n"
     ]
    },
    {
     "name": "stderr",
     "output_type": "stream",
     "text": [
      "[I 2025-02-09 19:52:28,600] Trial 85 finished with value: 197.05681310820677 and parameters: {'units1': 175, 'dropout1': 0.24748061707049335, 'units2': 132, 'dropout2': 0.100824346564228}. Best is trial 66 with value: 142.1388981941194.\n"
     ]
    },
    {
     "name": "stdout",
     "output_type": "stream",
     "text": [
      "2/2 [==============================] - 0s 2ms/step\n"
     ]
    },
    {
     "name": "stderr",
     "output_type": "stream",
     "text": [
      "[I 2025-02-09 19:52:33,445] Trial 86 finished with value: 296.3676473694562 and parameters: {'units1': 237, 'dropout1': 0.20151489043756063, 'units2': 186, 'dropout2': 0.2451262242799937}. Best is trial 66 with value: 142.1388981941194.\n"
     ]
    },
    {
     "name": "stdout",
     "output_type": "stream",
     "text": [
      "2/2 [==============================] - 0s 3ms/step\n"
     ]
    },
    {
     "name": "stderr",
     "output_type": "stream",
     "text": [
      "[I 2025-02-09 19:52:37,746] Trial 87 finished with value: 141.74776721059575 and parameters: {'units1': 134, 'dropout1': 0.1824136259832436, 'units2': 125, 'dropout2': 0.2557369180639195}. Best is trial 87 with value: 141.74776721059575.\n"
     ]
    },
    {
     "name": "stdout",
     "output_type": "stream",
     "text": [
      "2/2 [==============================] - 0s 2ms/step\n"
     ]
    },
    {
     "name": "stderr",
     "output_type": "stream",
     "text": [
      "[I 2025-02-09 19:52:41,480] Trial 88 finished with value: 217.05229538660885 and parameters: {'units1': 41, 'dropout1': 0.18162376035173133, 'units2': 123, 'dropout2': 0.1591810796626968}. Best is trial 87 with value: 141.74776721059575.\n"
     ]
    },
    {
     "name": "stdout",
     "output_type": "stream",
     "text": [
      "2/2 [==============================] - 0s 3ms/step\n"
     ]
    },
    {
     "name": "stderr",
     "output_type": "stream",
     "text": [
      "[I 2025-02-09 19:52:45,553] Trial 89 finished with value: 211.3039522251215 and parameters: {'units1': 72, 'dropout1': 0.16642892234068637, 'units2': 242, 'dropout2': 0.3622714562587114}. Best is trial 87 with value: 141.74776721059575.\n"
     ]
    },
    {
     "name": "stdout",
     "output_type": "stream",
     "text": [
      "2/2 [==============================] - 0s 2ms/step\n"
     ]
    },
    {
     "name": "stderr",
     "output_type": "stream",
     "text": [
      "[I 2025-02-09 19:52:49,462] Trial 90 finished with value: 207.89877458636806 and parameters: {'units1': 124, 'dropout1': 0.14565903389135432, 'units2': 104, 'dropout2': 0.11757321455722745}. Best is trial 87 with value: 141.74776721059575.\n"
     ]
    },
    {
     "name": "stdout",
     "output_type": "stream",
     "text": [
      "2/2 [==============================] - 0s 4ms/step\n"
     ]
    },
    {
     "name": "stderr",
     "output_type": "stream",
     "text": [
      "[I 2025-02-09 19:52:54,125] Trial 91 finished with value: 170.2484345765637 and parameters: {'units1': 202, 'dropout1': 0.21362188364981977, 'units2': 140, 'dropout2': 0.23351949663750995}. Best is trial 87 with value: 141.74776721059575.\n"
     ]
    },
    {
     "name": "stdout",
     "output_type": "stream",
     "text": [
      "2/2 [==============================] - 0s 4ms/step\n"
     ]
    },
    {
     "name": "stderr",
     "output_type": "stream",
     "text": [
      "[I 2025-02-09 19:52:58,937] Trial 92 finished with value: 181.08941172722112 and parameters: {'units1': 217, 'dropout1': 0.24004725342327954, 'units2': 114, 'dropout2': 0.2579596090364739}. Best is trial 87 with value: 141.74776721059575.\n"
     ]
    },
    {
     "name": "stdout",
     "output_type": "stream",
     "text": [
      "2/2 [==============================] - 0s 3ms/step\n"
     ]
    },
    {
     "name": "stderr",
     "output_type": "stream",
     "text": [
      "[I 2025-02-09 19:53:03,470] Trial 93 finished with value: 174.830852628637 and parameters: {'units1': 187, 'dropout1': 0.11360787009686184, 'units2': 148, 'dropout2': 0.27336670465118273}. Best is trial 87 with value: 141.74776721059575.\n"
     ]
    },
    {
     "name": "stdout",
     "output_type": "stream",
     "text": [
      "2/2 [==============================] - 0s 5ms/step\n"
     ]
    },
    {
     "name": "stderr",
     "output_type": "stream",
     "text": [
      "[I 2025-02-09 19:53:08,296] Trial 94 finished with value: 206.49710975737298 and parameters: {'units1': 134, 'dropout1': 0.3414718757417402, 'units2': 224, 'dropout2': 0.2529028550329477}. Best is trial 87 with value: 141.74776721059575.\n"
     ]
    },
    {
     "name": "stdout",
     "output_type": "stream",
     "text": [
      "2/2 [==============================] - 0s 3ms/step\n"
     ]
    },
    {
     "name": "stderr",
     "output_type": "stream",
     "text": [
      "[I 2025-02-09 19:53:12,867] Trial 95 finished with value: 271.5129927275723 and parameters: {'units1': 153, 'dropout1': 0.2646803004272042, 'units2': 126, 'dropout2': 0.28642988772929817}. Best is trial 87 with value: 141.74776721059575.\n"
     ]
    },
    {
     "name": "stdout",
     "output_type": "stream",
     "text": [
      "2/2 [==============================] - 0s 2ms/step\n"
     ]
    },
    {
     "name": "stderr",
     "output_type": "stream",
     "text": [
      "[I 2025-02-09 19:53:18,495] Trial 96 finished with value: 183.40637120351238 and parameters: {'units1': 191, 'dropout1': 0.18437474134153137, 'units2': 170, 'dropout2': 0.17591114322453522}. Best is trial 87 with value: 141.74776721059575.\n"
     ]
    },
    {
     "name": "stdout",
     "output_type": "stream",
     "text": [
      "2/2 [==============================] - 0s 3ms/step\n"
     ]
    },
    {
     "name": "stderr",
     "output_type": "stream",
     "text": [
      "[I 2025-02-09 19:53:23,061] Trial 97 finished with value: 171.40207773346114 and parameters: {'units1': 144, 'dropout1': 0.35652228403457614, 'units2': 205, 'dropout2': 0.20407492974290087}. Best is trial 87 with value: 141.74776721059575.\n"
     ]
    },
    {
     "name": "stdout",
     "output_type": "stream",
     "text": [
      "2/2 [==============================] - 0s 2ms/step\n"
     ]
    },
    {
     "name": "stderr",
     "output_type": "stream",
     "text": [
      "[I 2025-02-09 19:53:27,567] Trial 98 finished with value: 222.23371378532542 and parameters: {'units1': 162, 'dropout1': 0.2825905206625082, 'units2': 196, 'dropout2': 0.2414508771122681}. Best is trial 87 with value: 141.74776721059575.\n"
     ]
    },
    {
     "name": "stdout",
     "output_type": "stream",
     "text": [
      "2/2 [==============================] - 0s 2ms/step\n"
     ]
    },
    {
     "name": "stderr",
     "output_type": "stream",
     "text": [
      "[I 2025-02-09 19:53:31,678] Trial 99 finished with value: 157.85152627355737 and parameters: {'units1': 66, 'dropout1': 0.4596259901034381, 'units2': 134, 'dropout2': 0.2238311559140542}. Best is trial 87 with value: 141.74776721059575.\n",
      "[I 2025-02-09 19:53:31,684] A new study created in memory with name: no-name-3081a4a7-a9ba-4188-be46-bbaadca6227d\n"
     ]
    },
    {
     "name": "stdout",
     "output_type": "stream",
     "text": [
      "\n",
      "\n",
      "Glucose (g/L):\n",
      "\n",
      "MSE:  141.74776721059575\n",
      "2/2 [==============================] - 0s 3ms/step\n"
     ]
    },
    {
     "name": "stderr",
     "output_type": "stream",
     "text": [
      "[I 2025-02-09 19:53:36,213] Trial 0 finished with value: 95.35384029493673 and parameters: {'units1': 139, 'dropout1': 0.475593225257469, 'units2': 146, 'dropout2': 0.4558617164566575}. Best is trial 0 with value: 95.35384029493673.\n"
     ]
    },
    {
     "name": "stdout",
     "output_type": "stream",
     "text": [
      "2/2 [==============================] - 0s 2ms/step\n"
     ]
    },
    {
     "name": "stderr",
     "output_type": "stream",
     "text": [
      "[I 2025-02-09 19:53:40,819] Trial 1 finished with value: 114.63131984134357 and parameters: {'units1': 137, 'dropout1': 0.28971519801451695, 'units2': 254, 'dropout2': 0.3923738561681224}. Best is trial 0 with value: 95.35384029493673.\n"
     ]
    },
    {
     "name": "stdout",
     "output_type": "stream",
     "text": [
      "2/2 [==============================] - 0s 3ms/step\n"
     ]
    },
    {
     "name": "stderr",
     "output_type": "stream",
     "text": [
      "[I 2025-02-09 19:53:45,467] Trial 2 finished with value: 120.68680478976881 and parameters: {'units1': 199, 'dropout1': 0.35132037303686814, 'units2': 82, 'dropout2': 0.37503004026141945}. Best is trial 0 with value: 95.35384029493673.\n"
     ]
    },
    {
     "name": "stdout",
     "output_type": "stream",
     "text": [
      "2/2 [==============================] - 0s 2ms/step\n"
     ]
    },
    {
     "name": "stderr",
     "output_type": "stream",
     "text": [
      "[I 2025-02-09 19:53:49,171] Trial 3 finished with value: 118.081546391845 and parameters: {'units1': 55, 'dropout1': 0.27434933250243815, 'units2': 78, 'dropout2': 0.4220926212735794}. Best is trial 0 with value: 95.35384029493673.\n"
     ]
    },
    {
     "name": "stdout",
     "output_type": "stream",
     "text": [
      "2/2 [==============================] - 0s 2ms/step\n"
     ]
    },
    {
     "name": "stderr",
     "output_type": "stream",
     "text": [
      "[I 2025-02-09 19:53:53,267] Trial 4 finished with value: 120.99506630288305 and parameters: {'units1': 93, 'dropout1': 0.12065372297101261, 'units2': 126, 'dropout2': 0.2521876522030296}. Best is trial 0 with value: 95.35384029493673.\n"
     ]
    },
    {
     "name": "stdout",
     "output_type": "stream",
     "text": [
      "2/2 [==============================] - 0s 3ms/step\n"
     ]
    },
    {
     "name": "stderr",
     "output_type": "stream",
     "text": [
      "[I 2025-02-09 19:53:57,866] Trial 5 finished with value: 97.37541426305626 and parameters: {'units1': 217, 'dropout1': 0.26849532647251295, 'units2': 205, 'dropout2': 0.4001620086730562}. Best is trial 0 with value: 95.35384029493673.\n"
     ]
    },
    {
     "name": "stdout",
     "output_type": "stream",
     "text": [
      "2/2 [==============================] - 0s 4ms/step\n"
     ]
    },
    {
     "name": "stderr",
     "output_type": "stream",
     "text": [
      "[I 2025-02-09 19:54:02,480] Trial 6 finished with value: 99.32274166865544 and parameters: {'units1': 190, 'dropout1': 0.38158255901405874, 'units2': 46, 'dropout2': 0.14932836884584844}. Best is trial 0 with value: 95.35384029493673.\n"
     ]
    },
    {
     "name": "stdout",
     "output_type": "stream",
     "text": [
      "2/2 [==============================] - 0s 9ms/step\n"
     ]
    },
    {
     "name": "stderr",
     "output_type": "stream",
     "text": [
      "[I 2025-02-09 19:54:07,557] Trial 7 finished with value: 107.94120107710452 and parameters: {'units1': 160, 'dropout1': 0.15255277065170067, 'units2': 71, 'dropout2': 0.49203224400553086}. Best is trial 0 with value: 95.35384029493673.\n"
     ]
    },
    {
     "name": "stdout",
     "output_type": "stream",
     "text": [
      "2/2 [==============================] - 0s 6ms/step\n"
     ]
    },
    {
     "name": "stderr",
     "output_type": "stream",
     "text": [
      "[I 2025-02-09 19:54:13,404] Trial 8 finished with value: 93.61083244431282 and parameters: {'units1': 90, 'dropout1': 0.30204078479978613, 'units2': 187, 'dropout2': 0.10643108479992032}. Best is trial 8 with value: 93.61083244431282.\n"
     ]
    },
    {
     "name": "stdout",
     "output_type": "stream",
     "text": [
      "2/2 [==============================] - 0s 3ms/step\n"
     ]
    },
    {
     "name": "stderr",
     "output_type": "stream",
     "text": [
      "[I 2025-02-09 19:54:18,590] Trial 9 finished with value: 118.8725629541031 and parameters: {'units1': 254, 'dropout1': 0.276983526393726, 'units2': 170, 'dropout2': 0.3719708460025737}. Best is trial 8 with value: 93.61083244431282.\n"
     ]
    },
    {
     "name": "stdout",
     "output_type": "stream",
     "text": [
      "2/2 [==============================] - 0s 2ms/step\n"
     ]
    },
    {
     "name": "stderr",
     "output_type": "stream",
     "text": [
      "[I 2025-02-09 19:54:22,481] Trial 10 finished with value: 189.89953291499776 and parameters: {'units1': 36, 'dropout1': 0.19138934360716325, 'units2': 218, 'dropout2': 0.12233532213851116}. Best is trial 8 with value: 93.61083244431282.\n"
     ]
    },
    {
     "name": "stdout",
     "output_type": "stream",
     "text": [
      "2/2 [==============================] - 0s 4ms/step\n"
     ]
    },
    {
     "name": "stderr",
     "output_type": "stream",
     "text": [
      "[I 2025-02-09 19:54:26,500] Trial 11 finished with value: 117.93092245049684 and parameters: {'units1': 108, 'dropout1': 0.4950924138283728, 'units2': 139, 'dropout2': 0.2468696226289712}. Best is trial 8 with value: 93.61083244431282.\n"
     ]
    },
    {
     "name": "stdout",
     "output_type": "stream",
     "text": [
      "2/2 [==============================] - 0s 2ms/step\n"
     ]
    },
    {
     "name": "stderr",
     "output_type": "stream",
     "text": [
      "[I 2025-02-09 19:54:30,716] Trial 12 finished with value: 103.94422101622398 and parameters: {'units1': 87, 'dropout1': 0.49709220248987984, 'units2': 174, 'dropout2': 0.18291003768136654}. Best is trial 8 with value: 93.61083244431282.\n"
     ]
    },
    {
     "name": "stdout",
     "output_type": "stream",
     "text": [
      "2/2 [==============================] - 0s 2ms/step\n"
     ]
    },
    {
     "name": "stderr",
     "output_type": "stream",
     "text": [
      "[I 2025-02-09 19:54:34,843] Trial 13 finished with value: 103.74461754671474 and parameters: {'units1': 137, 'dropout1': 0.4127825478264737, 'units2': 116, 'dropout2': 0.2984018118403408}. Best is trial 8 with value: 93.61083244431282.\n"
     ]
    },
    {
     "name": "stdout",
     "output_type": "stream",
     "text": [
      "2/2 [==============================] - 0s 2ms/step\n"
     ]
    },
    {
     "name": "stderr",
     "output_type": "stream",
     "text": [
      "[I 2025-02-09 19:54:39,817] Trial 14 finished with value: 124.54569719042287 and parameters: {'units1': 121, 'dropout1': 0.4439203143715751, 'units2': 169, 'dropout2': 0.4757823231108399}. Best is trial 8 with value: 93.61083244431282.\n"
     ]
    },
    {
     "name": "stdout",
     "output_type": "stream",
     "text": [
      "2/2 [==============================] - 0s 2ms/step\n"
     ]
    },
    {
     "name": "stderr",
     "output_type": "stream",
     "text": [
      "[I 2025-02-09 19:54:43,789] Trial 15 finished with value: 158.80048920081674 and parameters: {'units1': 71, 'dropout1': 0.20356240428703992, 'units2': 197, 'dropout2': 0.20425750055885444}. Best is trial 8 with value: 93.61083244431282.\n"
     ]
    },
    {
     "name": "stdout",
     "output_type": "stream",
     "text": [
      "2/2 [==============================] - 0s 2ms/step\n"
     ]
    },
    {
     "name": "stderr",
     "output_type": "stream",
     "text": [
      "[I 2025-02-09 19:54:48,207] Trial 16 finished with value: 95.51165953562362 and parameters: {'units1': 164, 'dropout1': 0.32901783083230574, 'units2': 245, 'dropout2': 0.32758659015177993}. Best is trial 8 with value: 93.61083244431282.\n"
     ]
    },
    {
     "name": "stdout",
     "output_type": "stream",
     "text": [
      "2/2 [==============================] - 0s 2ms/step\n"
     ]
    },
    {
     "name": "stderr",
     "output_type": "stream",
     "text": [
      "[I 2025-02-09 19:54:52,249] Trial 17 finished with value: 133.26154774017186 and parameters: {'units1': 119, 'dropout1': 0.43184361587573544, 'units2': 111, 'dropout2': 0.4459581749597412}. Best is trial 8 with value: 93.61083244431282.\n"
     ]
    },
    {
     "name": "stdout",
     "output_type": "stream",
     "text": [
      "2/2 [==============================] - 0s 2ms/step\n"
     ]
    },
    {
     "name": "stderr",
     "output_type": "stream",
     "text": [
      "[I 2025-02-09 19:54:55,890] Trial 18 finished with value: 105.38682190423722 and parameters: {'units1': 70, 'dropout1': 0.22597857327925475, 'units2': 156, 'dropout2': 0.3234582504464495}. Best is trial 8 with value: 93.61083244431282.\n"
     ]
    },
    {
     "name": "stdout",
     "output_type": "stream",
     "text": [
      "2/2 [==============================] - 0s 3ms/step\n"
     ]
    },
    {
     "name": "stderr",
     "output_type": "stream",
     "text": [
      "[I 2025-02-09 19:55:00,572] Trial 19 finished with value: 108.03611948911418 and parameters: {'units1': 173, 'dropout1': 0.33916374466811755, 'units2': 228, 'dropout2': 0.27182774877985516}. Best is trial 8 with value: 93.61083244431282.\n"
     ]
    },
    {
     "name": "stdout",
     "output_type": "stream",
     "text": [
      "2/2 [==============================] - 0s 2ms/step\n"
     ]
    },
    {
     "name": "stderr",
     "output_type": "stream",
     "text": [
      "[I 2025-02-09 19:55:04,334] Trial 20 finished with value: 178.93621430235953 and parameters: {'units1': 36, 'dropout1': 0.39141776861589717, 'units2': 188, 'dropout2': 0.2149268547047774}. Best is trial 8 with value: 93.61083244431282.\n"
     ]
    },
    {
     "name": "stdout",
     "output_type": "stream",
     "text": [
      "2/2 [==============================] - 0s 4ms/step\n"
     ]
    },
    {
     "name": "stderr",
     "output_type": "stream",
     "text": [
      "[I 2025-02-09 19:55:09,079] Trial 21 finished with value: 164.51758173346394 and parameters: {'units1': 167, 'dropout1': 0.3302212140355606, 'units2': 243, 'dropout2': 0.32923707609598707}. Best is trial 8 with value: 93.61083244431282.\n"
     ]
    },
    {
     "name": "stdout",
     "output_type": "stream",
     "text": [
      "2/2 [==============================] - 0s 3ms/step\n"
     ]
    },
    {
     "name": "stderr",
     "output_type": "stream",
     "text": [
      "[I 2025-02-09 19:55:13,830] Trial 22 finished with value: 100.45593979801733 and parameters: {'units1': 150, 'dropout1': 0.23641415063223548, 'units2': 227, 'dropout2': 0.3365236294885447}. Best is trial 8 with value: 93.61083244431282.\n"
     ]
    },
    {
     "name": "stdout",
     "output_type": "stream",
     "text": [
      "2/2 [==============================] - 0s 3ms/step\n"
     ]
    },
    {
     "name": "stderr",
     "output_type": "stream",
     "text": [
      "[I 2025-02-09 19:55:18,016] Trial 23 finished with value: 119.6180978963069 and parameters: {'units1': 103, 'dropout1': 0.32151119879125867, 'units2': 156, 'dropout2': 0.10278614204756827}. Best is trial 8 with value: 93.61083244431282.\n"
     ]
    },
    {
     "name": "stdout",
     "output_type": "stream",
     "text": [
      "2/2 [==============================] - 0s 2ms/step\n"
     ]
    },
    {
     "name": "stderr",
     "output_type": "stream",
     "text": [
      "[I 2025-02-09 19:55:22,801] Trial 24 finished with value: 106.45749061967686 and parameters: {'units1': 229, 'dropout1': 0.47030316115050097, 'units2': 188, 'dropout2': 0.15996058774081232}. Best is trial 8 with value: 93.61083244431282.\n"
     ]
    },
    {
     "name": "stdout",
     "output_type": "stream",
     "text": [
      "2/2 [==============================] - 0s 3ms/step\n"
     ]
    },
    {
     "name": "stderr",
     "output_type": "stream",
     "text": [
      "[I 2025-02-09 19:55:27,576] Trial 25 finished with value: 100.13182851901223 and parameters: {'units1': 186, 'dropout1': 0.3764014388007661, 'units2': 103, 'dropout2': 0.4491480901093761}. Best is trial 8 with value: 93.61083244431282.\n"
     ]
    },
    {
     "name": "stdout",
     "output_type": "stream",
     "text": [
      "2/2 [==============================] - 0s 3ms/step\n"
     ]
    },
    {
     "name": "stderr",
     "output_type": "stream",
     "text": [
      "[I 2025-02-09 19:55:31,682] Trial 26 finished with value: 106.06136535504729 and parameters: {'units1': 125, 'dropout1': 0.45719638519369793, 'units2': 136, 'dropout2': 0.36070793057913025}. Best is trial 8 with value: 93.61083244431282.\n"
     ]
    },
    {
     "name": "stdout",
     "output_type": "stream",
     "text": [
      "2/2 [==============================] - 0s 2ms/step\n"
     ]
    },
    {
     "name": "stderr",
     "output_type": "stream",
     "text": [
      "[I 2025-02-09 19:55:36,150] Trial 27 finished with value: 98.15925688993312 and parameters: {'units1': 155, 'dropout1': 0.3111491436941575, 'units2': 215, 'dropout2': 0.2892150190236862}. Best is trial 8 with value: 93.61083244431282.\n"
     ]
    },
    {
     "name": "stdout",
     "output_type": "stream",
     "text": [
      "2/2 [==============================] - 0s 4ms/step\n"
     ]
    },
    {
     "name": "stderr",
     "output_type": "stream",
     "text": [
      "[I 2025-02-09 19:55:40,302] Trial 28 finished with value: 158.68020573818728 and parameters: {'units1': 80, 'dropout1': 0.24766448975987218, 'units2': 239, 'dropout2': 0.230623457861379}. Best is trial 8 with value: 93.61083244431282.\n"
     ]
    },
    {
     "name": "stdout",
     "output_type": "stream",
     "text": [
      "2/2 [==============================] - 0s 3ms/step\n"
     ]
    },
    {
     "name": "stderr",
     "output_type": "stream",
     "text": [
      "[I 2025-02-09 19:55:44,508] Trial 29 finished with value: 97.80827598589717 and parameters: {'units1': 136, 'dropout1': 0.361471426746102, 'units2': 248, 'dropout2': 0.39714060807981943}. Best is trial 8 with value: 93.61083244431282.\n"
     ]
    },
    {
     "name": "stdout",
     "output_type": "stream",
     "text": [
      "2/2 [==============================] - 0s 4ms/step\n"
     ]
    },
    {
     "name": "stderr",
     "output_type": "stream",
     "text": [
      "[I 2025-02-09 19:55:49,491] Trial 30 finished with value: 88.63507083340257 and parameters: {'units1': 207, 'dropout1': 0.30053049571918694, 'units2': 153, 'dropout2': 0.42236772415994916}. Best is trial 30 with value: 88.63507083340257.\n"
     ]
    },
    {
     "name": "stdout",
     "output_type": "stream",
     "text": [
      "2/2 [==============================] - 0s 2ms/step\n"
     ]
    },
    {
     "name": "stderr",
     "output_type": "stream",
     "text": [
      "[I 2025-02-09 19:55:54,793] Trial 31 finished with value: 154.63304369837502 and parameters: {'units1': 213, 'dropout1': 0.3171309894113043, 'units2': 152, 'dropout2': 0.44198156425092494}. Best is trial 30 with value: 88.63507083340257.\n"
     ]
    },
    {
     "name": "stdout",
     "output_type": "stream",
     "text": [
      "2/2 [==============================] - 0s 3ms/step\n"
     ]
    },
    {
     "name": "stderr",
     "output_type": "stream",
     "text": [
      "[I 2025-02-09 19:55:59,422] Trial 32 finished with value: 108.07883878581804 and parameters: {'units1': 237, 'dropout1': 0.2927494754001671, 'units2': 96, 'dropout2': 0.4670996389195146}. Best is trial 30 with value: 88.63507083340257.\n"
     ]
    },
    {
     "name": "stdout",
     "output_type": "stream",
     "text": [
      "2/2 [==============================] - 0s 2ms/step\n"
     ]
    },
    {
     "name": "stderr",
     "output_type": "stream",
     "text": [
      "[I 2025-02-09 19:56:03,803] Trial 33 finished with value: 101.1884194359196 and parameters: {'units1': 179, 'dropout1': 0.4093121083735059, 'units2': 182, 'dropout2': 0.4274531369755716}. Best is trial 30 with value: 88.63507083340257.\n"
     ]
    },
    {
     "name": "stdout",
     "output_type": "stream",
     "text": [
      "2/2 [==============================] - 0s 2ms/step\n"
     ]
    },
    {
     "name": "stderr",
     "output_type": "stream",
     "text": [
      "[I 2025-02-09 19:56:08,371] Trial 34 finished with value: 101.02819175631268 and parameters: {'units1': 202, 'dropout1': 0.3533391880892006, 'units2': 255, 'dropout2': 0.41588540942502894}. Best is trial 30 with value: 88.63507083340257.\n"
     ]
    },
    {
     "name": "stdout",
     "output_type": "stream",
     "text": [
      "2/2 [==============================] - 0s 2ms/step\n"
     ]
    },
    {
     "name": "stderr",
     "output_type": "stream",
     "text": [
      "[I 2025-02-09 19:56:11,998] Trial 35 finished with value: 117.05143746100963 and parameters: {'units1': 51, 'dropout1': 0.25596834244377487, 'units2': 134, 'dropout2': 0.35364814478546464}. Best is trial 30 with value: 88.63507083340257.\n"
     ]
    },
    {
     "name": "stdout",
     "output_type": "stream",
     "text": [
      "2/2 [==============================] - 0s 4ms/step\n"
     ]
    },
    {
     "name": "stderr",
     "output_type": "stream",
     "text": [
      "[I 2025-02-09 19:56:16,753] Trial 36 finished with value: 140.99739913732913 and parameters: {'units1': 196, 'dropout1': 0.2940907908130142, 'units2': 209, 'dropout2': 0.4985784876807958}. Best is trial 30 with value: 88.63507083340257.\n"
     ]
    },
    {
     "name": "stdout",
     "output_type": "stream",
     "text": [
      "2/2 [==============================] - 0s 2ms/step\n"
     ]
    },
    {
     "name": "stderr",
     "output_type": "stream",
     "text": [
      "[I 2025-02-09 19:56:21,056] Trial 37 finished with value: 198.28533722848144 and parameters: {'units1': 145, 'dropout1': 0.15163509981549653, 'units2': 127, 'dropout2': 0.38687062318236476}. Best is trial 30 with value: 88.63507083340257.\n"
     ]
    },
    {
     "name": "stdout",
     "output_type": "stream",
     "text": [
      "2/2 [==============================] - 0s 2ms/step\n"
     ]
    },
    {
     "name": "stderr",
     "output_type": "stream",
     "text": [
      "[I 2025-02-09 19:56:25,212] Trial 38 finished with value: 97.03695425664635 and parameters: {'units1': 103, 'dropout1': 0.27032275846962217, 'units2': 151, 'dropout2': 0.41854290761921276}. Best is trial 30 with value: 88.63507083340257.\n"
     ]
    },
    {
     "name": "stdout",
     "output_type": "stream",
     "text": [
      "2/2 [==============================] - 0s 3ms/step\n"
     ]
    },
    {
     "name": "stderr",
     "output_type": "stream",
     "text": [
      "[I 2025-02-09 19:56:29,427] Trial 39 finished with value: 122.53353251345818 and parameters: {'units1': 207, 'dropout1': 0.219090233644526, 'units2': 33, 'dropout2': 0.4655633013938588}. Best is trial 30 with value: 88.63507083340257.\n"
     ]
    },
    {
     "name": "stdout",
     "output_type": "stream",
     "text": [
      "2/2 [==============================] - 0s 3ms/step\n"
     ]
    },
    {
     "name": "stderr",
     "output_type": "stream",
     "text": [
      "[I 2025-02-09 19:56:34,102] Trial 40 finished with value: 101.139507945753 and parameters: {'units1': 230, 'dropout1': 0.18246989491498497, 'units2': 200, 'dropout2': 0.38230400928655817}. Best is trial 30 with value: 88.63507083340257.\n"
     ]
    },
    {
     "name": "stdout",
     "output_type": "stream",
     "text": [
      "2/2 [==============================] - 0s 3ms/step\n"
     ]
    },
    {
     "name": "stderr",
     "output_type": "stream",
     "text": [
      "[I 2025-02-09 19:56:38,489] Trial 41 finished with value: 140.28905557390235 and parameters: {'units1': 110, 'dropout1': 0.27279876907855094, 'units2': 148, 'dropout2': 0.4149388094833485}. Best is trial 30 with value: 88.63507083340257.\n"
     ]
    },
    {
     "name": "stdout",
     "output_type": "stream",
     "text": [
      "2/2 [==============================] - 0s 4ms/step\n"
     ]
    },
    {
     "name": "stderr",
     "output_type": "stream",
     "text": [
      "[I 2025-02-09 19:56:43,377] Trial 42 finished with value: 133.20871365275977 and parameters: {'units1': 98, 'dropout1': 0.2870291599736213, 'units2': 163, 'dropout2': 0.4077938793692511}. Best is trial 30 with value: 88.63507083340257.\n"
     ]
    },
    {
     "name": "stdout",
     "output_type": "stream",
     "text": [
      "2/2 [==============================] - 0s 2ms/step\n"
     ]
    },
    {
     "name": "stderr",
     "output_type": "stream",
     "text": [
      "[I 2025-02-09 19:56:47,852] Trial 43 finished with value: 97.71955654779957 and parameters: {'units1': 163, 'dropout1': 0.26204462704545656, 'units2': 124, 'dropout2': 0.43246850729395686}. Best is trial 30 with value: 88.63507083340257.\n"
     ]
    },
    {
     "name": "stdout",
     "output_type": "stream",
     "text": [
      "2/2 [==============================] - 0s 2ms/step\n"
     ]
    },
    {
     "name": "stderr",
     "output_type": "stream",
     "text": [
      "[I 2025-02-09 19:56:52,130] Trial 44 finished with value: 109.78632825583038 and parameters: {'units1': 131, 'dropout1': 0.30613872906087014, 'units2': 175, 'dropout2': 0.48221545470468774}. Best is trial 30 with value: 88.63507083340257.\n"
     ]
    },
    {
     "name": "stdout",
     "output_type": "stream",
     "text": [
      "2/2 [==============================] - 0s 2ms/step\n"
     ]
    },
    {
     "name": "stderr",
     "output_type": "stream",
     "text": [
      "[I 2025-02-09 19:56:55,982] Trial 45 finished with value: 87.52518870723353 and parameters: {'units1': 86, 'dropout1': 0.10227507082510923, 'units2': 144, 'dropout2': 0.3120061525727788}. Best is trial 45 with value: 87.52518870723353.\n"
     ]
    },
    {
     "name": "stdout",
     "output_type": "stream",
     "text": [
      "2/2 [==============================] - 0s 2ms/step\n"
     ]
    },
    {
     "name": "stderr",
     "output_type": "stream",
     "text": [
      "[I 2025-02-09 19:56:59,771] Trial 46 finished with value: 163.0277083016633 and parameters: {'units1': 60, 'dropout1': 0.10638084901549297, 'units2': 141, 'dropout2': 0.3095804016974908}. Best is trial 45 with value: 87.52518870723353.\n"
     ]
    },
    {
     "name": "stdout",
     "output_type": "stream",
     "text": [
      "2/2 [==============================] - 0s 2ms/step\n"
     ]
    },
    {
     "name": "stderr",
     "output_type": "stream",
     "text": [
      "[I 2025-02-09 19:57:03,908] Trial 47 finished with value: 126.82574239673393 and parameters: {'units1': 90, 'dropout1': 0.15475395671920025, 'units2': 89, 'dropout2': 0.2774368792864852}. Best is trial 45 with value: 87.52518870723353.\n"
     ]
    },
    {
     "name": "stdout",
     "output_type": "stream",
     "text": [
      "2/2 [==============================] - 0s 2ms/step\n"
     ]
    },
    {
     "name": "stderr",
     "output_type": "stream",
     "text": [
      "[I 2025-02-09 19:57:07,702] Trial 48 finished with value: 102.44474774509303 and parameters: {'units1': 80, 'dropout1': 0.33997042651538756, 'units2': 70, 'dropout2': 0.2517995298801139}. Best is trial 45 with value: 87.52518870723353.\n"
     ]
    },
    {
     "name": "stdout",
     "output_type": "stream",
     "text": [
      "2/2 [==============================] - 0s 2ms/step\n"
     ]
    },
    {
     "name": "stderr",
     "output_type": "stream",
     "text": [
      "[I 2025-02-09 19:57:12,432] Trial 49 finished with value: 117.28060010819301 and parameters: {'units1': 113, 'dropout1': 0.401870418277657, 'units2': 116, 'dropout2': 0.34996076809831905}. Best is trial 45 with value: 87.52518870723353.\n"
     ]
    },
    {
     "name": "stdout",
     "output_type": "stream",
     "text": [
      "2/2 [==============================] - 0s 3ms/step\n"
     ]
    },
    {
     "name": "stderr",
     "output_type": "stream",
     "text": [
      "[I 2025-02-09 19:57:17,139] Trial 50 finished with value: 92.17307843036232 and parameters: {'units1': 251, 'dropout1': 0.43425823549612075, 'units2': 164, 'dropout2': 0.36963316403632757}. Best is trial 45 with value: 87.52518870723353.\n"
     ]
    },
    {
     "name": "stdout",
     "output_type": "stream",
     "text": [
      "2/2 [==============================] - 0s 2ms/step\n"
     ]
    },
    {
     "name": "stderr",
     "output_type": "stream",
     "text": [
      "[I 2025-02-09 19:57:21,996] Trial 51 finished with value: 106.28973549784803 and parameters: {'units1': 246, 'dropout1': 0.4380920170242964, 'units2': 163, 'dropout2': 0.30817347435751763}. Best is trial 45 with value: 87.52518870723353.\n"
     ]
    },
    {
     "name": "stdout",
     "output_type": "stream",
     "text": [
      "2/2 [==============================] - 0s 2ms/step\n"
     ]
    },
    {
     "name": "stderr",
     "output_type": "stream",
     "text": [
      "[I 2025-02-09 19:57:26,888] Trial 52 finished with value: 112.66785850944252 and parameters: {'units1': 254, 'dropout1': 0.4749460586915928, 'units2': 165, 'dropout2': 0.3699839733512896}. Best is trial 45 with value: 87.52518870723353.\n"
     ]
    },
    {
     "name": "stdout",
     "output_type": "stream",
     "text": [
      "2/2 [==============================] - 0s 2ms/step\n"
     ]
    },
    {
     "name": "stderr",
     "output_type": "stream",
     "text": [
      "[I 2025-02-09 19:57:31,885] Trial 53 finished with value: 99.96218423313476 and parameters: {'units1': 219, 'dropout1': 0.3705595776268925, 'units2': 180, 'dropout2': 0.3409561686216421}. Best is trial 45 with value: 87.52518870723353.\n"
     ]
    },
    {
     "name": "stdout",
     "output_type": "stream",
     "text": [
      "2/2 [==============================] - 0s 2ms/step\n"
     ]
    },
    {
     "name": "stderr",
     "output_type": "stream",
     "text": [
      "[I 2025-02-09 19:57:36,412] Trial 54 finished with value: 146.57543127534655 and parameters: {'units1': 188, 'dropout1': 0.4217222489035607, 'units2': 128, 'dropout2': 0.3222254517863443}. Best is trial 45 with value: 87.52518870723353.\n"
     ]
    },
    {
     "name": "stdout",
     "output_type": "stream",
     "text": [
      "2/2 [==============================] - 0s 2ms/step\n"
     ]
    },
    {
     "name": "stderr",
     "output_type": "stream",
     "text": [
      "[I 2025-02-09 19:57:41,096] Trial 55 finished with value: 106.29222960519417 and parameters: {'units1': 171, 'dropout1': 0.49927753127198315, 'units2': 145, 'dropout2': 0.27453128258463655}. Best is trial 45 with value: 87.52518870723353.\n"
     ]
    },
    {
     "name": "stdout",
     "output_type": "stream",
     "text": [
      "2/2 [==============================] - 0s 2ms/step\n"
     ]
    },
    {
     "name": "stderr",
     "output_type": "stream",
     "text": [
      "[I 2025-02-09 19:57:46,153] Trial 56 finished with value: 119.47890666412299 and parameters: {'units1': 242, 'dropout1': 0.4565507059151065, 'units2': 161, 'dropout2': 0.45831500208672854}. Best is trial 45 with value: 87.52518870723353.\n"
     ]
    },
    {
     "name": "stdout",
     "output_type": "stream",
     "text": [
      "2/2 [==============================] - 0s 2ms/step\n"
     ]
    },
    {
     "name": "stderr",
     "output_type": "stream",
     "text": [
      "[I 2025-02-09 19:57:50,855] Trial 57 finished with value: 104.6699604057464 and parameters: {'units1': 221, 'dropout1': 0.39357291487745183, 'units2': 188, 'dropout2': 0.367852773316986}. Best is trial 45 with value: 87.52518870723353.\n"
     ]
    },
    {
     "name": "stdout",
     "output_type": "stream",
     "text": [
      "2/2 [==============================] - 0s 2ms/step\n"
     ]
    },
    {
     "name": "stderr",
     "output_type": "stream",
     "text": [
      "[I 2025-02-09 19:57:54,726] Trial 58 finished with value: 121.17247193448408 and parameters: {'units1': 45, 'dropout1': 0.477762197547434, 'units2': 230, 'dropout2': 0.12705199896820166}. Best is trial 45 with value: 87.52518870723353.\n"
     ]
    },
    {
     "name": "stdout",
     "output_type": "stream",
     "text": [
      "2/2 [==============================] - 0s 3ms/step\n"
     ]
    },
    {
     "name": "stderr",
     "output_type": "stream",
     "text": [
      "[I 2025-02-09 19:57:58,867] Trial 59 finished with value: 113.73249139585118 and parameters: {'units1': 75, 'dropout1': 0.32482829064185403, 'units2': 195, 'dropout2': 0.19190275977634721}. Best is trial 45 with value: 87.52518870723353.\n"
     ]
    },
    {
     "name": "stdout",
     "output_type": "stream",
     "text": [
      "2/2 [==============================] - 0s 2ms/step\n"
     ]
    },
    {
     "name": "stderr",
     "output_type": "stream",
     "text": [
      "[I 2025-02-09 19:58:02,661] Trial 60 finished with value: 125.71789323611164 and parameters: {'units1': 64, 'dropout1': 0.45483531248388037, 'units2': 172, 'dropout2': 0.3942527859594847}. Best is trial 45 with value: 87.52518870723353.\n"
     ]
    },
    {
     "name": "stdout",
     "output_type": "stream",
     "text": [
      "2/2 [==============================] - 0s 2ms/step\n"
     ]
    },
    {
     "name": "stderr",
     "output_type": "stream",
     "text": [
      "[I 2025-02-09 19:58:06,678] Trial 61 finished with value: 126.9745942140794 and parameters: {'units1': 86, 'dropout1': 0.27715460417115195, 'units2': 153, 'dropout2': 0.4283541467569888}. Best is trial 45 with value: 87.52518870723353.\n"
     ]
    },
    {
     "name": "stdout",
     "output_type": "stream",
     "text": [
      "2/2 [==============================] - 0s 3ms/step\n"
     ]
    },
    {
     "name": "stderr",
     "output_type": "stream",
     "text": [
      "[I 2025-02-09 19:58:10,761] Trial 62 finished with value: 106.80305265480163 and parameters: {'units1': 100, 'dropout1': 0.13903540574495532, 'units2': 142, 'dropout2': 0.4074373001587556}. Best is trial 45 with value: 87.52518870723353.\n"
     ]
    },
    {
     "name": "stdout",
     "output_type": "stream",
     "text": [
      "2/2 [==============================] - 0s 3ms/step\n"
     ]
    },
    {
     "name": "stderr",
     "output_type": "stream",
     "text": [
      "[I 2025-02-09 19:58:15,135] Trial 63 finished with value: 95.67819484621461 and parameters: {'units1': 130, 'dropout1': 0.1871396429849668, 'units2': 156, 'dropout2': 0.2946308244470764}. Best is trial 45 with value: 87.52518870723353.\n"
     ]
    },
    {
     "name": "stdout",
     "output_type": "stream",
     "text": [
      "2/2 [==============================] - 0s 4ms/step\n"
     ]
    },
    {
     "name": "stderr",
     "output_type": "stream",
     "text": [
      "[I 2025-02-09 19:58:19,800] Trial 64 finished with value: 113.5855747784877 and parameters: {'units1': 153, 'dropout1': 0.16941227323280825, 'units2': 158, 'dropout2': 0.16640211962668722}. Best is trial 45 with value: 87.52518870723353.\n"
     ]
    },
    {
     "name": "stdout",
     "output_type": "stream",
     "text": [
      "2/2 [==============================] - 0s 2ms/step\n"
     ]
    },
    {
     "name": "stderr",
     "output_type": "stream",
     "text": [
      "[I 2025-02-09 19:58:23,944] Trial 65 finished with value: 99.40906962772044 and parameters: {'units1': 127, 'dropout1': 0.20102137826326594, 'units2': 136, 'dropout2': 0.29285365248372325}. Best is trial 45 with value: 87.52518870723353.\n"
     ]
    },
    {
     "name": "stdout",
     "output_type": "stream",
     "text": [
      "2/2 [==============================] - 0s 2ms/step\n"
     ]
    },
    {
     "name": "stderr",
     "output_type": "stream",
     "text": [
      "[I 2025-02-09 19:58:28,194] Trial 66 finished with value: 135.53752668327036 and parameters: {'units1': 147, 'dropout1': 0.12101673081048095, 'units2': 119, 'dropout2': 0.3165531851262051}. Best is trial 45 with value: 87.52518870723353.\n"
     ]
    },
    {
     "name": "stdout",
     "output_type": "stream",
     "text": [
      "2/2 [==============================] - 0s 2ms/step\n"
     ]
    },
    {
     "name": "stderr",
     "output_type": "stream",
     "text": [
      "[I 2025-02-09 19:58:33,186] Trial 67 finished with value: 119.4596411738785 and parameters: {'units1': 138, 'dropout1': 0.24228198905124945, 'units2': 110, 'dropout2': 0.3443117015659555}. Best is trial 45 with value: 87.52518870723353.\n"
     ]
    },
    {
     "name": "stdout",
     "output_type": "stream",
     "text": [
      "2/2 [==============================] - 0s 2ms/step\n"
     ]
    },
    {
     "name": "stderr",
     "output_type": "stream",
     "text": [
      "[I 2025-02-09 19:58:37,566] Trial 68 finished with value: 100.9620644477958 and parameters: {'units1': 118, 'dropout1': 0.34180507525779624, 'units2': 179, 'dropout2': 0.3291580955864349}. Best is trial 45 with value: 87.52518870723353.\n"
     ]
    },
    {
     "name": "stdout",
     "output_type": "stream",
     "text": [
      "2/2 [==============================] - 0s 2ms/step\n"
     ]
    },
    {
     "name": "stderr",
     "output_type": "stream",
     "text": [
      "[I 2025-02-09 19:58:42,020] Trial 69 finished with value: 118.61960120502198 and parameters: {'units1': 179, 'dropout1': 0.10052337280732948, 'units2': 171, 'dropout2': 0.22485033216654188}. Best is trial 45 with value: 87.52518870723353.\n"
     ]
    },
    {
     "name": "stdout",
     "output_type": "stream",
     "text": [
      "2/2 [==============================] - 0s 2ms/step\n"
     ]
    },
    {
     "name": "stderr",
     "output_type": "stream",
     "text": [
      "[I 2025-02-09 19:58:46,405] Trial 70 finished with value: 104.07117886308755 and parameters: {'units1': 156, 'dropout1': 0.22394080746349548, 'units2': 132, 'dropout2': 0.2644519593360964}. Best is trial 45 with value: 87.52518870723353.\n"
     ]
    },
    {
     "name": "stdout",
     "output_type": "stream",
     "text": [
      "2/2 [==============================] - 0s 2ms/step\n"
     ]
    },
    {
     "name": "stderr",
     "output_type": "stream",
     "text": [
      "[I 2025-02-09 19:58:50,232] Trial 71 finished with value: 101.31623238263379 and parameters: {'units1': 92, 'dropout1': 0.29965843193235053, 'units2': 149, 'dropout2': 0.4370145107709599}. Best is trial 45 with value: 87.52518870723353.\n"
     ]
    },
    {
     "name": "stdout",
     "output_type": "stream",
     "text": [
      "2/2 [==============================] - 0s 3ms/step\n"
     ]
    },
    {
     "name": "stderr",
     "output_type": "stream",
     "text": [
      "[I 2025-02-09 19:58:54,182] Trial 72 finished with value: 115.17359845762579 and parameters: {'units1': 102, 'dropout1': 0.48503747029260075, 'units2': 147, 'dropout2': 0.3738549443508422}. Best is trial 45 with value: 87.52518870723353.\n"
     ]
    },
    {
     "name": "stdout",
     "output_type": "stream",
     "text": [
      "2/2 [==============================] - 0s 2ms/step\n"
     ]
    },
    {
     "name": "stderr",
     "output_type": "stream",
     "text": [
      "[I 2025-02-09 19:58:58,178] Trial 73 finished with value: 122.47001984679169 and parameters: {'units1': 108, 'dropout1': 0.21247781684149664, 'units2': 156, 'dropout2': 0.4839132275484629}. Best is trial 45 with value: 87.52518870723353.\n"
     ]
    },
    {
     "name": "stdout",
     "output_type": "stream",
     "text": [
      "2/2 [==============================] - 0s 4ms/step\n"
     ]
    },
    {
     "name": "stderr",
     "output_type": "stream",
     "text": [
      "[I 2025-02-09 19:59:02,459] Trial 74 finished with value: 114.5705414771092 and parameters: {'units1': 135, 'dropout1': 0.2859405100912701, 'units2': 166, 'dropout2': 0.4578658269835182}. Best is trial 45 with value: 87.52518870723353.\n"
     ]
    },
    {
     "name": "stdout",
     "output_type": "stream",
     "text": [
      "2/2 [==============================] - 0s 2ms/step\n"
     ]
    },
    {
     "name": "stderr",
     "output_type": "stream",
     "text": [
      "[I 2025-02-09 19:59:06,832] Trial 75 finished with value: 103.486167404548 and parameters: {'units1': 121, 'dropout1': 0.25475325042756275, 'units2': 142, 'dropout2': 0.3833575659435413}. Best is trial 45 with value: 87.52518870723353.\n"
     ]
    },
    {
     "name": "stdout",
     "output_type": "stream",
     "text": [
      "2/2 [==============================] - 0s 3ms/step\n"
     ]
    },
    {
     "name": "stderr",
     "output_type": "stream",
     "text": [
      "[I 2025-02-09 19:59:10,836] Trial 76 finished with value: 108.80170458706955 and parameters: {'units1': 83, 'dropout1': 0.18087914005224007, 'units2': 154, 'dropout2': 0.3605178712707303}. Best is trial 45 with value: 87.52518870723353.\n"
     ]
    },
    {
     "name": "stdout",
     "output_type": "stream",
     "text": [
      "2/2 [==============================] - 0s 3ms/step\n"
     ]
    },
    {
     "name": "stderr",
     "output_type": "stream",
     "text": [
      "[I 2025-02-09 19:59:16,856] Trial 77 finished with value: 99.50906166652017 and parameters: {'units1': 141, 'dropout1': 0.3065841270014128, 'units2': 220, 'dropout2': 0.4020687893634856}. Best is trial 45 with value: 87.52518870723353.\n"
     ]
    },
    {
     "name": "stdout",
     "output_type": "stream",
     "text": [
      "2/2 [==============================] - 0s 2ms/step\n"
     ]
    },
    {
     "name": "stderr",
     "output_type": "stream",
     "text": [
      "[I 2025-02-09 19:59:21,037] Trial 78 finished with value: 156.92326465043814 and parameters: {'units1': 70, 'dropout1': 0.23569875795819584, 'units2': 191, 'dropout2': 0.44830282635790497}. Best is trial 45 with value: 87.52518870723353.\n"
     ]
    },
    {
     "name": "stdout",
     "output_type": "stream",
     "text": [
      "2/2 [==============================] - 0s 2ms/step\n"
     ]
    },
    {
     "name": "stderr",
     "output_type": "stream",
     "text": [
      "[I 2025-02-09 19:59:25,276] Trial 79 finished with value: 134.76196110088824 and parameters: {'units1': 96, 'dropout1': 0.12455476534074174, 'units2': 205, 'dropout2': 0.30255375789989486}. Best is trial 45 with value: 87.52518870723353.\n"
     ]
    },
    {
     "name": "stdout",
     "output_type": "stream",
     "text": [
      "2/2 [==============================] - 0s 3ms/step\n"
     ]
    },
    {
     "name": "stderr",
     "output_type": "stream",
     "text": [
      "[I 2025-02-09 19:59:30,336] Trial 80 finished with value: 106.04814540928592 and parameters: {'units1': 197, 'dropout1': 0.3563024982836923, 'units2': 235, 'dropout2': 0.2875886733817715}. Best is trial 45 with value: 87.52518870723353.\n"
     ]
    },
    {
     "name": "stdout",
     "output_type": "stream",
     "text": [
      "2/2 [==============================] - 0s 2ms/step\n"
     ]
    },
    {
     "name": "stderr",
     "output_type": "stream",
     "text": [
      "[I 2025-02-09 19:59:35,435] Trial 81 finished with value: 181.26973877874482 and parameters: {'units1': 210, 'dropout1': 0.2607672997930252, 'units2': 248, 'dropout2': 0.4180154394860859}. Best is trial 45 with value: 87.52518870723353.\n"
     ]
    },
    {
     "name": "stdout",
     "output_type": "stream",
     "text": [
      "2/2 [==============================] - 0s 2ms/step\n"
     ]
    },
    {
     "name": "stderr",
     "output_type": "stream",
     "text": [
      "[I 2025-02-09 19:59:40,222] Trial 82 finished with value: 97.72232809450367 and parameters: {'units1': 203, 'dropout1': 0.2715473884957369, 'units2': 177, 'dropout2': 0.39452098864016155}. Best is trial 45 with value: 87.52518870723353.\n"
     ]
    },
    {
     "name": "stdout",
     "output_type": "stream",
     "text": [
      "2/2 [==============================] - 0s 3ms/step\n"
     ]
    },
    {
     "name": "stderr",
     "output_type": "stream",
     "text": [
      "[I 2025-02-09 19:59:45,106] Trial 83 finished with value: 113.90056781252608 and parameters: {'units1': 230, 'dropout1': 0.32603541169876793, 'units2': 216, 'dropout2': 0.10728539898822739}. Best is trial 45 with value: 87.52518870723353.\n"
     ]
    },
    {
     "name": "stdout",
     "output_type": "stream",
     "text": [
      "2/2 [==============================] - 0s 3ms/step\n"
     ]
    },
    {
     "name": "stderr",
     "output_type": "stream",
     "text": [
      "[I 2025-02-09 19:59:50,957] Trial 84 finished with value: 92.89733683164494 and parameters: {'units1': 248, 'dropout1': 0.31351947870815566, 'units2': 184, 'dropout2': 0.23750350876036658}. Best is trial 45 with value: 87.52518870723353.\n"
     ]
    },
    {
     "name": "stdout",
     "output_type": "stream",
     "text": [
      "2/2 [==============================] - 0s 3ms/step\n"
     ]
    },
    {
     "name": "stderr",
     "output_type": "stream",
     "text": [
      "[I 2025-02-09 19:59:55,790] Trial 85 finished with value: 101.6748883734091 and parameters: {'units1': 247, 'dropout1': 0.315262047899349, 'units2': 184, 'dropout2': 0.24124863886636266}. Best is trial 45 with value: 87.52518870723353.\n"
     ]
    },
    {
     "name": "stdout",
     "output_type": "stream",
     "text": [
      "2/2 [==============================] - 0s 2ms/step\n"
     ]
    },
    {
     "name": "stderr",
     "output_type": "stream",
     "text": [
      "[I 2025-02-09 20:00:00,577] Trial 86 finished with value: 107.00241279341131 and parameters: {'units1': 236, 'dropout1': 0.4254665698123853, 'units2': 168, 'dropout2': 0.33842450010978786}. Best is trial 45 with value: 87.52518870723353.\n"
     ]
    },
    {
     "name": "stdout",
     "output_type": "stream",
     "text": [
      "2/2 [==============================] - 0s 2ms/step\n"
     ]
    },
    {
     "name": "stderr",
     "output_type": "stream",
     "text": [
      "[I 2025-02-09 20:00:05,296] Trial 87 finished with value: 92.61452803285125 and parameters: {'units1': 256, 'dropout1': 0.33305903219286753, 'units2': 160, 'dropout2': 0.1388348788238234}. Best is trial 45 with value: 87.52518870723353.\n"
     ]
    },
    {
     "name": "stdout",
     "output_type": "stream",
     "text": [
      "2/2 [==============================] - 0s 3ms/step\n"
     ]
    },
    {
     "name": "stderr",
     "output_type": "stream",
     "text": [
      "[I 2025-02-09 20:00:10,492] Trial 88 finished with value: 103.60858883567563 and parameters: {'units1': 251, 'dropout1': 0.34626114980033185, 'units2': 159, 'dropout2': 0.12620167348745068}. Best is trial 45 with value: 87.52518870723353.\n"
     ]
    },
    {
     "name": "stdout",
     "output_type": "stream",
     "text": [
      "2/2 [==============================] - 0s 2ms/step\n"
     ]
    },
    {
     "name": "stderr",
     "output_type": "stream",
     "text": [
      "[I 2025-02-09 20:00:15,378] Trial 89 finished with value: 114.53153797030902 and parameters: {'units1': 256, 'dropout1': 0.33366100510690677, 'units2': 132, 'dropout2': 0.14794594741532285}. Best is trial 45 with value: 87.52518870723353.\n"
     ]
    },
    {
     "name": "stdout",
     "output_type": "stream",
     "text": [
      "2/2 [==============================] - 0s 3ms/step\n"
     ]
    },
    {
     "name": "stderr",
     "output_type": "stream",
     "text": [
      "[I 2025-02-09 20:00:20,426] Trial 90 finished with value: 105.95129579508178 and parameters: {'units1': 235, 'dropout1': 0.37625731985631955, 'units2': 138, 'dropout2': 0.1392511682883299}. Best is trial 45 with value: 87.52518870723353.\n"
     ]
    },
    {
     "name": "stdout",
     "output_type": "stream",
     "text": [
      "2/2 [==============================] - 0s 2ms/step\n"
     ]
    },
    {
     "name": "stderr",
     "output_type": "stream",
     "text": [
      "[I 2025-02-09 20:00:25,354] Trial 91 finished with value: 169.31404072330213 and parameters: {'units1': 242, 'dropout1': 0.2836708004238689, 'units2': 147, 'dropout2': 0.1698864354874121}. Best is trial 45 with value: 87.52518870723353.\n"
     ]
    },
    {
     "name": "stdout",
     "output_type": "stream",
     "text": [
      "2/2 [==============================] - 0s 2ms/step\n"
     ]
    },
    {
     "name": "stderr",
     "output_type": "stream",
     "text": [
      "[I 2025-02-09 20:00:30,177] Trial 92 finished with value: 103.80199587376411 and parameters: {'units1': 223, 'dropout1': 0.2983193908711684, 'units2': 151, 'dropout2': 0.11293606812794948}. Best is trial 45 with value: 87.52518870723353.\n"
     ]
    },
    {
     "name": "stdout",
     "output_type": "stream",
     "text": [
      "2/2 [==============================] - 0s 3ms/step\n"
     ]
    },
    {
     "name": "stderr",
     "output_type": "stream",
     "text": [
      "[I 2025-02-09 20:00:34,679] Trial 93 finished with value: 102.75728528185425 and parameters: {'units1': 115, 'dropout1': 0.30934984141908656, 'units2': 161, 'dropout2': 0.1335957170230557}. Best is trial 45 with value: 87.52518870723353.\n"
     ]
    },
    {
     "name": "stdout",
     "output_type": "stream",
     "text": [
      "2/2 [==============================] - 0s 4ms/step\n"
     ]
    },
    {
     "name": "stderr",
     "output_type": "stream",
     "text": [
      "[I 2025-02-09 20:00:40,540] Trial 94 finished with value: 104.44418980113569 and parameters: {'units1': 249, 'dropout1': 0.48965928225938127, 'units2': 174, 'dropout2': 0.20395839135114174}. Best is trial 45 with value: 87.52518870723353.\n"
     ]
    },
    {
     "name": "stdout",
     "output_type": "stream",
     "text": [
      "2/2 [==============================] - 0s 3ms/step\n"
     ]
    },
    {
     "name": "stderr",
     "output_type": "stream",
     "text": [
      "[I 2025-02-09 20:00:45,306] Trial 95 finished with value: 101.92798336563042 and parameters: {'units1': 126, 'dropout1': 0.31799836750295113, 'units2': 184, 'dropout2': 0.11206400946670635}. Best is trial 45 with value: 87.52518870723353.\n"
     ]
    },
    {
     "name": "stdout",
     "output_type": "stream",
     "text": [
      "2/2 [==============================] - 0s 3ms/step\n"
     ]
    },
    {
     "name": "stderr",
     "output_type": "stream",
     "text": [
      "[I 2025-02-09 20:00:50,679] Trial 96 finished with value: 113.94856659898626 and parameters: {'units1': 241, 'dropout1': 0.3317852058243609, 'units2': 201, 'dropout2': 0.25917024879512246}. Best is trial 45 with value: 87.52518870723353.\n"
     ]
    },
    {
     "name": "stdout",
     "output_type": "stream",
     "text": [
      "2/2 [==============================] - 0s 2ms/step\n"
     ]
    },
    {
     "name": "stderr",
     "output_type": "stream",
     "text": [
      "[I 2025-02-09 20:00:55,182] Trial 97 finished with value: 90.69342246445404 and parameters: {'units1': 160, 'dropout1': 0.3635125477728373, 'units2': 165, 'dropout2': 0.10004913674499646}. Best is trial 45 with value: 87.52518870723353.\n"
     ]
    },
    {
     "name": "stdout",
     "output_type": "stream",
     "text": [
      "2/2 [==============================] - 0s 2ms/step\n"
     ]
    },
    {
     "name": "stderr",
     "output_type": "stream",
     "text": [
      "[I 2025-02-09 20:00:59,574] Trial 98 finished with value: 91.98019469088754 and parameters: {'units1': 169, 'dropout1': 0.36442510727765876, 'units2': 192, 'dropout2': 0.11834183666906045}. Best is trial 45 with value: 87.52518870723353.\n"
     ]
    },
    {
     "name": "stdout",
     "output_type": "stream",
     "text": [
      "2/2 [==============================] - 0s 4ms/step\n"
     ]
    },
    {
     "name": "stderr",
     "output_type": "stream",
     "text": [
      "[I 2025-02-09 20:01:04,427] Trial 99 finished with value: 106.41477392522296 and parameters: {'units1': 166, 'dropout1': 0.37294879293603445, 'units2': 193, 'dropout2': 0.11883037917006192}. Best is trial 45 with value: 87.52518870723353.\n",
      "[I 2025-02-09 20:01:04,448] A new study created in memory with name: no-name-6b3807a6-4123-48bc-a08f-03df64bf7b91\n"
     ]
    },
    {
     "name": "stdout",
     "output_type": "stream",
     "text": [
      "\n",
      "\n",
      "Lactate (g/L):\n",
      "\n",
      "MSE:  87.52518870723353\n",
      "2/2 [==============================] - 0s 2ms/step\n"
     ]
    },
    {
     "name": "stderr",
     "output_type": "stream",
     "text": [
      "[I 2025-02-09 20:01:08,951] Trial 0 finished with value: 0.7300929882496386 and parameters: {'units1': 178, 'dropout1': 0.12018407990503342, 'units2': 116, 'dropout2': 0.45954785397462794}. Best is trial 0 with value: 0.7300929882496386.\n"
     ]
    },
    {
     "name": "stdout",
     "output_type": "stream",
     "text": [
      "2/2 [==============================] - 0s 2ms/step\n"
     ]
    },
    {
     "name": "stderr",
     "output_type": "stream",
     "text": [
      "[I 2025-02-09 20:01:13,127] Trial 1 finished with value: 0.525162798807268 and parameters: {'units1': 155, 'dropout1': 0.1457115634767324, 'units2': 73, 'dropout2': 0.19486447499790632}. Best is trial 1 with value: 0.525162798807268.\n"
     ]
    },
    {
     "name": "stdout",
     "output_type": "stream",
     "text": [
      "2/2 [==============================] - 0s 2ms/step\n"
     ]
    },
    {
     "name": "stderr",
     "output_type": "stream",
     "text": [
      "[I 2025-02-09 20:01:18,046] Trial 2 finished with value: 0.5278515047277094 and parameters: {'units1': 81, 'dropout1': 0.27781933178854973, 'units2': 101, 'dropout2': 0.1346393384458847}. Best is trial 1 with value: 0.525162798807268.\n"
     ]
    },
    {
     "name": "stdout",
     "output_type": "stream",
     "text": [
      "2/2 [==============================] - 0s 2ms/step\n"
     ]
    },
    {
     "name": "stderr",
     "output_type": "stream",
     "text": [
      "[I 2025-02-09 20:01:22,235] Trial 3 finished with value: 0.49019384886915474 and parameters: {'units1': 129, 'dropout1': 0.19508973686617087, 'units2': 50, 'dropout2': 0.21181819724083356}. Best is trial 3 with value: 0.49019384886915474.\n"
     ]
    },
    {
     "name": "stdout",
     "output_type": "stream",
     "text": [
      "2/2 [==============================] - 0s 2ms/step\n"
     ]
    },
    {
     "name": "stderr",
     "output_type": "stream",
     "text": [
      "[I 2025-02-09 20:01:26,805] Trial 4 finished with value: 0.5154074890268904 and parameters: {'units1': 152, 'dropout1': 0.1343252394372485, 'units2': 194, 'dropout2': 0.3118246826151956}. Best is trial 3 with value: 0.49019384886915474.\n"
     ]
    },
    {
     "name": "stdout",
     "output_type": "stream",
     "text": [
      "2/2 [==============================] - 0s 3ms/step\n"
     ]
    },
    {
     "name": "stderr",
     "output_type": "stream",
     "text": [
      "[I 2025-02-09 20:01:30,704] Trial 5 finished with value: 0.6486254550532629 and parameters: {'units1': 56, 'dropout1': 0.28332780590666234, 'units2': 129, 'dropout2': 0.1321349087493897}. Best is trial 3 with value: 0.49019384886915474.\n"
     ]
    },
    {
     "name": "stdout",
     "output_type": "stream",
     "text": [
      "2/2 [==============================] - 0s 2ms/step\n"
     ]
    },
    {
     "name": "stderr",
     "output_type": "stream",
     "text": [
      "[I 2025-02-09 20:01:35,367] Trial 6 finished with value: 0.5496803493170114 and parameters: {'units1': 220, 'dropout1': 0.36375727087613063, 'units2': 74, 'dropout2': 0.3274809525200015}. Best is trial 3 with value: 0.49019384886915474.\n"
     ]
    },
    {
     "name": "stdout",
     "output_type": "stream",
     "text": [
      "2/2 [==============================] - 0s 2ms/step\n"
     ]
    },
    {
     "name": "stderr",
     "output_type": "stream",
     "text": [
      "[I 2025-02-09 20:01:40,707] Trial 7 finished with value: 0.5267373163536501 and parameters: {'units1': 229, 'dropout1': 0.3096340679563472, 'units2': 204, 'dropout2': 0.2723533063423688}. Best is trial 3 with value: 0.49019384886915474.\n"
     ]
    },
    {
     "name": "stdout",
     "output_type": "stream",
     "text": [
      "2/2 [==============================] - 0s 3ms/step\n"
     ]
    },
    {
     "name": "stderr",
     "output_type": "stream",
     "text": [
      "[I 2025-02-09 20:01:44,555] Trial 8 finished with value: 0.5520134582816538 and parameters: {'units1': 63, 'dropout1': 0.45918588671312327, 'units2': 62, 'dropout2': 0.12758041860237396}. Best is trial 3 with value: 0.49019384886915474.\n"
     ]
    },
    {
     "name": "stdout",
     "output_type": "stream",
     "text": [
      "2/2 [==============================] - 0s 2ms/step\n"
     ]
    },
    {
     "name": "stderr",
     "output_type": "stream",
     "text": [
      "[I 2025-02-09 20:01:49,536] Trial 9 finished with value: 0.5251252772074605 and parameters: {'units1': 204, 'dropout1': 0.10365014854014416, 'units2': 222, 'dropout2': 0.32841882388073773}. Best is trial 3 with value: 0.49019384886915474.\n"
     ]
    },
    {
     "name": "stdout",
     "output_type": "stream",
     "text": [
      "2/2 [==============================] - 0s 2ms/step\n"
     ]
    },
    {
     "name": "stderr",
     "output_type": "stream",
     "text": [
      "[I 2025-02-09 20:01:53,703] Trial 10 finished with value: 0.49491162734076904 and parameters: {'units1': 111, 'dropout1': 0.21024753559469433, 'units2': 33, 'dropout2': 0.43621726845634146}. Best is trial 3 with value: 0.49019384886915474.\n"
     ]
    },
    {
     "name": "stdout",
     "output_type": "stream",
     "text": [
      "2/2 [==============================] - 0s 2ms/step\n"
     ]
    },
    {
     "name": "stderr",
     "output_type": "stream",
     "text": [
      "[I 2025-02-09 20:01:57,860] Trial 11 finished with value: 0.520144220619089 and parameters: {'units1': 103, 'dropout1': 0.20713430208891595, 'units2': 35, 'dropout2': 0.44749852477213786}. Best is trial 3 with value: 0.49019384886915474.\n"
     ]
    },
    {
     "name": "stdout",
     "output_type": "stream",
     "text": [
      "2/2 [==============================] - 0s 2ms/step\n"
     ]
    },
    {
     "name": "stderr",
     "output_type": "stream",
     "text": [
      "[I 2025-02-09 20:02:01,957] Trial 12 finished with value: 0.5594200260417244 and parameters: {'units1': 113, 'dropout1': 0.212866437590646, 'units2': 38, 'dropout2': 0.3977744575420542}. Best is trial 3 with value: 0.49019384886915474.\n"
     ]
    },
    {
     "name": "stdout",
     "output_type": "stream",
     "text": [
      "2/2 [==============================] - 0s 2ms/step\n"
     ]
    },
    {
     "name": "stderr",
     "output_type": "stream",
     "text": [
      "[I 2025-02-09 20:02:06,220] Trial 13 finished with value: 0.6976052849766914 and parameters: {'units1': 120, 'dropout1': 0.20460671954793005, 'units2': 157, 'dropout2': 0.23086657074818057}. Best is trial 3 with value: 0.49019384886915474.\n"
     ]
    },
    {
     "name": "stdout",
     "output_type": "stream",
     "text": [
      "2/2 [==============================] - 0s 3ms/step\n"
     ]
    },
    {
     "name": "stderr",
     "output_type": "stream",
     "text": [
      "[I 2025-02-09 20:02:10,045] Trial 14 finished with value: 0.5319567591209395 and parameters: {'units1': 32, 'dropout1': 0.22799958681011295, 'units2': 32, 'dropout2': 0.38465747071898787}. Best is trial 3 with value: 0.49019384886915474.\n"
     ]
    },
    {
     "name": "stdout",
     "output_type": "stream",
     "text": [
      "2/2 [==============================] - 0s 3ms/step\n"
     ]
    },
    {
     "name": "stderr",
     "output_type": "stream",
     "text": [
      "[I 2025-02-09 20:02:14,769] Trial 15 finished with value: 0.5007670747480389 and parameters: {'units1': 131, 'dropout1': 0.3602707717569466, 'units2': 253, 'dropout2': 0.19759729652204733}. Best is trial 3 with value: 0.49019384886915474.\n"
     ]
    },
    {
     "name": "stdout",
     "output_type": "stream",
     "text": [
      "2/2 [==============================] - 0s 2ms/step\n"
     ]
    },
    {
     "name": "stderr",
     "output_type": "stream",
     "text": [
      "[I 2025-02-09 20:02:19,862] Trial 16 finished with value: 0.5082123205584439 and parameters: {'units1': 253, 'dropout1': 0.1728404768420436, 'units2': 91, 'dropout2': 0.3906562621267497}. Best is trial 3 with value: 0.49019384886915474.\n"
     ]
    },
    {
     "name": "stdout",
     "output_type": "stream",
     "text": [
      "2/2 [==============================] - 0s 4ms/step\n"
     ]
    },
    {
     "name": "stderr",
     "output_type": "stream",
     "text": [
      "[I 2025-02-09 20:02:24,382] Trial 17 finished with value: 0.6069973396552808 and parameters: {'units1': 176, 'dropout1': 0.2536956712198444, 'units2': 164, 'dropout2': 0.4970464205115598}. Best is trial 3 with value: 0.49019384886915474.\n"
     ]
    },
    {
     "name": "stdout",
     "output_type": "stream",
     "text": [
      "2/2 [==============================] - 0s 2ms/step\n"
     ]
    },
    {
     "name": "stderr",
     "output_type": "stream",
     "text": [
      "[I 2025-02-09 20:02:28,620] Trial 18 finished with value: 0.5454367053235617 and parameters: {'units1': 91, 'dropout1': 0.33248492357832404, 'units2': 57, 'dropout2': 0.2626920697789833}. Best is trial 3 with value: 0.49019384886915474.\n"
     ]
    },
    {
     "name": "stdout",
     "output_type": "stream",
     "text": [
      "2/2 [==============================] - 0s 4ms/step\n"
     ]
    },
    {
     "name": "stderr",
     "output_type": "stream",
     "text": [
      "[I 2025-02-09 20:02:33,036] Trial 19 finished with value: 0.5198265518051485 and parameters: {'units1': 139, 'dropout1': 0.4455779395486752, 'units2': 97, 'dropout2': 0.18662450331427352}. Best is trial 3 with value: 0.49019384886915474.\n"
     ]
    },
    {
     "name": "stdout",
     "output_type": "stream",
     "text": [
      "2/2 [==============================] - 0s 3ms/step\n"
     ]
    },
    {
     "name": "stderr",
     "output_type": "stream",
     "text": [
      "[I 2025-02-09 20:02:38,404] Trial 20 finished with value: 0.5726480161346983 and parameters: {'units1': 169, 'dropout1': 0.16708648666219983, 'units2': 55, 'dropout2': 0.35114107522238774}. Best is trial 3 with value: 0.49019384886915474.\n"
     ]
    },
    {
     "name": "stdout",
     "output_type": "stream",
     "text": [
      "2/2 [==============================] - 0s 2ms/step\n"
     ]
    },
    {
     "name": "stderr",
     "output_type": "stream",
     "text": [
      "[I 2025-02-09 20:02:42,538] Trial 21 finished with value: 0.5377012532848402 and parameters: {'units1': 129, 'dropout1': 0.4130161761574401, 'units2': 250, 'dropout2': 0.18956000322182529}. Best is trial 3 with value: 0.49019384886915474.\n"
     ]
    },
    {
     "name": "stdout",
     "output_type": "stream",
     "text": [
      "2/2 [==============================] - 0s 2ms/step\n"
     ]
    },
    {
     "name": "stderr",
     "output_type": "stream",
     "text": [
      "[I 2025-02-09 20:02:46,796] Trial 22 finished with value: 0.5747759406415909 and parameters: {'units1': 95, 'dropout1': 0.3967015507325188, 'units2': 251, 'dropout2': 0.23250969177713046}. Best is trial 3 with value: 0.49019384886915474.\n"
     ]
    },
    {
     "name": "stdout",
     "output_type": "stream",
     "text": [
      "2/2 [==============================] - 0s 2ms/step\n"
     ]
    },
    {
     "name": "stderr",
     "output_type": "stream",
     "text": [
      "[I 2025-02-09 20:02:51,373] Trial 23 finished with value: 0.5357912109731247 and parameters: {'units1': 133, 'dropout1': 0.3461077082209897, 'units2': 178, 'dropout2': 0.10105664435148114}. Best is trial 3 with value: 0.49019384886915474.\n"
     ]
    },
    {
     "name": "stdout",
     "output_type": "stream",
     "text": [
      "2/2 [==============================] - 0s 2ms/step\n"
     ]
    },
    {
     "name": "stderr",
     "output_type": "stream",
     "text": [
      "[I 2025-02-09 20:02:55,246] Trial 24 finished with value: 0.5704155116891525 and parameters: {'units1': 73, 'dropout1': 0.4892345772833607, 'units2': 136, 'dropout2': 0.22026522915948676}. Best is trial 3 with value: 0.49019384886915474.\n"
     ]
    },
    {
     "name": "stdout",
     "output_type": "stream",
     "text": [
      "2/2 [==============================] - 0s 2ms/step\n"
     ]
    },
    {
     "name": "stderr",
     "output_type": "stream",
     "text": [
      "[I 2025-02-09 20:02:59,599] Trial 25 finished with value: 0.509978950494287 and parameters: {'units1': 112, 'dropout1': 0.24480818518438738, 'units2': 218, 'dropout2': 0.2781652090235808}. Best is trial 3 with value: 0.49019384886915474.\n"
     ]
    },
    {
     "name": "stdout",
     "output_type": "stream",
     "text": [
      "2/2 [==============================] - 0s 2ms/step\n"
     ]
    },
    {
     "name": "stderr",
     "output_type": "stream",
     "text": [
      "[I 2025-02-09 20:03:03,948] Trial 26 finished with value: 0.6075212487716537 and parameters: {'units1': 156, 'dropout1': 0.16757988040104255, 'units2': 80, 'dropout2': 0.18465443119622207}. Best is trial 3 with value: 0.49019384886915474.\n"
     ]
    },
    {
     "name": "stdout",
     "output_type": "stream",
     "text": [
      "2/2 [==============================] - 0s 2ms/step\n"
     ]
    },
    {
     "name": "stderr",
     "output_type": "stream",
     "text": [
      "[I 2025-02-09 20:03:08,486] Trial 27 finished with value: 0.7021733970615004 and parameters: {'units1': 192, 'dropout1': 0.3087459143326535, 'units2': 47, 'dropout2': 0.248114989067988}. Best is trial 3 with value: 0.49019384886915474.\n"
     ]
    },
    {
     "name": "stdout",
     "output_type": "stream",
     "text": [
      "2/2 [==============================] - 0s 2ms/step\n"
     ]
    },
    {
     "name": "stderr",
     "output_type": "stream",
     "text": [
      "[I 2025-02-09 20:03:13,059] Trial 28 finished with value: 0.5671987999490963 and parameters: {'units1': 125, 'dropout1': 0.3835373957628307, 'units2': 116, 'dropout2': 0.15534829377786594}. Best is trial 3 with value: 0.49019384886915474.\n"
     ]
    },
    {
     "name": "stdout",
     "output_type": "stream",
     "text": [
      "2/2 [==============================] - 0s 2ms/step\n"
     ]
    },
    {
     "name": "stderr",
     "output_type": "stream",
     "text": [
      "[I 2025-02-09 20:03:17,658] Trial 29 finished with value: 0.4869978670589851 and parameters: {'units1': 143, 'dropout1': 0.2631209341478717, 'units2': 115, 'dropout2': 0.4929329268530573}. Best is trial 29 with value: 0.4869978670589851.\n"
     ]
    },
    {
     "name": "stdout",
     "output_type": "stream",
     "text": [
      "2/2 [==============================] - 0s 4ms/step\n"
     ]
    },
    {
     "name": "stderr",
     "output_type": "stream",
     "text": [
      "[I 2025-02-09 20:03:22,502] Trial 30 finished with value: 0.6434320709002639 and parameters: {'units1': 194, 'dropout1': 0.26315315811769213, 'units2': 117, 'dropout2': 0.4510437413546526}. Best is trial 29 with value: 0.4869978670589851.\n"
     ]
    },
    {
     "name": "stdout",
     "output_type": "stream",
     "text": [
      "2/2 [==============================] - 0s 2ms/step\n"
     ]
    },
    {
     "name": "stderr",
     "output_type": "stream",
     "text": [
      "[I 2025-02-09 20:03:26,932] Trial 31 finished with value: 0.529883688932669 and parameters: {'units1': 144, 'dropout1': 0.1847979889042257, 'units2': 145, 'dropout2': 0.4777595123188191}. Best is trial 29 with value: 0.4869978670589851.\n"
     ]
    },
    {
     "name": "stdout",
     "output_type": "stream",
     "text": [
      "2/2 [==============================] - 0s 2ms/step\n"
     ]
    },
    {
     "name": "stderr",
     "output_type": "stream",
     "text": [
      "[I 2025-02-09 20:03:31,097] Trial 32 finished with value: 0.5483302324977728 and parameters: {'units1': 103, 'dropout1': 0.2357957739538391, 'units2': 84, 'dropout2': 0.4625198921343111}. Best is trial 29 with value: 0.4869978670589851.\n"
     ]
    },
    {
     "name": "stdout",
     "output_type": "stream",
     "text": [
      "2/2 [==============================] - 0s 3ms/step\n"
     ]
    },
    {
     "name": "stderr",
     "output_type": "stream",
     "text": [
      "[I 2025-02-09 20:03:35,791] Trial 33 finished with value: 0.5690557411828543 and parameters: {'units1': 166, 'dropout1': 0.2880097891261985, 'units2': 105, 'dropout2': 0.422904169011638}. Best is trial 29 with value: 0.4869978670589851.\n"
     ]
    },
    {
     "name": "stdout",
     "output_type": "stream",
     "text": [
      "2/2 [==============================] - 0s 2ms/step\n"
     ]
    },
    {
     "name": "stderr",
     "output_type": "stream",
     "text": [
      "[I 2025-02-09 20:03:40,196] Trial 34 finished with value: 0.578424324358818 and parameters: {'units1': 155, 'dropout1': 0.14830222401497892, 'units2': 69, 'dropout2': 0.49741067381987325}. Best is trial 29 with value: 0.4869978670589851.\n"
     ]
    },
    {
     "name": "stdout",
     "output_type": "stream",
     "text": [
      "2/2 [==============================] - 0s 3ms/step\n"
     ]
    },
    {
     "name": "stderr",
     "output_type": "stream",
     "text": [
      "[I 2025-02-09 20:03:44,373] Trial 35 finished with value: 0.5924999493752764 and parameters: {'units1': 141, 'dropout1': 0.26830555185244215, 'units2': 52, 'dropout2': 0.42510365635218794}. Best is trial 29 with value: 0.4869978670589851.\n"
     ]
    },
    {
     "name": "stdout",
     "output_type": "stream",
     "text": [
      "2/2 [==============================] - 0s 2ms/step\n"
     ]
    },
    {
     "name": "stderr",
     "output_type": "stream",
     "text": [
      "[I 2025-02-09 20:03:48,540] Trial 36 finished with value: 0.5720831445967846 and parameters: {'units1': 86, 'dropout1': 0.328676836388476, 'units2': 229, 'dropout2': 0.20961188613167214}. Best is trial 29 with value: 0.4869978670589851.\n"
     ]
    },
    {
     "name": "stdout",
     "output_type": "stream",
     "text": [
      "2/2 [==============================] - 0s 3ms/step\n"
     ]
    },
    {
     "name": "stderr",
     "output_type": "stream",
     "text": [
      "[I 2025-02-09 20:03:52,956] Trial 37 finished with value: 0.48175398452025975 and parameters: {'units1': 119, 'dropout1': 0.13708753679026078, 'units2': 180, 'dropout2': 0.16427500448779384}. Best is trial 37 with value: 0.48175398452025975.\n"
     ]
    },
    {
     "name": "stdout",
     "output_type": "stream",
     "text": [
      "2/2 [==============================] - 0s 2ms/step\n"
     ]
    },
    {
     "name": "stderr",
     "output_type": "stream",
     "text": [
      "[I 2025-02-09 20:03:58,226] Trial 38 finished with value: 0.5206600362716537 and parameters: {'units1': 101, 'dropout1': 0.1323029255425336, 'units2': 189, 'dropout2': 0.1593648056429593}. Best is trial 37 with value: 0.48175398452025975.\n"
     ]
    },
    {
     "name": "stdout",
     "output_type": "stream",
     "text": [
      "2/2 [==============================] - 0s 2ms/step\n"
     ]
    },
    {
     "name": "stderr",
     "output_type": "stream",
     "text": [
      "[I 2025-02-09 20:04:02,369] Trial 39 finished with value: 0.5341985587952939 and parameters: {'units1': 75, 'dropout1': 0.10046301291810446, 'units2': 181, 'dropout2': 0.3011779182079201}. Best is trial 37 with value: 0.48175398452025975.\n"
     ]
    },
    {
     "name": "stdout",
     "output_type": "stream",
     "text": [
      "2/2 [==============================] - 0s 2ms/step\n"
     ]
    },
    {
     "name": "stderr",
     "output_type": "stream",
     "text": [
      "[I 2025-02-09 20:04:06,610] Trial 40 finished with value: 0.585951365860507 and parameters: {'units1': 115, 'dropout1': 0.15449520394470143, 'units2': 164, 'dropout2': 0.15636031562057118}. Best is trial 37 with value: 0.48175398452025975.\n"
     ]
    },
    {
     "name": "stdout",
     "output_type": "stream",
     "text": [
      "2/2 [==============================] - 0s 2ms/step\n"
     ]
    },
    {
     "name": "stderr",
     "output_type": "stream",
     "text": [
      "[I 2025-02-09 20:04:11,249] Trial 41 finished with value: 0.6727112584449643 and parameters: {'units1': 149, 'dropout1': 0.18634149985605808, 'units2': 206, 'dropout2': 0.10845217445922395}. Best is trial 37 with value: 0.48175398452025975.\n"
     ]
    },
    {
     "name": "stdout",
     "output_type": "stream",
     "text": [
      "2/2 [==============================] - 0s 5ms/step\n"
     ]
    },
    {
     "name": "stderr",
     "output_type": "stream",
     "text": [
      "[I 2025-02-09 20:04:15,643] Trial 42 finished with value: 0.5014537726623881 and parameters: {'units1': 130, 'dropout1': 0.12917837510205282, 'units2': 44, 'dropout2': 0.17068906633224729}. Best is trial 37 with value: 0.48175398452025975.\n"
     ]
    },
    {
     "name": "stdout",
     "output_type": "stream",
     "text": [
      "2/2 [==============================] - 0s 4ms/step\n"
     ]
    },
    {
     "name": "stderr",
     "output_type": "stream",
     "text": [
      "[I 2025-02-09 20:04:21,800] Trial 43 finished with value: 0.5037126415904212 and parameters: {'units1': 119, 'dropout1': 0.21836571965244078, 'units2': 236, 'dropout2': 0.13496037207457778}. Best is trial 37 with value: 0.48175398452025975.\n"
     ]
    },
    {
     "name": "stdout",
     "output_type": "stream",
     "text": [
      "2/2 [==============================] - 0s 2ms/step\n"
     ]
    },
    {
     "name": "stderr",
     "output_type": "stream",
     "text": [
      "[I 2025-02-09 20:04:26,037] Trial 44 finished with value: 0.5732095952718538 and parameters: {'units1': 162, 'dropout1': 0.20200841931721697, 'units2': 71, 'dropout2': 0.2057877156132104}. Best is trial 37 with value: 0.48175398452025975.\n"
     ]
    },
    {
     "name": "stdout",
     "output_type": "stream",
     "text": [
      "2/2 [==============================] - 0s 2ms/step\n"
     ]
    },
    {
     "name": "stderr",
     "output_type": "stream",
     "text": [
      "[I 2025-02-09 20:04:30,508] Trial 45 finished with value: 0.5760291324365858 and parameters: {'units1': 137, 'dropout1': 0.2945213467692072, 'units2': 148, 'dropout2': 0.47774661707757676}. Best is trial 37 with value: 0.48175398452025975.\n"
     ]
    },
    {
     "name": "stdout",
     "output_type": "stream",
     "text": [
      "2/2 [==============================] - 0s 2ms/step\n"
     ]
    },
    {
     "name": "stderr",
     "output_type": "stream",
     "text": [
      "[I 2025-02-09 20:04:34,655] Trial 46 finished with value: 0.549816745642634 and parameters: {'units1': 106, 'dropout1': 0.11579362942685825, 'units2': 125, 'dropout2': 0.41861005631493164}. Best is trial 37 with value: 0.48175398452025975.\n"
     ]
    },
    {
     "name": "stdout",
     "output_type": "stream",
     "text": [
      "2/2 [==============================] - 0s 3ms/step\n"
     ]
    },
    {
     "name": "stderr",
     "output_type": "stream",
     "text": [
      "[I 2025-02-09 20:04:38,763] Trial 47 finished with value: 0.6082338156369238 and parameters: {'units1': 47, 'dropout1': 0.19242899519647033, 'units2': 107, 'dropout2': 0.35751677686052213}. Best is trial 37 with value: 0.48175398452025975.\n"
     ]
    },
    {
     "name": "stdout",
     "output_type": "stream",
     "text": [
      "2/2 [==============================] - 0s 4ms/step\n"
     ]
    },
    {
     "name": "stderr",
     "output_type": "stream",
     "text": [
      "[I 2025-02-09 20:04:43,473] Trial 48 finished with value: 0.5599339780592005 and parameters: {'units1': 178, 'dropout1': 0.2445402322534387, 'units2': 203, 'dropout2': 0.43686383028440745}. Best is trial 37 with value: 0.48175398452025975.\n"
     ]
    },
    {
     "name": "stdout",
     "output_type": "stream",
     "text": [
      "2/2 [==============================] - 0s 2ms/step\n"
     ]
    },
    {
     "name": "stderr",
     "output_type": "stream",
     "text": [
      "[I 2025-02-09 20:04:47,692] Trial 49 finished with value: 0.524112549600899 and parameters: {'units1': 125, 'dropout1': 0.22451531797898117, 'units2': 63, 'dropout2': 0.27923030205297694}. Best is trial 37 with value: 0.48175398452025975.\n"
     ]
    },
    {
     "name": "stdout",
     "output_type": "stream",
     "text": [
      "2/2 [==============================] - 0s 2ms/step\n"
     ]
    },
    {
     "name": "stderr",
     "output_type": "stream",
     "text": [
      "[I 2025-02-09 20:04:52,115] Trial 50 finished with value: 0.5176326041880188 and parameters: {'units1': 149, 'dropout1': 0.3557145278451352, 'units2': 242, 'dropout2': 0.25087916544727246}. Best is trial 37 with value: 0.48175398452025975.\n"
     ]
    },
    {
     "name": "stdout",
     "output_type": "stream",
     "text": [
      "2/2 [==============================] - 0s 2ms/step\n"
     ]
    },
    {
     "name": "stderr",
     "output_type": "stream",
     "text": [
      "[I 2025-02-09 20:04:56,073] Trial 51 finished with value: 0.7818381559199357 and parameters: {'units1': 132, 'dropout1': 0.13217733227739392, 'units2': 44, 'dropout2': 0.1792440069664313}. Best is trial 37 with value: 0.48175398452025975.\n"
     ]
    },
    {
     "name": "stdout",
     "output_type": "stream",
     "text": [
      "2/2 [==============================] - 0s 3ms/step\n"
     ]
    },
    {
     "name": "stderr",
     "output_type": "stream",
     "text": [
      "[I 2025-02-09 20:05:00,494] Trial 52 finished with value: 0.5963015493942602 and parameters: {'units1': 113, 'dropout1': 0.12474198046519112, 'units2': 38, 'dropout2': 0.12216112160112605}. Best is trial 37 with value: 0.48175398452025975.\n"
     ]
    },
    {
     "name": "stdout",
     "output_type": "stream",
     "text": [
      "2/2 [==============================] - 0s 2ms/step\n"
     ]
    },
    {
     "name": "stderr",
     "output_type": "stream",
     "text": [
      "[I 2025-02-09 20:05:04,982] Trial 53 finished with value: 0.6863563020717505 and parameters: {'units1': 125, 'dropout1': 0.15347333159772217, 'units2': 32, 'dropout2': 0.16901431307050518}. Best is trial 37 with value: 0.48175398452025975.\n"
     ]
    },
    {
     "name": "stdout",
     "output_type": "stream",
     "text": [
      "2/2 [==============================] - 0s 4ms/step\n"
     ]
    },
    {
     "name": "stderr",
     "output_type": "stream",
     "text": [
      "[I 2025-02-09 20:05:09,051] Trial 54 finished with value: 0.5471804873226785 and parameters: {'units1': 95, 'dropout1': 0.1167070481806923, 'units2': 42, 'dropout2': 0.14617876255644002}. Best is trial 37 with value: 0.48175398452025975.\n"
     ]
    },
    {
     "name": "stdout",
     "output_type": "stream",
     "text": [
      "2/2 [==============================] - 0s 2ms/step\n"
     ]
    },
    {
     "name": "stderr",
     "output_type": "stream",
     "text": [
      "[I 2025-02-09 20:05:13,496] Trial 55 finished with value: 0.553414220966955 and parameters: {'units1': 139, 'dropout1': 0.2702527129156253, 'units2': 64, 'dropout2': 0.19933492819188717}. Best is trial 37 with value: 0.48175398452025975.\n"
     ]
    },
    {
     "name": "stdout",
     "output_type": "stream",
     "text": [
      "2/2 [==============================] - 0s 3ms/step\n"
     ]
    },
    {
     "name": "stderr",
     "output_type": "stream",
     "text": [
      "[I 2025-02-09 20:05:18,959] Trial 56 finished with value: 0.5021190359021314 and parameters: {'units1': 111, 'dropout1': 0.1711298301839963, 'units2': 87, 'dropout2': 0.17328490104425934}. Best is trial 37 with value: 0.48175398452025975.\n"
     ]
    },
    {
     "name": "stdout",
     "output_type": "stream",
     "text": [
      "2/2 [==============================] - 0s 2ms/step\n"
     ]
    },
    {
     "name": "stderr",
     "output_type": "stream",
     "text": [
      "[I 2025-02-09 20:05:23,300] Trial 57 finished with value: 0.5090795898094927 and parameters: {'units1': 120, 'dropout1': 0.3275225477740731, 'units2': 77, 'dropout2': 0.22485149201049032}. Best is trial 37 with value: 0.48175398452025975.\n"
     ]
    },
    {
     "name": "stdout",
     "output_type": "stream",
     "text": [
      "2/2 [==============================] - 0s 2ms/step\n"
     ]
    },
    {
     "name": "stderr",
     "output_type": "stream",
     "text": [
      "[I 2025-02-09 20:05:27,483] Trial 58 finished with value: 0.7031426448131886 and parameters: {'units1': 131, 'dropout1': 0.13959395361128651, 'units2': 54, 'dropout2': 0.2416156132151147}. Best is trial 37 with value: 0.48175398452025975.\n"
     ]
    },
    {
     "name": "stdout",
     "output_type": "stream",
     "text": [
      "2/2 [==============================] - 0s 2ms/step\n"
     ]
    },
    {
     "name": "stderr",
     "output_type": "stream",
     "text": [
      "[I 2025-02-09 20:05:31,948] Trial 59 finished with value: 0.49714417228911345 and parameters: {'units1': 175, 'dropout1': 0.1946097094640344, 'units2': 48, 'dropout2': 0.37795999404507946}. Best is trial 37 with value: 0.48175398452025975.\n"
     ]
    },
    {
     "name": "stdout",
     "output_type": "stream",
     "text": [
      "2/2 [==============================] - 0s 2ms/step\n"
     ]
    },
    {
     "name": "stderr",
     "output_type": "stream",
     "text": [
      "[I 2025-02-09 20:05:36,868] Trial 60 finished with value: 0.6554327894752757 and parameters: {'units1': 192, 'dropout1': 0.2049193332724458, 'units2': 213, 'dropout2': 0.3788630445564476}. Best is trial 37 with value: 0.48175398452025975.\n"
     ]
    },
    {
     "name": "stdout",
     "output_type": "stream",
     "text": [
      "2/2 [==============================] - 0s 3ms/step\n"
     ]
    },
    {
     "name": "stderr",
     "output_type": "stream",
     "text": [
      "[I 2025-02-09 20:05:41,524] Trial 61 finished with value: 0.5170609679145726 and parameters: {'units1': 209, 'dropout1': 0.17770951041916738, 'units2': 49, 'dropout2': 0.4029797454647841}. Best is trial 37 with value: 0.48175398452025975.\n"
     ]
    },
    {
     "name": "stdout",
     "output_type": "stream",
     "text": [
      "2/2 [==============================] - 0s 3ms/step\n"
     ]
    },
    {
     "name": "stderr",
     "output_type": "stream",
     "text": [
      "[I 2025-02-09 20:05:46,252] Trial 62 finished with value: 0.5323050807709274 and parameters: {'units1': 233, 'dropout1': 0.23288625650790634, 'units2': 40, 'dropout2': 0.3282979983361869}. Best is trial 37 with value: 0.48175398452025975.\n"
     ]
    },
    {
     "name": "stdout",
     "output_type": "stream",
     "text": [
      "2/2 [==============================] - 0s 2ms/step\n"
     ]
    },
    {
     "name": "stderr",
     "output_type": "stream",
     "text": [
      "[I 2025-02-09 20:05:50,994] Trial 63 finished with value: 0.5051095028983844 and parameters: {'units1': 172, 'dropout1': 0.15992158210834637, 'units2': 97, 'dropout2': 0.47327661391800874}. Best is trial 37 with value: 0.48175398452025975.\n"
     ]
    },
    {
     "name": "stdout",
     "output_type": "stream",
     "text": [
      "2/2 [==============================] - 0s 4ms/step\n"
     ]
    },
    {
     "name": "stderr",
     "output_type": "stream",
     "text": [
      "[I 2025-02-09 20:05:55,247] Trial 64 finished with value: 0.6677607800696664 and parameters: {'units1': 160, 'dropout1': 0.1975495013258952, 'units2': 59, 'dropout2': 0.2130750824420311}. Best is trial 37 with value: 0.48175398452025975.\n"
     ]
    },
    {
     "name": "stdout",
     "output_type": "stream",
     "text": [
      "2/2 [==============================] - 0s 2ms/step\n"
     ]
    },
    {
     "name": "stderr",
     "output_type": "stream",
     "text": [
      "[I 2025-02-09 20:05:59,369] Trial 65 finished with value: 0.5147557109541029 and parameters: {'units1': 184, 'dropout1': 0.2143272576272614, 'units2': 48, 'dropout2': 0.36745457440182705}. Best is trial 37 with value: 0.48175398452025975.\n"
     ]
    },
    {
     "name": "stdout",
     "output_type": "stream",
     "text": [
      "2/2 [==============================] - 0s 4ms/step\n"
     ]
    },
    {
     "name": "stderr",
     "output_type": "stream",
     "text": [
      "[I 2025-02-09 20:06:04,933] Trial 66 finished with value: 0.5249627482621628 and parameters: {'units1': 148, 'dropout1': 0.2522003448929196, 'units2': 132, 'dropout2': 0.40572230066078324}. Best is trial 37 with value: 0.48175398452025975.\n"
     ]
    },
    {
     "name": "stdout",
     "output_type": "stream",
     "text": [
      "2/2 [==============================] - 0s 3ms/step\n"
     ]
    },
    {
     "name": "stderr",
     "output_type": "stream",
     "text": [
      "[I 2025-02-09 20:06:09,733] Trial 67 finished with value: 0.5635828098074463 and parameters: {'units1': 135, 'dropout1': 0.43965196966369385, 'units2': 154, 'dropout2': 0.4553355331640784}. Best is trial 37 with value: 0.48175398452025975.\n"
     ]
    },
    {
     "name": "stdout",
     "output_type": "stream",
     "text": [
      "2/2 [==============================] - 0s 2ms/step\n"
     ]
    },
    {
     "name": "stderr",
     "output_type": "stream",
     "text": [
      "[I 2025-02-09 20:06:14,640] Trial 68 finished with value: 0.5559049685569745 and parameters: {'units1': 107, 'dropout1': 0.3809631880504347, 'units2': 171, 'dropout2': 0.3380108258888833}. Best is trial 37 with value: 0.48175398452025975.\n"
     ]
    },
    {
     "name": "stdout",
     "output_type": "stream",
     "text": [
      "2/2 [==============================] - 0s 4ms/step\n"
     ]
    },
    {
     "name": "stderr",
     "output_type": "stream",
     "text": [
      "[I 2025-02-09 20:06:20,568] Trial 69 finished with value: 0.516769342408699 and parameters: {'units1': 121, 'dropout1': 0.2818185022719968, 'units2': 68, 'dropout2': 0.14537630882428362}. Best is trial 37 with value: 0.48175398452025975.\n"
     ]
    },
    {
     "name": "stdout",
     "output_type": "stream",
     "text": [
      "2/2 [==============================] - 0s 4ms/step\n"
     ]
    },
    {
     "name": "stderr",
     "output_type": "stream",
     "text": [
      "[I 2025-02-09 20:06:25,027] Trial 70 finished with value: 0.6264501490141005 and parameters: {'units1': 92, 'dropout1': 0.3085114973906843, 'units2': 34, 'dropout2': 0.1922556374603996}. Best is trial 37 with value: 0.48175398452025975.\n"
     ]
    },
    {
     "name": "stdout",
     "output_type": "stream",
     "text": [
      "2/2 [==============================] - 0s 2ms/step\n"
     ]
    },
    {
     "name": "stderr",
     "output_type": "stream",
     "text": [
      "[I 2025-02-09 20:06:29,593] Trial 71 finished with value: 0.5189049058670612 and parameters: {'units1': 110, 'dropout1': 0.17221304699240048, 'units2': 89, 'dropout2': 0.1745978388626856}. Best is trial 37 with value: 0.48175398452025975.\n"
     ]
    },
    {
     "name": "stdout",
     "output_type": "stream",
     "text": [
      "2/2 [==============================] - 0s 3ms/step\n"
     ]
    },
    {
     "name": "stderr",
     "output_type": "stream",
     "text": [
      "[I 2025-02-09 20:06:33,742] Trial 72 finished with value: 0.48875926099772926 and parameters: {'units1': 101, 'dropout1': 0.1631031301714141, 'units2': 87, 'dropout2': 0.16676073430227514}. Best is trial 37 with value: 0.48175398452025975.\n"
     ]
    },
    {
     "name": "stdout",
     "output_type": "stream",
     "text": [
      "2/2 [==============================] - 0s 2ms/step\n"
     ]
    },
    {
     "name": "stderr",
     "output_type": "stream",
     "text": [
      "[I 2025-02-09 20:06:38,297] Trial 73 finished with value: 0.5138542223096506 and parameters: {'units1': 83, 'dropout1': 0.1616003174785213, 'units2': 55, 'dropout2': 0.43843289293920956}. Best is trial 37 with value: 0.48175398452025975.\n"
     ]
    },
    {
     "name": "stdout",
     "output_type": "stream",
     "text": [
      "2/2 [==============================] - 0s 4ms/step\n"
     ]
    },
    {
     "name": "stderr",
     "output_type": "stream",
     "text": [
      "[I 2025-02-09 20:06:43,194] Trial 74 finished with value: 0.5056976784058553 and parameters: {'units1': 99, 'dropout1': 0.14283362355400145, 'units2': 111, 'dropout2': 0.16434452202686592}. Best is trial 37 with value: 0.48175398452025975.\n"
     ]
    },
    {
     "name": "stdout",
     "output_type": "stream",
     "text": [
      "2/2 [==============================] - 0s 2ms/step\n"
     ]
    },
    {
     "name": "stderr",
     "output_type": "stream",
     "text": [
      "[I 2025-02-09 20:06:48,089] Trial 75 finished with value: 0.5352014780835463 and parameters: {'units1': 143, 'dropout1': 0.1913849781446096, 'units2': 139, 'dropout2': 0.14630014944937983}. Best is trial 37 with value: 0.48175398452025975.\n"
     ]
    },
    {
     "name": "stdout",
     "output_type": "stream",
     "text": [
      "2/2 [==============================] - 0s 4ms/step\n"
     ]
    },
    {
     "name": "stderr",
     "output_type": "stream",
     "text": [
      "[I 2025-02-09 20:06:53,865] Trial 76 finished with value: 0.5103409861851144 and parameters: {'units1': 126, 'dropout1': 0.18326263134951146, 'units2': 256, 'dropout2': 0.4878494944617155}. Best is trial 37 with value: 0.48175398452025975.\n"
     ]
    },
    {
     "name": "stdout",
     "output_type": "stream",
     "text": [
      "2/2 [==============================] - 0s 10ms/step\n"
     ]
    },
    {
     "name": "stderr",
     "output_type": "stream",
     "text": [
      "[I 2025-02-09 20:07:00,403] Trial 77 finished with value: 0.5382392572206689 and parameters: {'units1': 117, 'dropout1': 0.12572626631163272, 'units2': 122, 'dropout2': 0.1263351853782227}. Best is trial 37 with value: 0.48175398452025975.\n"
     ]
    },
    {
     "name": "stdout",
     "output_type": "stream",
     "text": [
      "2/2 [==============================] - 0s 4ms/step\n"
     ]
    },
    {
     "name": "stderr",
     "output_type": "stream",
     "text": [
      "[I 2025-02-09 20:07:06,247] Trial 78 finished with value: 0.5108475549630994 and parameters: {'units1': 153, 'dropout1': 0.10729027969785927, 'units2': 80, 'dropout2': 0.18737750231072256}. Best is trial 37 with value: 0.48175398452025975.\n"
     ]
    },
    {
     "name": "stdout",
     "output_type": "stream",
     "text": [
      "2/2 [==============================] - 0s 3ms/step\n"
     ]
    },
    {
     "name": "stderr",
     "output_type": "stream",
     "text": [
      "[I 2025-02-09 20:07:11,419] Trial 79 finished with value: 0.5201919086050814 and parameters: {'units1': 75, 'dropout1': 0.14291527837903328, 'units2': 93, 'dropout2': 0.46539625239284466}. Best is trial 37 with value: 0.48175398452025975.\n"
     ]
    },
    {
     "name": "stdout",
     "output_type": "stream",
     "text": [
      "2/2 [==============================] - 0s 2ms/step\n"
     ]
    },
    {
     "name": "stderr",
     "output_type": "stream",
     "text": [
      "[I 2025-02-09 20:07:16,280] Trial 80 finished with value: 0.517105822536417 and parameters: {'units1': 130, 'dropout1': 0.21794099657901697, 'units2': 45, 'dropout2': 0.20220052309342854}. Best is trial 37 with value: 0.48175398452025975.\n"
     ]
    },
    {
     "name": "stdout",
     "output_type": "stream",
     "text": [
      "2/2 [==============================] - 0s 5ms/step\n"
     ]
    },
    {
     "name": "stderr",
     "output_type": "stream",
     "text": [
      "[I 2025-02-09 20:07:22,473] Trial 81 finished with value: 0.6709652571785789 and parameters: {'units1': 99, 'dropout1': 0.1661773028424251, 'units2': 84, 'dropout2': 0.17448621538752754}. Best is trial 37 with value: 0.48175398452025975.\n"
     ]
    },
    {
     "name": "stdout",
     "output_type": "stream",
     "text": [
      "2/2 [==============================] - 0s 4ms/step\n"
     ]
    },
    {
     "name": "stderr",
     "output_type": "stream",
     "text": [
      "[I 2025-02-09 20:07:27,447] Trial 82 finished with value: 0.4986169380081881 and parameters: {'units1': 109, 'dropout1': 0.17744644852046745, 'units2': 73, 'dropout2': 0.21373810645946661}. Best is trial 37 with value: 0.48175398452025975.\n"
     ]
    },
    {
     "name": "stdout",
     "output_type": "stream",
     "text": [
      "2/2 [==============================] - 0s 3ms/step\n"
     ]
    },
    {
     "name": "stderr",
     "output_type": "stream",
     "text": [
      "[I 2025-02-09 20:07:32,346] Trial 83 finished with value: 0.6881482037644758 and parameters: {'units1': 105, 'dropout1': 0.1504228023048522, 'units2': 100, 'dropout2': 0.2680867241905463}. Best is trial 37 with value: 0.48175398452025975.\n"
     ]
    },
    {
     "name": "stdout",
     "output_type": "stream",
     "text": [
      "2/2 [==============================] - 0s 4ms/step\n"
     ]
    },
    {
     "name": "stderr",
     "output_type": "stream",
     "text": [
      "[I 2025-02-09 20:07:38,962] Trial 84 finished with value: 0.5398723382064168 and parameters: {'units1': 90, 'dropout1': 0.1773992532586633, 'units2': 73, 'dropout2': 0.23441433423853894}. Best is trial 37 with value: 0.48175398452025975.\n"
     ]
    },
    {
     "name": "stdout",
     "output_type": "stream",
     "text": [
      "2/2 [==============================] - 0s 11ms/step\n"
     ]
    },
    {
     "name": "stderr",
     "output_type": "stream",
     "text": [
      "[I 2025-02-09 20:07:49,339] Trial 85 finished with value: 0.5390916096182403 and parameters: {'units1': 145, 'dropout1': 0.4154128041112962, 'units2': 61, 'dropout2': 0.2187432539359494}. Best is trial 37 with value: 0.48175398452025975.\n"
     ]
    },
    {
     "name": "stdout",
     "output_type": "stream",
     "text": [
      "2/2 [==============================] - 0s 5ms/step\n"
     ]
    },
    {
     "name": "stderr",
     "output_type": "stream",
     "text": [
      "[I 2025-02-09 20:07:56,094] Trial 86 finished with value: 0.6335578652847783 and parameters: {'units1': 67, 'dropout1': 0.207167071567961, 'units2': 67, 'dropout2': 0.13538289654550467}. Best is trial 37 with value: 0.48175398452025975.\n"
     ]
    },
    {
     "name": "stdout",
     "output_type": "stream",
     "text": [
      "2/2 [==============================] - 0s 6ms/step\n"
     ]
    },
    {
     "name": "stderr",
     "output_type": "stream",
     "text": [
      "[I 2025-02-09 20:08:02,745] Trial 87 finished with value: 0.5016532664818033 and parameters: {'units1': 136, 'dropout1': 0.2279117779063309, 'units2': 38, 'dropout2': 0.1990298916566504}. Best is trial 37 with value: 0.48175398452025975.\n"
     ]
    },
    {
     "name": "stdout",
     "output_type": "stream",
     "text": [
      "2/2 [==============================] - 0s 4ms/step\n"
     ]
    },
    {
     "name": "stderr",
     "output_type": "stream",
     "text": [
      "[I 2025-02-09 20:08:07,993] Trial 88 finished with value: 0.5454390005107579 and parameters: {'units1': 124, 'dropout1': 0.13245570505519227, 'units2': 50, 'dropout2': 0.3127848022985774}. Best is trial 37 with value: 0.48175398452025975.\n"
     ]
    },
    {
     "name": "stdout",
     "output_type": "stream",
     "text": [
      "2/2 [==============================] - 0s 94ms/step\n"
     ]
    },
    {
     "name": "stderr",
     "output_type": "stream",
     "text": [
      "[I 2025-02-09 20:08:12,285] Trial 89 finished with value: 0.5336184038550014 and parameters: {'units1': 113, 'dropout1': 0.24114263071536007, 'units2': 32, 'dropout2': 0.4413438916765515}. Best is trial 37 with value: 0.48175398452025975.\n"
     ]
    },
    {
     "name": "stdout",
     "output_type": "stream",
     "text": [
      "2/2 [==============================] - 0s 4ms/step\n"
     ]
    },
    {
     "name": "stderr",
     "output_type": "stream",
     "text": [
      "[I 2025-02-09 20:08:18,120] Trial 90 finished with value: 0.4922736221101528 and parameters: {'units1': 159, 'dropout1': 0.19449760571872035, 'units2': 59, 'dropout2': 0.21307571698837863}. Best is trial 37 with value: 0.48175398452025975.\n"
     ]
    },
    {
     "name": "stdout",
     "output_type": "stream",
     "text": [
      "2/2 [==============================] - 0s 2ms/step\n"
     ]
    },
    {
     "name": "stderr",
     "output_type": "stream",
     "text": [
      "[I 2025-02-09 20:08:24,840] Trial 91 finished with value: 0.5062179239125855 and parameters: {'units1': 160, 'dropout1': 0.19001046977202715, 'units2': 58, 'dropout2': 0.181108289319553}. Best is trial 37 with value: 0.48175398452025975.\n"
     ]
    },
    {
     "name": "stdout",
     "output_type": "stream",
     "text": [
      "2/2 [==============================] - 0s 2ms/step\n"
     ]
    },
    {
     "name": "stderr",
     "output_type": "stream",
     "text": [
      "[I 2025-02-09 20:08:29,539] Trial 92 finished with value: 0.6157116704939767 and parameters: {'units1': 166, 'dropout1': 0.1596669657190968, 'units2': 76, 'dropout2': 0.2517251350086708}. Best is trial 37 with value: 0.48175398452025975.\n"
     ]
    },
    {
     "name": "stdout",
     "output_type": "stream",
     "text": [
      "2/2 [==============================] - 0s 2ms/step\n"
     ]
    },
    {
     "name": "stderr",
     "output_type": "stream",
     "text": [
      "[I 2025-02-09 20:08:33,795] Trial 93 finished with value: 0.5200662854613506 and parameters: {'units1': 129, 'dropout1': 0.19859688876229986, 'units2': 44, 'dropout2': 0.22683721259498937}. Best is trial 37 with value: 0.48175398452025975.\n"
     ]
    },
    {
     "name": "stdout",
     "output_type": "stream",
     "text": [
      "2/2 [==============================] - 0s 2ms/step\n"
     ]
    },
    {
     "name": "stderr",
     "output_type": "stream",
     "text": [
      "[I 2025-02-09 20:08:38,466] Trial 94 finished with value: 0.5856213296814605 and parameters: {'units1': 117, 'dropout1': 0.18213152319532103, 'units2': 197, 'dropout2': 0.21284113166516805}. Best is trial 37 with value: 0.48175398452025975.\n"
     ]
    },
    {
     "name": "stdout",
     "output_type": "stream",
     "text": [
      "2/2 [==============================] - 0s 2ms/step\n"
     ]
    },
    {
     "name": "stderr",
     "output_type": "stream",
     "text": [
      "[I 2025-02-09 20:08:42,842] Trial 95 finished with value: 0.5559350960374243 and parameters: {'units1': 180, 'dropout1': 0.11175223388877167, 'units2': 53, 'dropout2': 0.16151264487659633}. Best is trial 37 with value: 0.48175398452025975.\n"
     ]
    },
    {
     "name": "stdout",
     "output_type": "stream",
     "text": [
      "2/2 [==============================] - 0s 4ms/step\n"
     ]
    },
    {
     "name": "stderr",
     "output_type": "stream",
     "text": [
      "[I 2025-02-09 20:08:47,569] Trial 96 finished with value: 0.505369208830364 and parameters: {'units1': 173, 'dropout1': 0.14926734786554516, 'units2': 66, 'dropout2': 0.41437475177323724}. Best is trial 37 with value: 0.48175398452025975.\n"
     ]
    },
    {
     "name": "stdout",
     "output_type": "stream",
     "text": [
      "2/2 [==============================] - 0s 3ms/step\n"
     ]
    },
    {
     "name": "stderr",
     "output_type": "stream",
     "text": [
      "[I 2025-02-09 20:08:52,222] Trial 97 finished with value: 0.5561387626148505 and parameters: {'units1': 156, 'dropout1': 0.2561121254886361, 'units2': 39, 'dropout2': 0.19322124224601922}. Best is trial 37 with value: 0.48175398452025975.\n"
     ]
    },
    {
     "name": "stdout",
     "output_type": "stream",
     "text": [
      "2/2 [==============================] - 0s 2ms/step\n"
     ]
    },
    {
     "name": "stderr",
     "output_type": "stream",
     "text": [
      "[I 2025-02-09 20:08:56,738] Trial 98 finished with value: 0.5107184554771133 and parameters: {'units1': 140, 'dropout1': 0.21172507265210647, 'units2': 229, 'dropout2': 0.1512391789480004}. Best is trial 37 with value: 0.48175398452025975.\n"
     ]
    },
    {
     "name": "stdout",
     "output_type": "stream",
     "text": [
      "2/2 [==============================] - 0s 2ms/step\n"
     ]
    },
    {
     "name": "stderr",
     "output_type": "stream",
     "text": [
      "[I 2025-02-09 20:09:00,890] Trial 99 finished with value: 0.5681865608903021 and parameters: {'units1': 109, 'dropout1': 0.22511992074112783, 'units2': 60, 'dropout2': 0.11324673504620845}. Best is trial 37 with value: 0.48175398452025975.\n",
      "[I 2025-02-09 20:09:00,901] A new study created in memory with name: no-name-9bc6f66b-2b8a-4927-90d9-5e6830053b16\n"
     ]
    },
    {
     "name": "stdout",
     "output_type": "stream",
     "text": [
      "\n",
      "\n",
      "Ethanol (g/L):\n",
      "\n",
      "MSE:  0.48175398452025975\n",
      "2/2 [==============================] - 0s 2ms/step\n"
     ]
    },
    {
     "name": "stderr",
     "output_type": "stream",
     "text": [
      "[I 2025-02-09 20:09:05,056] Trial 0 finished with value: 0.27862267622115405 and parameters: {'units1': 104, 'dropout1': 0.47362824351656607, 'units2': 224, 'dropout2': 0.15506285562143454}. Best is trial 0 with value: 0.27862267622115405.\n"
     ]
    },
    {
     "name": "stdout",
     "output_type": "stream",
     "text": [
      "2/2 [==============================] - 0s 5ms/step\n"
     ]
    },
    {
     "name": "stderr",
     "output_type": "stream",
     "text": [
      "[I 2025-02-09 20:09:10,278] Trial 1 finished with value: 0.28235422341817645 and parameters: {'units1': 228, 'dropout1': 0.4416578556774988, 'units2': 138, 'dropout2': 0.25990316445464057}. Best is trial 0 with value: 0.27862267622115405.\n"
     ]
    },
    {
     "name": "stdout",
     "output_type": "stream",
     "text": [
      "2/2 [==============================] - 0s 3ms/step\n"
     ]
    },
    {
     "name": "stderr",
     "output_type": "stream",
     "text": [
      "[I 2025-02-09 20:09:15,587] Trial 2 finished with value: 0.36596886147384544 and parameters: {'units1': 233, 'dropout1': 0.10251124355758448, 'units2': 254, 'dropout2': 0.31083552819629423}. Best is trial 0 with value: 0.27862267622115405.\n"
     ]
    },
    {
     "name": "stdout",
     "output_type": "stream",
     "text": [
      "2/2 [==============================] - 0s 3ms/step\n"
     ]
    },
    {
     "name": "stderr",
     "output_type": "stream",
     "text": [
      "[I 2025-02-09 20:09:20,269] Trial 3 finished with value: 0.26102251797938675 and parameters: {'units1': 180, 'dropout1': 0.44399024645081225, 'units2': 169, 'dropout2': 0.46140102125282895}. Best is trial 3 with value: 0.26102251797938675.\n"
     ]
    },
    {
     "name": "stdout",
     "output_type": "stream",
     "text": [
      "2/2 [==============================] - 0s 4ms/step\n"
     ]
    },
    {
     "name": "stderr",
     "output_type": "stream",
     "text": [
      "[I 2025-02-09 20:09:26,457] Trial 4 finished with value: 0.28821953624653257 and parameters: {'units1': 160, 'dropout1': 0.1280616726973884, 'units2': 165, 'dropout2': 0.2964965298453551}. Best is trial 3 with value: 0.26102251797938675.\n"
     ]
    },
    {
     "name": "stdout",
     "output_type": "stream",
     "text": [
      "2/2 [==============================] - 0s 2ms/step\n"
     ]
    },
    {
     "name": "stderr",
     "output_type": "stream",
     "text": [
      "[I 2025-02-09 20:09:31,324] Trial 5 finished with value: 0.3730701726753684 and parameters: {'units1': 212, 'dropout1': 0.1585439186215096, 'units2': 164, 'dropout2': 0.38611443482998636}. Best is trial 3 with value: 0.26102251797938675.\n"
     ]
    },
    {
     "name": "stdout",
     "output_type": "stream",
     "text": [
      "2/2 [==============================] - 0s 4ms/step\n"
     ]
    },
    {
     "name": "stderr",
     "output_type": "stream",
     "text": [
      "[I 2025-02-09 20:09:36,235] Trial 6 finished with value: 0.28505380828295734 and parameters: {'units1': 253, 'dropout1': 0.3783268994881111, 'units2': 88, 'dropout2': 0.3046764130062458}. Best is trial 3 with value: 0.26102251797938675.\n"
     ]
    },
    {
     "name": "stdout",
     "output_type": "stream",
     "text": [
      "2/2 [==============================] - 0s 2ms/step\n"
     ]
    },
    {
     "name": "stderr",
     "output_type": "stream",
     "text": [
      "[I 2025-02-09 20:09:41,244] Trial 7 finished with value: 0.513424909324302 and parameters: {'units1': 256, 'dropout1': 0.19852156529517528, 'units2': 216, 'dropout2': 0.13505677248764578}. Best is trial 3 with value: 0.26102251797938675.\n"
     ]
    },
    {
     "name": "stdout",
     "output_type": "stream",
     "text": [
      "2/2 [==============================] - 0s 6ms/step\n"
     ]
    },
    {
     "name": "stderr",
     "output_type": "stream",
     "text": [
      "[I 2025-02-09 20:09:46,013] Trial 8 finished with value: 0.2775611087516702 and parameters: {'units1': 47, 'dropout1': 0.40469359993225296, 'units2': 108, 'dropout2': 0.3855474992876294}. Best is trial 3 with value: 0.26102251797938675.\n"
     ]
    },
    {
     "name": "stdout",
     "output_type": "stream",
     "text": [
      "2/2 [==============================] - 0s 4ms/step\n"
     ]
    },
    {
     "name": "stderr",
     "output_type": "stream",
     "text": [
      "[I 2025-02-09 20:09:52,278] Trial 9 finished with value: 0.28057227495859466 and parameters: {'units1': 197, 'dropout1': 0.29643361986692746, 'units2': 181, 'dropout2': 0.44608988582644155}. Best is trial 3 with value: 0.26102251797938675.\n"
     ]
    },
    {
     "name": "stdout",
     "output_type": "stream",
     "text": [
      "2/2 [==============================] - 0s 2ms/step\n"
     ]
    },
    {
     "name": "stderr",
     "output_type": "stream",
     "text": [
      "[I 2025-02-09 20:09:56,902] Trial 10 finished with value: 0.3864273587051293 and parameters: {'units1': 130, 'dropout1': 0.31150376696543547, 'units2': 47, 'dropout2': 0.4974089409654371}. Best is trial 3 with value: 0.26102251797938675.\n"
     ]
    },
    {
     "name": "stdout",
     "output_type": "stream",
     "text": [
      "2/2 [==============================] - 0s 4ms/step\n"
     ]
    },
    {
     "name": "stderr",
     "output_type": "stream",
     "text": [
      "[I 2025-02-09 20:10:01,046] Trial 11 finished with value: 0.28300204862402223 and parameters: {'units1': 36, 'dropout1': 0.3991271137544663, 'units2': 114, 'dropout2': 0.40314563835332046}. Best is trial 3 with value: 0.26102251797938675.\n"
     ]
    },
    {
     "name": "stdout",
     "output_type": "stream",
     "text": [
      "2/2 [==============================] - 0s 2ms/step\n"
     ]
    },
    {
     "name": "stderr",
     "output_type": "stream",
     "text": [
      "[I 2025-02-09 20:10:04,838] Trial 12 finished with value: 0.29772573752510156 and parameters: {'units1': 32, 'dropout1': 0.3541011735283436, 'units2': 79, 'dropout2': 0.3835466899984192}. Best is trial 3 with value: 0.26102251797938675.\n"
     ]
    },
    {
     "name": "stdout",
     "output_type": "stream",
     "text": [
      "2/2 [==============================] - 0s 2ms/step\n"
     ]
    },
    {
     "name": "stderr",
     "output_type": "stream",
     "text": [
      "[I 2025-02-09 20:10:08,740] Trial 13 finished with value: 0.2895520793189083 and parameters: {'units1': 76, 'dropout1': 0.49049807195433603, 'units2': 126, 'dropout2': 0.47102694572405895}. Best is trial 3 with value: 0.26102251797938675.\n"
     ]
    },
    {
     "name": "stdout",
     "output_type": "stream",
     "text": [
      "2/2 [==============================] - 0s 2ms/step\n"
     ]
    },
    {
     "name": "stderr",
     "output_type": "stream",
     "text": [
      "[I 2025-02-09 20:10:13,468] Trial 14 finished with value: 0.2798328024938222 and parameters: {'units1': 173, 'dropout1': 0.4266890752410097, 'units2': 97, 'dropout2': 0.4181382023388204}. Best is trial 3 with value: 0.26102251797938675.\n"
     ]
    },
    {
     "name": "stdout",
     "output_type": "stream",
     "text": [
      "2/2 [==============================] - 0s 2ms/step\n"
     ]
    },
    {
     "name": "stderr",
     "output_type": "stream",
     "text": [
      "[I 2025-02-09 20:10:17,941] Trial 15 finished with value: 0.2825672856379739 and parameters: {'units1': 134, 'dropout1': 0.26374332716381876, 'units2': 198, 'dropout2': 0.3550390063437594}. Best is trial 3 with value: 0.26102251797938675.\n"
     ]
    },
    {
     "name": "stdout",
     "output_type": "stream",
     "text": [
      "2/2 [==============================] - 0s 4ms/step\n"
     ]
    },
    {
     "name": "stderr",
     "output_type": "stream",
     "text": [
      "[I 2025-02-09 20:10:21,990] Trial 16 finished with value: 0.27563805232195054 and parameters: {'units1': 82, 'dropout1': 0.3435635521556648, 'units2': 39, 'dropout2': 0.22602430986561897}. Best is trial 3 with value: 0.26102251797938675.\n"
     ]
    },
    {
     "name": "stdout",
     "output_type": "stream",
     "text": [
      "2/2 [==============================] - 0s 2ms/step\n"
     ]
    },
    {
     "name": "stderr",
     "output_type": "stream",
     "text": [
      "[I 2025-02-09 20:10:26,194] Trial 17 finished with value: 0.2665029194203842 and parameters: {'units1': 99, 'dropout1': 0.24460911796325974, 'units2': 42, 'dropout2': 0.2109600623778847}. Best is trial 3 with value: 0.26102251797938675.\n"
     ]
    },
    {
     "name": "stdout",
     "output_type": "stream",
     "text": [
      "2/2 [==============================] - 0s 3ms/step\n"
     ]
    },
    {
     "name": "stderr",
     "output_type": "stream",
     "text": [
      "[I 2025-02-09 20:10:30,417] Trial 18 finished with value: 0.29016282257597736 and parameters: {'units1': 110, 'dropout1': 0.2316251109695616, 'units2': 68, 'dropout2': 0.20176572382416053}. Best is trial 3 with value: 0.26102251797938675.\n"
     ]
    },
    {
     "name": "stdout",
     "output_type": "stream",
     "text": [
      "2/2 [==============================] - 0s 2ms/step\n"
     ]
    },
    {
     "name": "stderr",
     "output_type": "stream",
     "text": [
      "[I 2025-02-09 20:10:35,129] Trial 19 finished with value: 0.2806858876160006 and parameters: {'units1': 176, 'dropout1': 0.21707778814944223, 'units2': 151, 'dropout2': 0.18748297782518641}. Best is trial 3 with value: 0.26102251797938675.\n"
     ]
    },
    {
     "name": "stdout",
     "output_type": "stream",
     "text": [
      "2/2 [==============================] - 0s 2ms/step\n"
     ]
    },
    {
     "name": "stderr",
     "output_type": "stream",
     "text": [
      "[I 2025-02-09 20:10:39,168] Trial 20 finished with value: 0.270308244936283 and parameters: {'units1': 151, 'dropout1': 0.2719158191679808, 'units2': 56, 'dropout2': 0.1020519751179515}. Best is trial 3 with value: 0.26102251797938675.\n"
     ]
    },
    {
     "name": "stdout",
     "output_type": "stream",
     "text": [
      "2/2 [==============================] - 0s 2ms/step\n"
     ]
    },
    {
     "name": "stderr",
     "output_type": "stream",
     "text": [
      "[I 2025-02-09 20:10:43,454] Trial 21 finished with value: 0.28265561390147353 and parameters: {'units1': 152, 'dropout1': 0.26778154584968095, 'units2': 52, 'dropout2': 0.10104720142958971}. Best is trial 3 with value: 0.26102251797938675.\n"
     ]
    },
    {
     "name": "stdout",
     "output_type": "stream",
     "text": [
      "2/2 [==============================] - 0s 2ms/step\n"
     ]
    },
    {
     "name": "stderr",
     "output_type": "stream",
     "text": [
      "[I 2025-02-09 20:10:47,823] Trial 22 finished with value: 0.3714897931743636 and parameters: {'units1': 117, 'dropout1': 0.17591833933674084, 'units2': 64, 'dropout2': 0.10752915072525032}. Best is trial 3 with value: 0.26102251797938675.\n"
     ]
    },
    {
     "name": "stdout",
     "output_type": "stream",
     "text": [
      "2/2 [==============================] - 0s 3ms/step\n"
     ]
    },
    {
     "name": "stderr",
     "output_type": "stream",
     "text": [
      "[I 2025-02-09 20:10:52,391] Trial 23 finished with value: 0.29360899034711885 and parameters: {'units1': 191, 'dropout1': 0.2541105602606355, 'units2': 33, 'dropout2': 0.24633259436561927}. Best is trial 3 with value: 0.26102251797938675.\n"
     ]
    },
    {
     "name": "stdout",
     "output_type": "stream",
     "text": [
      "2/2 [==============================] - 0s 2ms/step\n"
     ]
    },
    {
     "name": "stderr",
     "output_type": "stream",
     "text": [
      "[I 2025-02-09 20:10:56,426] Trial 24 finished with value: 0.28668446837712075 and parameters: {'units1': 88, 'dropout1': 0.31607060353990757, 'units2': 67, 'dropout2': 0.15928176199921004}. Best is trial 3 with value: 0.26102251797938675.\n"
     ]
    },
    {
     "name": "stdout",
     "output_type": "stream",
     "text": [
      "2/2 [==============================] - 0s 3ms/step\n"
     ]
    },
    {
     "name": "stderr",
     "output_type": "stream",
     "text": [
      "[I 2025-02-09 20:11:01,022] Trial 25 finished with value: 0.2670537759741339 and parameters: {'units1': 142, 'dropout1': 0.2791466304919177, 'units2': 186, 'dropout2': 0.3435111873554568}. Best is trial 3 with value: 0.26102251797938675.\n"
     ]
    },
    {
     "name": "stdout",
     "output_type": "stream",
     "text": [
      "2/2 [==============================] - 0s 2ms/step\n"
     ]
    },
    {
     "name": "stderr",
     "output_type": "stream",
     "text": [
      "[I 2025-02-09 20:11:05,799] Trial 26 finished with value: 0.3542832875064033 and parameters: {'units1': 129, 'dropout1': 0.34817294554859696, 'units2': 190, 'dropout2': 0.332259486602803}. Best is trial 3 with value: 0.26102251797938675.\n"
     ]
    },
    {
     "name": "stdout",
     "output_type": "stream",
     "text": [
      "2/2 [==============================] - 0s 4ms/step\n"
     ]
    },
    {
     "name": "stderr",
     "output_type": "stream",
     "text": [
      "[I 2025-02-09 20:11:10,969] Trial 27 finished with value: 0.31718297772199855 and parameters: {'units1': 70, 'dropout1': 0.23623698984760838, 'units2': 221, 'dropout2': 0.2714444906952132}. Best is trial 3 with value: 0.26102251797938675.\n"
     ]
    },
    {
     "name": "stdout",
     "output_type": "stream",
     "text": [
      "2/2 [==============================] - 0s 6ms/step\n"
     ]
    },
    {
     "name": "stderr",
     "output_type": "stream",
     "text": [
      "[I 2025-02-09 20:11:15,785] Trial 28 finished with value: 0.2866056464891466 and parameters: {'units1': 97, 'dropout1': 0.2937940332395682, 'units2': 175, 'dropout2': 0.44054140819188764}. Best is trial 3 with value: 0.26102251797938675.\n"
     ]
    },
    {
     "name": "stdout",
     "output_type": "stream",
     "text": [
      "2/2 [==============================] - 0s 2ms/step\n"
     ]
    },
    {
     "name": "stderr",
     "output_type": "stream",
     "text": [
      "[I 2025-02-09 20:11:20,745] Trial 29 finished with value: 0.40120559891352764 and parameters: {'units1': 170, 'dropout1': 0.45262002628135783, 'units2': 247, 'dropout2': 0.35191108142266586}. Best is trial 3 with value: 0.26102251797938675.\n"
     ]
    },
    {
     "name": "stdout",
     "output_type": "stream",
     "text": [
      "2/2 [==============================] - 0s 3ms/step\n"
     ]
    },
    {
     "name": "stderr",
     "output_type": "stream",
     "text": [
      "[I 2025-02-09 20:11:24,716] Trial 30 finished with value: 0.2975858774027552 and parameters: {'units1': 57, 'dropout1': 0.18532523840760765, 'units2': 200, 'dropout2': 0.22417763103062927}. Best is trial 3 with value: 0.26102251797938675.\n"
     ]
    },
    {
     "name": "stdout",
     "output_type": "stream",
     "text": [
      "2/2 [==============================] - 0s 2ms/step\n"
     ]
    },
    {
     "name": "stderr",
     "output_type": "stream",
     "text": [
      "[I 2025-02-09 20:11:29,393] Trial 31 finished with value: 0.36081758342297643 and parameters: {'units1': 146, 'dropout1': 0.27876757937259355, 'units2': 134, 'dropout2': 0.16182533612966582}. Best is trial 3 with value: 0.26102251797938675.\n"
     ]
    },
    {
     "name": "stdout",
     "output_type": "stream",
     "text": [
      "2/2 [==============================] - 0s 4ms/step\n"
     ]
    },
    {
     "name": "stderr",
     "output_type": "stream",
     "text": [
      "[I 2025-02-09 20:11:34,100] Trial 32 finished with value: 0.29270430905839234 and parameters: {'units1': 115, 'dropout1': 0.3257774323527874, 'units2': 149, 'dropout2': 0.18604390827860542}. Best is trial 3 with value: 0.26102251797938675.\n"
     ]
    },
    {
     "name": "stdout",
     "output_type": "stream",
     "text": [
      "2/2 [==============================] - 0s 3ms/step\n"
     ]
    },
    {
     "name": "stderr",
     "output_type": "stream",
     "text": [
      "[I 2025-02-09 20:11:38,984] Trial 33 finished with value: 0.2826135314096098 and parameters: {'units1': 192, 'dropout1': 0.24199897137742393, 'units2': 210, 'dropout2': 0.1374627095685268}. Best is trial 3 with value: 0.26102251797938675.\n"
     ]
    },
    {
     "name": "stdout",
     "output_type": "stream",
     "text": [
      "2/2 [==============================] - 0s 2ms/step\n"
     ]
    },
    {
     "name": "stderr",
     "output_type": "stream",
     "text": [
      "[I 2025-02-09 20:11:43,718] Trial 34 finished with value: 0.30594650743253526 and parameters: {'units1': 157, 'dropout1': 0.21350185481088257, 'units2': 167, 'dropout2': 0.26903631248060605}. Best is trial 3 with value: 0.26102251797938675.\n"
     ]
    },
    {
     "name": "stdout",
     "output_type": "stream",
     "text": [
      "2/2 [==============================] - 0s 5ms/step\n"
     ]
    },
    {
     "name": "stderr",
     "output_type": "stream",
     "text": [
      "[I 2025-02-09 20:11:48,534] Trial 35 finished with value: 0.30360455305395573 and parameters: {'units1': 213, 'dropout1': 0.2769707218119588, 'units2': 55, 'dropout2': 0.34668235678672965}. Best is trial 3 with value: 0.26102251797938675.\n"
     ]
    },
    {
     "name": "stdout",
     "output_type": "stream",
     "text": [
      "2/2 [==============================] - 0s 2ms/step\n"
     ]
    },
    {
     "name": "stderr",
     "output_type": "stream",
     "text": [
      "[I 2025-02-09 20:11:53,199] Trial 36 finished with value: 0.3079457961050189 and parameters: {'units1': 164, 'dropout1': 0.1612407339275669, 'units2': 235, 'dropout2': 0.28282941969746317}. Best is trial 3 with value: 0.26102251797938675.\n"
     ]
    },
    {
     "name": "stdout",
     "output_type": "stream",
     "text": [
      "2/2 [==============================] - 0s 4ms/step\n"
     ]
    },
    {
     "name": "stderr",
     "output_type": "stream",
     "text": [
      "[I 2025-02-09 20:11:57,629] Trial 37 finished with value: 0.2857846908520668 and parameters: {'units1': 141, 'dropout1': 0.13329337322767784, 'units2': 158, 'dropout2': 0.31595968957302434}. Best is trial 3 with value: 0.26102251797938675.\n"
     ]
    },
    {
     "name": "stdout",
     "output_type": "stream",
     "text": [
      "2/2 [==============================] - 0s 2ms/step\n"
     ]
    },
    {
     "name": "stderr",
     "output_type": "stream",
     "text": [
      "[I 2025-02-09 20:12:01,753] Trial 38 finished with value: 0.2727811337266994 and parameters: {'units1': 96, 'dropout1': 0.3801675875911402, 'units2': 182, 'dropout2': 0.24972304661428196}. Best is trial 3 with value: 0.26102251797938675.\n"
     ]
    },
    {
     "name": "stdout",
     "output_type": "stream",
     "text": [
      "2/2 [==============================] - 0s 4ms/step\n"
     ]
    },
    {
     "name": "stderr",
     "output_type": "stream",
     "text": [
      "[I 2025-02-09 20:12:06,731] Trial 39 finished with value: 0.2865455941283113 and parameters: {'units1': 230, 'dropout1': 0.2886515681033929, 'units2': 86, 'dropout2': 0.13636292892910704}. Best is trial 3 with value: 0.26102251797938675.\n"
     ]
    },
    {
     "name": "stdout",
     "output_type": "stream",
     "text": [
      "2/2 [==============================] - 0s 2ms/step\n"
     ]
    },
    {
     "name": "stderr",
     "output_type": "stream",
     "text": [
      "[I 2025-02-09 20:12:11,135] Trial 40 finished with value: 0.2805033405959671 and parameters: {'units1': 180, 'dropout1': 0.32995713651078873, 'units2': 120, 'dropout2': 0.4983667488721687}. Best is trial 3 with value: 0.26102251797938675.\n"
     ]
    },
    {
     "name": "stdout",
     "output_type": "stream",
     "text": [
      "2/2 [==============================] - 0s 2ms/step\n"
     ]
    },
    {
     "name": "stderr",
     "output_type": "stream",
     "text": [
      "[I 2025-02-09 20:12:15,247] Trial 41 finished with value: 0.3701405224052676 and parameters: {'units1': 100, 'dropout1': 0.37791847458310684, 'units2': 183, 'dropout2': 0.24241493506965478}. Best is trial 3 with value: 0.26102251797938675.\n"
     ]
    },
    {
     "name": "stdout",
     "output_type": "stream",
     "text": [
      "2/2 [==============================] - 0s 3ms/step\n"
     ]
    },
    {
     "name": "stderr",
     "output_type": "stream",
     "text": [
      "[I 2025-02-09 20:12:19,835] Trial 42 finished with value: 0.2895678961720588 and parameters: {'units1': 119, 'dropout1': 0.45897763512900724, 'units2': 140, 'dropout2': 0.21215488443381467}. Best is trial 3 with value: 0.26102251797938675.\n"
     ]
    },
    {
     "name": "stdout",
     "output_type": "stream",
     "text": [
      "2/2 [==============================] - 0s 3ms/step\n"
     ]
    },
    {
     "name": "stderr",
     "output_type": "stream",
     "text": [
      "[I 2025-02-09 20:12:24,834] Trial 43 finished with value: 0.27522904549863086 and parameters: {'units1': 209, 'dropout1': 0.41289163408648955, 'units2': 174, 'dropout2': 0.3010774148892946}. Best is trial 3 with value: 0.26102251797938675.\n"
     ]
    },
    {
     "name": "stdout",
     "output_type": "stream",
     "text": [
      "2/2 [==============================] - 0s 2ms/step\n"
     ]
    },
    {
     "name": "stderr",
     "output_type": "stream",
     "text": [
      "[I 2025-02-09 20:12:28,898] Trial 44 finished with value: 0.31411591402835626 and parameters: {'units1': 63, 'dropout1': 0.4759175402422155, 'units2': 202, 'dropout2': 0.18395326477900148}. Best is trial 3 with value: 0.26102251797938675.\n"
     ]
    },
    {
     "name": "stdout",
     "output_type": "stream",
     "text": [
      "2/2 [==============================] - 0s 3ms/step\n"
     ]
    },
    {
     "name": "stderr",
     "output_type": "stream",
     "text": [
      "[I 2025-02-09 20:12:34,375] Trial 45 finished with value: 0.297700342267269 and parameters: {'units1': 91, 'dropout1': 0.36778044551880856, 'units2': 160, 'dropout2': 0.24734497453477933}. Best is trial 3 with value: 0.26102251797938675.\n"
     ]
    },
    {
     "name": "stdout",
     "output_type": "stream",
     "text": [
      "2/2 [==============================] - 0s 2ms/step\n"
     ]
    },
    {
     "name": "stderr",
     "output_type": "stream",
     "text": [
      "[I 2025-02-09 20:12:39,032] Trial 46 finished with value: 0.27537572920449616 and parameters: {'units1': 125, 'dropout1': 0.4252965655528034, 'units2': 191, 'dropout2': 0.45203942372388056}. Best is trial 3 with value: 0.26102251797938675.\n"
     ]
    },
    {
     "name": "stdout",
     "output_type": "stream",
     "text": [
      "2/2 [==============================] - 0s 14ms/step\n"
     ]
    },
    {
     "name": "stderr",
     "output_type": "stream",
     "text": [
      "[I 2025-02-09 20:12:43,727] Trial 47 finished with value: 0.26638729560931806 and parameters: {'units1': 141, 'dropout1': 0.4012571048960978, 'units2': 97, 'dropout2': 0.4037152878747825}. Best is trial 3 with value: 0.26102251797938675.\n"
     ]
    },
    {
     "name": "stdout",
     "output_type": "stream",
     "text": [
      "2/2 [==============================] - 0s 3ms/step\n"
     ]
    },
    {
     "name": "stderr",
     "output_type": "stream",
     "text": [
      "[I 2025-02-09 20:12:48,337] Trial 48 finished with value: 0.2661859465308959 and parameters: {'units1': 141, 'dropout1': 0.30729062442194555, 'units2': 98, 'dropout2': 0.3758575502696224}. Best is trial 3 with value: 0.26102251797938675.\n"
     ]
    },
    {
     "name": "stdout",
     "output_type": "stream",
     "text": [
      "2/2 [==============================] - 0s 2ms/step\n"
     ]
    },
    {
     "name": "stderr",
     "output_type": "stream",
     "text": [
      "[I 2025-02-09 20:12:52,927] Trial 49 finished with value: 0.30797436541792944 and parameters: {'units1': 135, 'dropout1': 0.4951649330830377, 'units2': 128, 'dropout2': 0.40565985153009954}. Best is trial 3 with value: 0.26102251797938675.\n"
     ]
    },
    {
     "name": "stdout",
     "output_type": "stream",
     "text": [
      "2/2 [==============================] - 0s 3ms/step\n"
     ]
    },
    {
     "name": "stderr",
     "output_type": "stream",
     "text": [
      "[I 2025-02-09 20:12:57,212] Trial 50 finished with value: 0.3274748176473615 and parameters: {'units1': 107, 'dropout1': 0.39219541025338955, 'units2': 105, 'dropout2': 0.3715536441354909}. Best is trial 3 with value: 0.26102251797938675.\n"
     ]
    },
    {
     "name": "stdout",
     "output_type": "stream",
     "text": [
      "2/2 [==============================] - 0s 3ms/step\n"
     ]
    },
    {
     "name": "stderr",
     "output_type": "stream",
     "text": [
      "[I 2025-02-09 20:13:01,688] Trial 51 finished with value: 0.2759511541066695 and parameters: {'units1': 144, 'dropout1': 0.43981392668865865, 'units2': 78, 'dropout2': 0.4163756227003358}. Best is trial 3 with value: 0.26102251797938675.\n"
     ]
    },
    {
     "name": "stdout",
     "output_type": "stream",
     "text": [
      "2/2 [==============================] - 0s 4ms/step\n"
     ]
    },
    {
     "name": "stderr",
     "output_type": "stream",
     "text": [
      "[I 2025-02-09 20:13:06,242] Trial 52 finished with value: 0.3143526534063634 and parameters: {'units1': 153, 'dropout1': 0.30736641590183345, 'units2': 98, 'dropout2': 0.4728510604154223}. Best is trial 3 with value: 0.26102251797938675.\n"
     ]
    },
    {
     "name": "stdout",
     "output_type": "stream",
     "text": [
      "2/2 [==============================] - 0s 2ms/step\n"
     ]
    },
    {
     "name": "stderr",
     "output_type": "stream",
     "text": [
      "[I 2025-02-09 20:13:10,692] Trial 53 finished with value: 0.27509872094676713 and parameters: {'units1': 185, 'dropout1': 0.24742173305282913, 'units2': 40, 'dropout2': 0.3728811870838675}. Best is trial 3 with value: 0.26102251797938675.\n"
     ]
    },
    {
     "name": "stdout",
     "output_type": "stream",
     "text": [
      "2/2 [==============================] - 0s 2ms/step\n"
     ]
    },
    {
     "name": "stderr",
     "output_type": "stream",
     "text": [
      "[I 2025-02-09 20:13:14,760] Trial 54 finished with value: 0.35474982048061804 and parameters: {'units1': 168, 'dropout1': 0.21968437197503493, 'units2': 55, 'dropout2': 0.3253159966005448}. Best is trial 3 with value: 0.26102251797938675.\n"
     ]
    },
    {
     "name": "stdout",
     "output_type": "stream",
     "text": [
      "2/2 [==============================] - 0s 5ms/step\n"
     ]
    },
    {
     "name": "stderr",
     "output_type": "stream",
     "text": [
      "[I 2025-02-09 20:13:19,464] Trial 55 finished with value: 0.30307606575117607 and parameters: {'units1': 161, 'dropout1': 0.2703398453567615, 'units2': 80, 'dropout2': 0.43621529010017196}. Best is trial 3 with value: 0.26102251797938675.\n"
     ]
    },
    {
     "name": "stdout",
     "output_type": "stream",
     "text": [
      "2/2 [==============================] - 0s 2ms/step\n"
     ]
    },
    {
     "name": "stderr",
     "output_type": "stream",
     "text": [
      "[I 2025-02-09 20:13:23,862] Trial 56 finished with value: 0.2904362339786196 and parameters: {'units1': 139, 'dropout1': 0.19338654595616878, 'units2': 47, 'dropout2': 0.3949952315352077}. Best is trial 3 with value: 0.26102251797938675.\n"
     ]
    },
    {
     "name": "stdout",
     "output_type": "stream",
     "text": [
      "2/2 [==============================] - 0s 2ms/step\n"
     ]
    },
    {
     "name": "stderr",
     "output_type": "stream",
     "text": [
      "[I 2025-02-09 20:13:27,982] Trial 57 finished with value: 0.27441642739377287 and parameters: {'units1': 124, 'dropout1': 0.2565871215609969, 'units2': 74, 'dropout2': 0.36622626060202773}. Best is trial 3 with value: 0.26102251797938675.\n"
     ]
    },
    {
     "name": "stdout",
     "output_type": "stream",
     "text": [
      "2/2 [==============================] - 0s 3ms/step\n"
     ]
    },
    {
     "name": "stderr",
     "output_type": "stream",
     "text": [
      "[I 2025-02-09 20:13:32,791] Trial 58 finished with value: 0.2793842530077861 and parameters: {'units1': 202, 'dropout1': 0.30019326761507187, 'units2': 33, 'dropout2': 0.3376124844196523}. Best is trial 3 with value: 0.26102251797938675.\n"
     ]
    },
    {
     "name": "stdout",
     "output_type": "stream",
     "text": [
      "2/2 [==============================] - 0s 2ms/step\n"
     ]
    },
    {
     "name": "stderr",
     "output_type": "stream",
     "text": [
      "[I 2025-02-09 20:13:37,109] Trial 59 finished with value: 0.3365401868780233 and parameters: {'units1': 148, 'dropout1': 0.22555884079064198, 'units2': 97, 'dropout2': 0.46875481635185545}. Best is trial 3 with value: 0.26102251797938675.\n"
     ]
    },
    {
     "name": "stdout",
     "output_type": "stream",
     "text": [
      "2/2 [==============================] - 0s 10ms/step\n"
     ]
    },
    {
     "name": "stderr",
     "output_type": "stream",
     "text": [
      "[I 2025-02-09 20:13:41,620] Trial 60 finished with value: 0.30263014288351464 and parameters: {'units1': 180, 'dropout1': 0.4719320000846352, 'units2': 61, 'dropout2': 0.4215485221982756}. Best is trial 3 with value: 0.26102251797938675.\n"
     ]
    },
    {
     "name": "stdout",
     "output_type": "stream",
     "text": [
      "2/2 [==============================] - 0s 3ms/step\n"
     ]
    },
    {
     "name": "stderr",
     "output_type": "stream",
     "text": [
      "[I 2025-02-09 20:13:45,768] Trial 61 finished with value: 0.29735084536093215 and parameters: {'units1': 78, 'dropout1': 0.3935214516544676, 'units2': 184, 'dropout2': 0.3886961753727942}. Best is trial 3 with value: 0.26102251797938675.\n"
     ]
    },
    {
     "name": "stdout",
     "output_type": "stream",
     "text": [
      "2/2 [==============================] - 0s 2ms/step\n"
     ]
    },
    {
     "name": "stderr",
     "output_type": "stream",
     "text": [
      "[I 2025-02-09 20:13:49,914] Trial 62 finished with value: 0.2722397133974152 and parameters: {'units1': 93, 'dropout1': 0.3650361525716554, 'units2': 175, 'dropout2': 0.29201307386068565}. Best is trial 3 with value: 0.26102251797938675.\n"
     ]
    },
    {
     "name": "stdout",
     "output_type": "stream",
     "text": [
      "2/2 [==============================] - 0s 4ms/step\n"
     ]
    },
    {
     "name": "stderr",
     "output_type": "stream",
     "text": [
      "[I 2025-02-09 20:13:55,579] Trial 63 finished with value: 0.27201095462162556 and parameters: {'units1': 111, 'dropout1': 0.33733833312018785, 'units2': 154, 'dropout2': 0.12296276914041933}. Best is trial 3 with value: 0.26102251797938675.\n"
     ]
    },
    {
     "name": "stdout",
     "output_type": "stream",
     "text": [
      "2/2 [==============================] - 0s 2ms/step\n"
     ]
    },
    {
     "name": "stderr",
     "output_type": "stream",
     "text": [
      "[I 2025-02-09 20:14:00,338] Trial 64 finished with value: 0.28897863877394203 and parameters: {'units1': 130, 'dropout1': 0.3346300373006085, 'units2': 143, 'dropout2': 0.11747106352841263}. Best is trial 3 with value: 0.26102251797938675.\n"
     ]
    },
    {
     "name": "stdout",
     "output_type": "stream",
     "text": [
      "2/2 [==============================] - 0s 2ms/step\n"
     ]
    },
    {
     "name": "stderr",
     "output_type": "stream",
     "text": [
      "[I 2025-02-09 20:14:04,697] Trial 65 finished with value: 0.28401690376330374 and parameters: {'units1': 104, 'dropout1': 0.3216290005223615, 'units2': 110, 'dropout2': 0.11406920215093659}. Best is trial 3 with value: 0.26102251797938675.\n"
     ]
    },
    {
     "name": "stdout",
     "output_type": "stream",
     "text": [
      "2/2 [==============================] - 0s 2ms/step\n"
     ]
    },
    {
     "name": "stderr",
     "output_type": "stream",
     "text": [
      "[I 2025-02-09 20:14:09,050] Trial 66 finished with value: 0.46668615573970973 and parameters: {'units1': 116, 'dropout1': 0.34178775376252385, 'units2': 150, 'dropout2': 0.14734233273227398}. Best is trial 3 with value: 0.26102251797938675.\n"
     ]
    },
    {
     "name": "stdout",
     "output_type": "stream",
     "text": [
      "2/2 [==============================] - 0s 4ms/step\n"
     ]
    },
    {
     "name": "stderr",
     "output_type": "stream",
     "text": [
      "[I 2025-02-09 20:14:13,673] Trial 67 finished with value: 0.31232865732269555 and parameters: {'units1': 156, 'dropout1': 0.28560429042947455, 'units2': 131, 'dropout2': 0.11979656311390302}. Best is trial 3 with value: 0.26102251797938675.\n"
     ]
    },
    {
     "name": "stdout",
     "output_type": "stream",
     "text": [
      "2/2 [==============================] - 0s 2ms/step\n"
     ]
    },
    {
     "name": "stderr",
     "output_type": "stream",
     "text": [
      "[I 2025-02-09 20:14:18,088] Trial 68 finished with value: 0.29080496657906835 and parameters: {'units1': 138, 'dropout1': 0.3084330775812169, 'units2': 122, 'dropout2': 0.31572916982180665}. Best is trial 3 with value: 0.26102251797938675.\n"
     ]
    },
    {
     "name": "stdout",
     "output_type": "stream",
     "text": [
      "2/2 [==============================] - 0s 3ms/step\n"
     ]
    },
    {
     "name": "stderr",
     "output_type": "stream",
     "text": [
      "[I 2025-02-09 20:14:22,412] Trial 69 finished with value: 0.27449689343785744 and parameters: {'units1': 123, 'dropout1': 0.2648642805530359, 'units2': 43, 'dropout2': 0.16215635759871377}. Best is trial 3 with value: 0.26102251797938675.\n"
     ]
    },
    {
     "name": "stdout",
     "output_type": "stream",
     "text": [
      "2/2 [==============================] - 0s 2ms/step\n"
     ]
    },
    {
     "name": "stderr",
     "output_type": "stream",
     "text": [
      "[I 2025-02-09 20:14:27,822] Trial 70 finished with value: 0.2980461422505488 and parameters: {'units1': 111, 'dropout1': 0.43089689090813826, 'units2': 156, 'dropout2': 0.1271884753207859}. Best is trial 3 with value: 0.26102251797938675.\n"
     ]
    },
    {
     "name": "stdout",
     "output_type": "stream",
     "text": [
      "2/2 [==============================] - 0s 11ms/step\n"
     ]
    },
    {
     "name": "stderr",
     "output_type": "stream",
     "text": [
      "[I 2025-02-09 20:14:32,503] Trial 71 finished with value: 0.2684133816608888 and parameters: {'units1': 88, 'dropout1': 0.3561304890131813, 'units2': 191, 'dropout2': 0.3450212452970191}. Best is trial 3 with value: 0.26102251797938675.\n"
     ]
    },
    {
     "name": "stdout",
     "output_type": "stream",
     "text": [
      "2/2 [==============================] - 0s 3ms/step\n"
     ]
    },
    {
     "name": "stderr",
     "output_type": "stream",
     "text": [
      "[I 2025-02-09 20:14:37,265] Trial 72 finished with value: 0.29902013112906156 and parameters: {'units1': 82, 'dropout1': 0.4140262576911291, 'units2': 210, 'dropout2': 0.34212346129172794}. Best is trial 3 with value: 0.26102251797938675.\n"
     ]
    },
    {
     "name": "stdout",
     "output_type": "stream",
     "text": [
      "2/2 [==============================] - 0s 3ms/step\n"
     ]
    },
    {
     "name": "stderr",
     "output_type": "stream",
     "text": [
      "[I 2025-02-09 20:14:41,923] Trial 73 finished with value: 0.41517766186191485 and parameters: {'units1': 71, 'dropout1': 0.3572421438583786, 'units2': 193, 'dropout2': 0.3527029240127878}. Best is trial 3 with value: 0.26102251797938675.\n"
     ]
    },
    {
     "name": "stdout",
     "output_type": "stream",
     "text": [
      "2/2 [==============================] - 0s 3ms/step\n"
     ]
    },
    {
     "name": "stderr",
     "output_type": "stream",
     "text": [
      "[I 2025-02-09 20:14:46,193] Trial 74 finished with value: 0.2773793511432226 and parameters: {'units1': 86, 'dropout1': 0.2966428550390857, 'units2': 168, 'dropout2': 0.364310064082399}. Best is trial 3 with value: 0.26102251797938675.\n"
     ]
    },
    {
     "name": "stdout",
     "output_type": "stream",
     "text": [
      "2/2 [==============================] - 0s 2ms/step\n"
     ]
    },
    {
     "name": "stderr",
     "output_type": "stream",
     "text": [
      "[I 2025-02-09 20:14:50,724] Trial 75 finished with value: 0.34709136554785347 and parameters: {'units1': 149, 'dropout1': 0.2799881062860923, 'units2': 87, 'dropout2': 0.3240617748035488}. Best is trial 3 with value: 0.26102251797938675.\n"
     ]
    },
    {
     "name": "stdout",
     "output_type": "stream",
     "text": [
      "2/2 [==============================] - 0s 4ms/step\n"
     ]
    },
    {
     "name": "stderr",
     "output_type": "stream",
     "text": [
      "[I 2025-02-09 20:14:55,157] Trial 76 finished with value: 0.32776005600159225 and parameters: {'units1': 49, 'dropout1': 0.3369058139800369, 'units2': 168, 'dropout2': 0.1025473340110347}. Best is trial 3 with value: 0.26102251797938675.\n"
     ]
    },
    {
     "name": "stdout",
     "output_type": "stream",
     "text": [
      "2/2 [==============================] - 0s 6ms/step\n"
     ]
    },
    {
     "name": "stderr",
     "output_type": "stream",
     "text": [
      "[I 2025-02-09 20:15:00,040] Trial 77 finished with value: 0.2701759041705035 and parameters: {'units1': 165, 'dropout1': 0.31672558313617977, 'units2': 204, 'dropout2': 0.173714725507655}. Best is trial 3 with value: 0.26102251797938675.\n"
     ]
    },
    {
     "name": "stdout",
     "output_type": "stream",
     "text": [
      "2/2 [==============================] - 0s 2ms/step\n"
     ]
    },
    {
     "name": "stderr",
     "output_type": "stream",
     "text": [
      "[I 2025-02-09 20:15:05,323] Trial 78 finished with value: 0.3510665969826932 and parameters: {'units1': 242, 'dropout1': 0.3212013930730993, 'units2': 224, 'dropout2': 0.3812230141340134}. Best is trial 3 with value: 0.26102251797938675.\n"
     ]
    },
    {
     "name": "stdout",
     "output_type": "stream",
     "text": [
      "2/2 [==============================] - 0s 4ms/step\n"
     ]
    },
    {
     "name": "stderr",
     "output_type": "stream",
     "text": [
      "[I 2025-02-09 20:15:15,038] Trial 79 finished with value: 0.27053285256364207 and parameters: {'units1': 165, 'dropout1': 0.2536337514998032, 'units2': 203, 'dropout2': 0.1975022657958487}. Best is trial 3 with value: 0.26102251797938675.\n"
     ]
    },
    {
     "name": "stdout",
     "output_type": "stream",
     "text": [
      "2/2 [==============================] - 0s 12ms/step\n"
     ]
    },
    {
     "name": "stderr",
     "output_type": "stream",
     "text": [
      "[I 2025-02-09 20:15:23,261] Trial 80 finished with value: 0.2758833346037068 and parameters: {'units1': 176, 'dropout1': 0.35226735653634716, 'units2': 210, 'dropout2': 0.17803263158174937}. Best is trial 3 with value: 0.26102251797938675.\n"
     ]
    },
    {
     "name": "stdout",
     "output_type": "stream",
     "text": [
      "2/2 [==============================] - 0s 10ms/step\n"
     ]
    },
    {
     "name": "stderr",
     "output_type": "stream",
     "text": [
      "[I 2025-02-09 20:15:31,593] Trial 81 finished with value: 0.3427472742959685 and parameters: {'units1': 162, 'dropout1': 0.25147307256605883, 'units2': 232, 'dropout2': 0.2105591717615751}. Best is trial 3 with value: 0.26102251797938675.\n"
     ]
    },
    {
     "name": "stdout",
     "output_type": "stream",
     "text": [
      "2/2 [==============================] - 0s 4ms/step\n"
     ]
    },
    {
     "name": "stderr",
     "output_type": "stream",
     "text": [
      "[I 2025-02-09 20:15:38,245] Trial 82 finished with value: 0.38871024295831563 and parameters: {'units1': 167, 'dropout1': 0.26081442402510135, 'units2': 197, 'dropout2': 0.23678943848602169}. Best is trial 3 with value: 0.26102251797938675.\n"
     ]
    },
    {
     "name": "stdout",
     "output_type": "stream",
     "text": [
      "2/2 [==============================] - 0s 4ms/step\n"
     ]
    },
    {
     "name": "stderr",
     "output_type": "stream",
     "text": [
      "[I 2025-02-09 20:15:43,205] Trial 83 finished with value: 0.2966627868506269 and parameters: {'units1': 187, 'dropout1': 0.27521064643790916, 'units2': 205, 'dropout2': 0.19738248465217312}. Best is trial 3 with value: 0.26102251797938675.\n"
     ]
    },
    {
     "name": "stdout",
     "output_type": "stream",
     "text": [
      "2/2 [==============================] - 0s 2ms/step\n"
     ]
    },
    {
     "name": "stderr",
     "output_type": "stream",
     "text": [
      "[I 2025-02-09 20:15:48,182] Trial 84 finished with value: 0.31234035257648035 and parameters: {'units1': 154, 'dropout1': 0.23390659059106952, 'units2': 188, 'dropout2': 0.1731696416166717}. Best is trial 3 with value: 0.26102251797938675.\n"
     ]
    },
    {
     "name": "stdout",
     "output_type": "stream",
     "text": [
      "2/2 [==============================] - 0s 6ms/step\n"
     ]
    },
    {
     "name": "stderr",
     "output_type": "stream",
     "text": [
      "[I 2025-02-09 20:15:54,412] Trial 85 finished with value: 0.30982851647815407 and parameters: {'units1': 173, 'dropout1': 0.24204192119801674, 'units2': 219, 'dropout2': 0.4034151576383211}. Best is trial 3 with value: 0.26102251797938675.\n"
     ]
    },
    {
     "name": "stdout",
     "output_type": "stream",
     "text": [
      "2/2 [==============================] - 0s 5ms/step\n"
     ]
    },
    {
     "name": "stderr",
     "output_type": "stream",
     "text": [
      "[I 2025-02-09 20:16:00,474] Trial 86 finished with value: 0.28124167020155755 and parameters: {'units1': 198, 'dropout1': 0.2986188039690564, 'units2': 175, 'dropout2': 0.22399386168214147}. Best is trial 3 with value: 0.26102251797938675.\n"
     ]
    },
    {
     "name": "stdout",
     "output_type": "stream",
     "text": [
      "2/2 [==============================] - 0s 4ms/step\n"
     ]
    },
    {
     "name": "stderr",
     "output_type": "stream",
     "text": [
      "[I 2025-02-09 20:16:05,888] Trial 87 finished with value: 0.3196542654780036 and parameters: {'units1': 143, 'dropout1': 0.38137389164741436, 'units2': 60, 'dropout2': 0.15018526985867045}. Best is trial 3 with value: 0.26102251797938675.\n"
     ]
    },
    {
     "name": "stdout",
     "output_type": "stream",
     "text": [
      "2/2 [==============================] - 0s 3ms/step\n"
     ]
    },
    {
     "name": "stderr",
     "output_type": "stream",
     "text": [
      "[I 2025-02-09 20:16:11,059] Trial 88 finished with value: 0.30128505063236233 and parameters: {'units1': 159, 'dropout1': 0.31308656150154157, 'units2': 215, 'dropout2': 0.4273883821722198}. Best is trial 3 with value: 0.26102251797938675.\n"
     ]
    },
    {
     "name": "stdout",
     "output_type": "stream",
     "text": [
      "2/2 [==============================] - 0s 4ms/step\n"
     ]
    },
    {
     "name": "stderr",
     "output_type": "stream",
     "text": [
      "[I 2025-02-09 20:16:17,719] Trial 89 finished with value: 0.2708971122300086 and parameters: {'units1': 134, 'dropout1': 0.4070537548522591, 'units2': 199, 'dropout2': 0.20188070919650591}. Best is trial 3 with value: 0.26102251797938675.\n"
     ]
    },
    {
     "name": "stdout",
     "output_type": "stream",
     "text": [
      "2/2 [==============================] - 0s 11ms/step\n"
     ]
    },
    {
     "name": "stderr",
     "output_type": "stream",
     "text": [
      "[I 2025-02-09 20:16:24,244] Trial 90 finished with value: 0.2702627491259463 and parameters: {'units1': 221, 'dropout1': 0.2856503494750827, 'units2': 231, 'dropout2': 0.4564797283428336}. Best is trial 3 with value: 0.26102251797938675.\n"
     ]
    },
    {
     "name": "stdout",
     "output_type": "stream",
     "text": [
      "2/2 [==============================] - 0s 2ms/step\n"
     ]
    },
    {
     "name": "stderr",
     "output_type": "stream",
     "text": [
      "[I 2025-02-09 20:16:29,431] Trial 91 finished with value: 0.3098573051257802 and parameters: {'units1': 223, 'dropout1': 0.21067672570928997, 'units2': 233, 'dropout2': 0.47454152702653957}. Best is trial 3 with value: 0.26102251797938675.\n"
     ]
    },
    {
     "name": "stdout",
     "output_type": "stream",
     "text": [
      "2/2 [==============================] - 0s 5ms/step\n"
     ]
    },
    {
     "name": "stderr",
     "output_type": "stream",
     "text": [
      "[I 2025-02-09 20:16:34,945] Trial 92 finished with value: 0.2982823858824408 and parameters: {'units1': 240, 'dropout1': 0.29247926888086545, 'units2': 239, 'dropout2': 0.4630191692179776}. Best is trial 3 with value: 0.26102251797938675.\n"
     ]
    },
    {
     "name": "stdout",
     "output_type": "stream",
     "text": [
      "2/2 [==============================] - 0s 2ms/step\n"
     ]
    },
    {
     "name": "stderr",
     "output_type": "stream",
     "text": [
      "[I 2025-02-09 20:16:39,381] Trial 93 finished with value: 0.2990865323707274 and parameters: {'units1': 151, 'dropout1': 0.2661126351428931, 'units2': 70, 'dropout2': 0.41109697421377134}. Best is trial 3 with value: 0.26102251797938675.\n"
     ]
    },
    {
     "name": "stdout",
     "output_type": "stream",
     "text": [
      "2/2 [==============================] - 0s 4ms/step\n"
     ]
    },
    {
     "name": "stderr",
     "output_type": "stream",
     "text": [
      "[I 2025-02-09 20:16:43,948] Trial 94 finished with value: 0.3921030790847097 and parameters: {'units1': 164, 'dropout1': 0.28253801896402775, 'units2': 193, 'dropout2': 0.43433670814816033}. Best is trial 3 with value: 0.26102251797938675.\n"
     ]
    },
    {
     "name": "stdout",
     "output_type": "stream",
     "text": [
      "2/2 [==============================] - 0s 11ms/step\n"
     ]
    },
    {
     "name": "stderr",
     "output_type": "stream",
     "text": [
      "[I 2025-02-09 20:16:50,277] Trial 95 finished with value: 0.2746571507841729 and parameters: {'units1': 173, 'dropout1': 0.3032921631519401, 'units2': 186, 'dropout2': 0.4552359526880592}. Best is trial 3 with value: 0.26102251797938675.\n"
     ]
    },
    {
     "name": "stdout",
     "output_type": "stream",
     "text": [
      "2/2 [==============================] - 0s 5ms/step\n"
     ]
    },
    {
     "name": "stderr",
     "output_type": "stream",
     "text": [
      "[I 2025-02-09 20:16:56,004] Trial 96 finished with value: 0.32209513825402875 and parameters: {'units1': 214, 'dropout1': 0.24604022749079846, 'units2': 179, 'dropout2': 0.48915733223285174}. Best is trial 3 with value: 0.26102251797938675.\n"
     ]
    },
    {
     "name": "stdout",
     "output_type": "stream",
     "text": [
      "2/2 [==============================] - 0s 5ms/step\n"
     ]
    },
    {
     "name": "stderr",
     "output_type": "stream",
     "text": [
      "[I 2025-02-09 20:17:01,484] Trial 97 finished with value: 0.2696049278451277 and parameters: {'units1': 181, 'dropout1': 0.4563931608106708, 'units2': 244, 'dropout2': 0.48754856001889785}. Best is trial 3 with value: 0.26102251797938675.\n"
     ]
    },
    {
     "name": "stdout",
     "output_type": "stream",
     "text": [
      "2/2 [==============================] - 0s 5ms/step\n"
     ]
    },
    {
     "name": "stderr",
     "output_type": "stream",
     "text": [
      "[I 2025-02-09 20:17:07,288] Trial 98 finished with value: 0.28783196059383503 and parameters: {'units1': 256, 'dropout1': 0.4576530780842386, 'units2': 241, 'dropout2': 0.4828087080497924}. Best is trial 3 with value: 0.26102251797938675.\n"
     ]
    },
    {
     "name": "stdout",
     "output_type": "stream",
     "text": [
      "2/2 [==============================] - 0s 4ms/step\n"
     ]
    },
    {
     "name": "stderr",
     "output_type": "stream",
     "text": [
      "[I 2025-02-09 20:17:15,767] Trial 99 finished with value: 0.32414614836994604 and parameters: {'units1': 180, 'dropout1': 0.4453800582728783, 'units2': 256, 'dropout2': 0.4442545176218452}. Best is trial 3 with value: 0.26102251797938675.\n",
      "[I 2025-02-09 20:17:15,785] A new study created in memory with name: no-name-1cc5fd73-de2f-4982-b14d-3c90d5d3e39e\n"
     ]
    },
    {
     "name": "stdout",
     "output_type": "stream",
     "text": [
      "\n",
      "\n",
      "Acetate (g/L):\n",
      "\n",
      "MSE:  0.26102251797938675\n",
      "2/2 [==============================] - 0s 4ms/step\n"
     ]
    },
    {
     "name": "stderr",
     "output_type": "stream",
     "text": [
      "[I 2025-02-09 20:17:21,141] Trial 0 finished with value: 0.29929182952325184 and parameters: {'units1': 86, 'dropout1': 0.15529508365899752, 'units2': 223, 'dropout2': 0.30007414757181894}. Best is trial 0 with value: 0.29929182952325184.\n"
     ]
    },
    {
     "name": "stdout",
     "output_type": "stream",
     "text": [
      "2/2 [==============================] - 0s 4ms/step\n"
     ]
    },
    {
     "name": "stderr",
     "output_type": "stream",
     "text": [
      "[I 2025-02-09 20:17:25,770] Trial 1 finished with value: 0.39152696099487877 and parameters: {'units1': 165, 'dropout1': 0.39683851000545106, 'units2': 62, 'dropout2': 0.26902669343710245}. Best is trial 0 with value: 0.29929182952325184.\n"
     ]
    },
    {
     "name": "stdout",
     "output_type": "stream",
     "text": [
      "2/2 [==============================] - 0s 2ms/step\n"
     ]
    },
    {
     "name": "stderr",
     "output_type": "stream",
     "text": [
      "[I 2025-02-09 20:17:30,572] Trial 2 finished with value: 0.5122176680024068 and parameters: {'units1': 223, 'dropout1': 0.43731997627243313, 'units2': 175, 'dropout2': 0.36744310481754017}. Best is trial 0 with value: 0.29929182952325184.\n"
     ]
    },
    {
     "name": "stdout",
     "output_type": "stream",
     "text": [
      "2/2 [==============================] - 0s 2ms/step\n"
     ]
    },
    {
     "name": "stderr",
     "output_type": "stream",
     "text": [
      "[I 2025-02-09 20:17:35,365] Trial 3 finished with value: 0.4598292617573353 and parameters: {'units1': 234, 'dropout1': 0.4890055062590687, 'units2': 87, 'dropout2': 0.3895777976442028}. Best is trial 0 with value: 0.29929182952325184.\n"
     ]
    },
    {
     "name": "stdout",
     "output_type": "stream",
     "text": [
      "2/2 [==============================] - 0s 3ms/step\n"
     ]
    },
    {
     "name": "stderr",
     "output_type": "stream",
     "text": [
      "[I 2025-02-09 20:17:39,988] Trial 4 finished with value: 0.35376590498157845 and parameters: {'units1': 162, 'dropout1': 0.310048177193766, 'units2': 96, 'dropout2': 0.41499016267128613}. Best is trial 0 with value: 0.29929182952325184.\n"
     ]
    },
    {
     "name": "stdout",
     "output_type": "stream",
     "text": [
      "2/2 [==============================] - 0s 3ms/step\n"
     ]
    },
    {
     "name": "stderr",
     "output_type": "stream",
     "text": [
      "[I 2025-02-09 20:17:44,894] Trial 5 finished with value: 0.6114553404744405 and parameters: {'units1': 251, 'dropout1': 0.47309071896628324, 'units2': 120, 'dropout2': 0.33019128888553123}. Best is trial 0 with value: 0.29929182952325184.\n"
     ]
    },
    {
     "name": "stdout",
     "output_type": "stream",
     "text": [
      "2/2 [==============================] - 0s 2ms/step\n"
     ]
    },
    {
     "name": "stderr",
     "output_type": "stream",
     "text": [
      "[I 2025-02-09 20:17:49,736] Trial 6 finished with value: 0.5063086516746906 and parameters: {'units1': 178, 'dropout1': 0.1451905581919429, 'units2': 193, 'dropout2': 0.4051406252114857}. Best is trial 0 with value: 0.29929182952325184.\n"
     ]
    },
    {
     "name": "stdout",
     "output_type": "stream",
     "text": [
      "2/2 [==============================] - 0s 7ms/step\n"
     ]
    },
    {
     "name": "stderr",
     "output_type": "stream",
     "text": [
      "[I 2025-02-09 20:17:54,776] Trial 7 finished with value: 0.7403007070656114 and parameters: {'units1': 213, 'dropout1': 0.1325856179629823, 'units2': 101, 'dropout2': 0.37162802513134796}. Best is trial 0 with value: 0.29929182952325184.\n"
     ]
    },
    {
     "name": "stdout",
     "output_type": "stream",
     "text": [
      "2/2 [==============================] - 0s 2ms/step\n"
     ]
    },
    {
     "name": "stderr",
     "output_type": "stream",
     "text": [
      "[I 2025-02-09 20:17:59,014] Trial 8 finished with value: 0.7021099341152752 and parameters: {'units1': 114, 'dropout1': 0.14948527763954408, 'units2': 198, 'dropout2': 0.26520773126916414}. Best is trial 0 with value: 0.29929182952325184.\n"
     ]
    },
    {
     "name": "stdout",
     "output_type": "stream",
     "text": [
      "2/2 [==============================] - 0s 3ms/step\n"
     ]
    },
    {
     "name": "stderr",
     "output_type": "stream",
     "text": [
      "[I 2025-02-09 20:18:02,896] Trial 9 finished with value: 0.7155499793154136 and parameters: {'units1': 104, 'dropout1': 0.3619969402685024, 'units2': 173, 'dropout2': 0.1066112209118027}. Best is trial 0 with value: 0.29929182952325184.\n"
     ]
    },
    {
     "name": "stdout",
     "output_type": "stream",
     "text": [
      "2/2 [==============================] - 0s 2ms/step\n"
     ]
    },
    {
     "name": "stderr",
     "output_type": "stream",
     "text": [
      "[I 2025-02-09 20:18:07,082] Trial 10 finished with value: 0.4816314511490858 and parameters: {'units1': 36, 'dropout1': 0.2293740975296676, 'units2': 249, 'dropout2': 0.1898262788062967}. Best is trial 0 with value: 0.29929182952325184.\n"
     ]
    },
    {
     "name": "stdout",
     "output_type": "stream",
     "text": [
      "2/2 [==============================] - 0s 4ms/step\n"
     ]
    },
    {
     "name": "stderr",
     "output_type": "stream",
     "text": [
      "[I 2025-02-09 20:18:11,082] Trial 11 finished with value: 0.5674144593038999 and parameters: {'units1': 61, 'dropout1': 0.2780636191816059, 'units2': 34, 'dropout2': 0.48815309532286394}. Best is trial 0 with value: 0.29929182952325184.\n"
     ]
    },
    {
     "name": "stdout",
     "output_type": "stream",
     "text": [
      "2/2 [==============================] - 0s 2ms/step\n"
     ]
    },
    {
     "name": "stderr",
     "output_type": "stream",
     "text": [
      "[I 2025-02-09 20:18:15,655] Trial 12 finished with value: 0.33069447797597495 and parameters: {'units1': 119, 'dropout1': 0.24319259326104026, 'units2': 252, 'dropout2': 0.48446140432113727}. Best is trial 0 with value: 0.29929182952325184.\n"
     ]
    },
    {
     "name": "stdout",
     "output_type": "stream",
     "text": [
      "2/2 [==============================] - 0s 5ms/step\n"
     ]
    },
    {
     "name": "stderr",
     "output_type": "stream",
     "text": [
      "[I 2025-02-09 20:18:20,088] Trial 13 finished with value: 0.299372731731354 and parameters: {'units1': 101, 'dropout1': 0.21410922885029948, 'units2': 256, 'dropout2': 0.49521034109684936}. Best is trial 0 with value: 0.29929182952325184.\n"
     ]
    },
    {
     "name": "stdout",
     "output_type": "stream",
     "text": [
      "2/2 [==============================] - 0s 4ms/step\n"
     ]
    },
    {
     "name": "stderr",
     "output_type": "stream",
     "text": [
      "[I 2025-02-09 20:18:25,238] Trial 14 finished with value: 0.23120961118597616 and parameters: {'units1': 79, 'dropout1': 0.19909547186730792, 'units2': 221, 'dropout2': 0.20026391997900253}. Best is trial 14 with value: 0.23120961118597616.\n"
     ]
    },
    {
     "name": "stdout",
     "output_type": "stream",
     "text": [
      "2/2 [==============================] - 0s 2ms/step\n"
     ]
    },
    {
     "name": "stderr",
     "output_type": "stream",
     "text": [
      "[I 2025-02-09 20:18:29,176] Trial 15 finished with value: 0.47335170510695596 and parameters: {'units1': 72, 'dropout1': 0.1910494619160646, 'units2': 218, 'dropout2': 0.20085860496053476}. Best is trial 14 with value: 0.23120961118597616.\n"
     ]
    },
    {
     "name": "stdout",
     "output_type": "stream",
     "text": [
      "2/2 [==============================] - 0s 4ms/step\n"
     ]
    },
    {
     "name": "stderr",
     "output_type": "stream",
     "text": [
      "[I 2025-02-09 20:18:33,694] Trial 16 finished with value: 0.42490804103942503 and parameters: {'units1': 77, 'dropout1': 0.10306426535748561, 'units2': 141, 'dropout2': 0.20051782349773967}. Best is trial 14 with value: 0.23120961118597616.\n"
     ]
    },
    {
     "name": "stdout",
     "output_type": "stream",
     "text": [
      "2/2 [==============================] - 0s 2ms/step\n"
     ]
    },
    {
     "name": "stderr",
     "output_type": "stream",
     "text": [
      "[I 2025-02-09 20:18:39,562] Trial 17 finished with value: 0.24725501068044092 and parameters: {'units1': 38, 'dropout1': 0.1862026349982539, 'units2': 222, 'dropout2': 0.13351018551098828}. Best is trial 14 with value: 0.23120961118597616.\n"
     ]
    },
    {
     "name": "stdout",
     "output_type": "stream",
     "text": [
      "2/2 [==============================] - 0s 3ms/step\n"
     ]
    },
    {
     "name": "stderr",
     "output_type": "stream",
     "text": [
      "[I 2025-02-09 20:18:44,261] Trial 18 finished with value: 0.9115298461400013 and parameters: {'units1': 36, 'dropout1': 0.3026890125992306, 'units2': 157, 'dropout2': 0.11408830181181316}. Best is trial 14 with value: 0.23120961118597616.\n"
     ]
    },
    {
     "name": "stdout",
     "output_type": "stream",
     "text": [
      "2/2 [==============================] - 0s 3ms/step\n"
     ]
    },
    {
     "name": "stderr",
     "output_type": "stream",
     "text": [
      "[I 2025-02-09 20:18:49,058] Trial 19 finished with value: 0.9614282507834758 and parameters: {'units1': 53, 'dropout1': 0.1879125529490333, 'units2': 219, 'dropout2': 0.15662316541131688}. Best is trial 14 with value: 0.23120961118597616.\n"
     ]
    },
    {
     "name": "stdout",
     "output_type": "stream",
     "text": [
      "2/2 [==============================] - 0s 3ms/step\n"
     ]
    },
    {
     "name": "stderr",
     "output_type": "stream",
     "text": [
      "[I 2025-02-09 20:18:53,969] Trial 20 finished with value: 0.6133077945278482 and parameters: {'units1': 136, 'dropout1': 0.35024444294793977, 'units2': 199, 'dropout2': 0.1477779457412371}. Best is trial 14 with value: 0.23120961118597616.\n"
     ]
    },
    {
     "name": "stdout",
     "output_type": "stream",
     "text": [
      "2/2 [==============================] - 0s 2ms/step\n"
     ]
    },
    {
     "name": "stderr",
     "output_type": "stream",
     "text": [
      "[I 2025-02-09 20:18:58,380] Trial 21 finished with value: 0.4477018642888159 and parameters: {'units1': 89, 'dropout1': 0.17089340875553452, 'units2': 227, 'dropout2': 0.24112982158293272}. Best is trial 14 with value: 0.23120961118597616.\n"
     ]
    },
    {
     "name": "stdout",
     "output_type": "stream",
     "text": [
      "2/2 [==============================] - 0s 2ms/step\n"
     ]
    },
    {
     "name": "stderr",
     "output_type": "stream",
     "text": [
      "[I 2025-02-09 20:19:02,304] Trial 22 finished with value: 0.5907625777538452 and parameters: {'units1': 54, 'dropout1': 0.26085508528332935, 'units2': 231, 'dropout2': 0.29937681560769563}. Best is trial 14 with value: 0.23120961118597616.\n"
     ]
    },
    {
     "name": "stdout",
     "output_type": "stream",
     "text": [
      "2/2 [==============================] - 0s 2ms/step\n"
     ]
    },
    {
     "name": "stderr",
     "output_type": "stream",
     "text": [
      "[I 2025-02-09 20:19:06,495] Trial 23 finished with value: 0.32260208526878703 and parameters: {'units1': 81, 'dropout1': 0.10109341510198774, 'units2': 207, 'dropout2': 0.23047941286899887}. Best is trial 14 with value: 0.23120961118597616.\n"
     ]
    },
    {
     "name": "stdout",
     "output_type": "stream",
     "text": [
      "2/2 [==============================] - 0s 3ms/step\n"
     ]
    },
    {
     "name": "stderr",
     "output_type": "stream",
     "text": [
      "[I 2025-02-09 20:19:10,855] Trial 24 finished with value: 0.44527459573556427 and parameters: {'units1': 131, 'dropout1': 0.20384064896655657, 'units2': 170, 'dropout2': 0.1482112105778057}. Best is trial 14 with value: 0.23120961118597616.\n"
     ]
    },
    {
     "name": "stdout",
     "output_type": "stream",
     "text": [
      "2/2 [==============================] - 0s 2ms/step\n"
     ]
    },
    {
     "name": "stderr",
     "output_type": "stream",
     "text": [
      "[I 2025-02-09 20:19:14,589] Trial 25 finished with value: 0.2053604826353208 and parameters: {'units1': 32, 'dropout1': 0.14957802872881698, 'units2': 230, 'dropout2': 0.3261463642967364}. Best is trial 25 with value: 0.2053604826353208.\n"
     ]
    },
    {
     "name": "stdout",
     "output_type": "stream",
     "text": [
      "2/2 [==============================] - 0s 2ms/step\n"
     ]
    },
    {
     "name": "stderr",
     "output_type": "stream",
     "text": [
      "[I 2025-02-09 20:19:18,450] Trial 26 finished with value: 0.2277890276007986 and parameters: {'units1': 39, 'dropout1': 0.12967209780854122, 'units2': 238, 'dropout2': 0.1746407443257149}. Best is trial 25 with value: 0.2053604826353208.\n"
     ]
    },
    {
     "name": "stdout",
     "output_type": "stream",
     "text": [
      "2/2 [==============================] - 0s 3ms/step\n"
     ]
    },
    {
     "name": "stderr",
     "output_type": "stream",
     "text": [
      "[I 2025-02-09 20:19:22,370] Trial 27 finished with value: 0.7609431186073157 and parameters: {'units1': 53, 'dropout1': 0.12905764274397816, 'units2': 239, 'dropout2': 0.17576425441469967}. Best is trial 25 with value: 0.2053604826353208.\n"
     ]
    },
    {
     "name": "stdout",
     "output_type": "stream",
     "text": [
      "2/2 [==============================] - 0s 3ms/step\n"
     ]
    },
    {
     "name": "stderr",
     "output_type": "stream",
     "text": [
      "[I 2025-02-09 20:19:26,123] Trial 28 finished with value: 2.2761166732149647 and parameters: {'units1': 32, 'dropout1': 0.11858309262625923, 'units2': 243, 'dropout2': 0.22227149593675288}. Best is trial 25 with value: 0.2053604826353208.\n"
     ]
    },
    {
     "name": "stdout",
     "output_type": "stream",
     "text": [
      "2/2 [==============================] - 0s 14ms/step\n"
     ]
    },
    {
     "name": "stderr",
     "output_type": "stream",
     "text": [
      "[I 2025-02-09 20:19:31,249] Trial 29 finished with value: 0.2290064511485237 and parameters: {'units1': 64, 'dropout1': 0.16390830405374496, 'units2': 186, 'dropout2': 0.31556784767582424}. Best is trial 25 with value: 0.2053604826353208.\n"
     ]
    },
    {
     "name": "stdout",
     "output_type": "stream",
     "text": [
      "2/2 [==============================] - 0s 2ms/step\n"
     ]
    },
    {
     "name": "stderr",
     "output_type": "stream",
     "text": [
      "[I 2025-02-09 20:19:35,637] Trial 30 finished with value: 0.3654080870325199 and parameters: {'units1': 64, 'dropout1': 0.16148531880221512, 'units2': 149, 'dropout2': 0.3198468182851433}. Best is trial 25 with value: 0.2053604826353208.\n"
     ]
    },
    {
     "name": "stdout",
     "output_type": "stream",
     "text": [
      "2/2 [==============================] - 0s 4ms/step\n"
     ]
    },
    {
     "name": "stderr",
     "output_type": "stream",
     "text": [
      "[I 2025-02-09 20:19:39,785] Trial 31 finished with value: 0.3959969764533394 and parameters: {'units1': 90, 'dropout1': 0.16035396943279856, 'units2': 209, 'dropout2': 0.3406580540403692}. Best is trial 25 with value: 0.2053604826353208.\n"
     ]
    },
    {
     "name": "stdout",
     "output_type": "stream",
     "text": [
      "2/2 [==============================] - 0s 3ms/step\n"
     ]
    },
    {
     "name": "stderr",
     "output_type": "stream",
     "text": [
      "[I 2025-02-09 20:19:43,893] Trial 32 finished with value: 0.9041708533411411 and parameters: {'units1': 48, 'dropout1': 0.22351274767689788, 'units2': 189, 'dropout2': 0.29400996981626043}. Best is trial 25 with value: 0.2053604826353208.\n"
     ]
    },
    {
     "name": "stdout",
     "output_type": "stream",
     "text": [
      "2/2 [==============================] - 0s 2ms/step\n"
     ]
    },
    {
     "name": "stderr",
     "output_type": "stream",
     "text": [
      "[I 2025-02-09 20:19:47,821] Trial 33 finished with value: 0.34103888703166213 and parameters: {'units1': 73, 'dropout1': 0.1789368547128586, 'units2': 182, 'dropout2': 0.2793442860765847}. Best is trial 25 with value: 0.2053604826353208.\n"
     ]
    },
    {
     "name": "stdout",
     "output_type": "stream",
     "text": [
      "2/2 [==============================] - 0s 2ms/step\n"
     ]
    },
    {
     "name": "stderr",
     "output_type": "stream",
     "text": [
      "[I 2025-02-09 20:19:51,658] Trial 34 finished with value: 0.12816633186212079 and parameters: {'units1': 46, 'dropout1': 0.12656328416787826, 'units2': 237, 'dropout2': 0.2509737092743206}. Best is trial 34 with value: 0.12816633186212079.\n"
     ]
    },
    {
     "name": "stdout",
     "output_type": "stream",
     "text": [
      "2/2 [==============================] - 0s 3ms/step\n"
     ]
    },
    {
     "name": "stderr",
     "output_type": "stream",
     "text": [
      "[I 2025-02-09 20:19:56,569] Trial 35 finished with value: 0.4030700215739445 and parameters: {'units1': 44, 'dropout1': 0.11723453208656791, 'units2': 237, 'dropout2': 0.2554898743371805}. Best is trial 34 with value: 0.12816633186212079.\n"
     ]
    },
    {
     "name": "stdout",
     "output_type": "stream",
     "text": [
      "2/2 [==============================] - 0s 3ms/step\n"
     ]
    },
    {
     "name": "stderr",
     "output_type": "stream",
     "text": [
      "[I 2025-02-09 20:20:00,664] Trial 36 finished with value: 0.4330655528564253 and parameters: {'units1': 65, 'dropout1': 0.12934097006962963, 'units2': 209, 'dropout2': 0.44207705632121774}. Best is trial 34 with value: 0.12816633186212079.\n"
     ]
    },
    {
     "name": "stdout",
     "output_type": "stream",
     "text": [
      "2/2 [==============================] - 0s 2ms/step\n"
     ]
    },
    {
     "name": "stderr",
     "output_type": "stream",
     "text": [
      "[I 2025-02-09 20:20:05,558] Trial 37 finished with value: 0.31741078714220206 and parameters: {'units1': 165, 'dropout1': 0.14867157660555633, 'units2': 235, 'dropout2': 0.3436438435369453}. Best is trial 34 with value: 0.12816633186212079.\n"
     ]
    },
    {
     "name": "stdout",
     "output_type": "stream",
     "text": [
      "2/2 [==============================] - 0s 7ms/step\n"
     ]
    },
    {
     "name": "stderr",
     "output_type": "stream",
     "text": [
      "[I 2025-02-09 20:20:11,011] Trial 38 finished with value: 0.20063669057540948 and parameters: {'units1': 199, 'dropout1': 0.10246282931820552, 'units2': 161, 'dropout2': 0.3157820634399665}. Best is trial 34 with value: 0.12816633186212079.\n"
     ]
    },
    {
     "name": "stdout",
     "output_type": "stream",
     "text": [
      "2/2 [==============================] - 0s 2ms/step\n"
     ]
    },
    {
     "name": "stderr",
     "output_type": "stream",
     "text": [
      "[I 2025-02-09 20:20:15,532] Trial 39 finished with value: 0.5787793209105523 and parameters: {'units1': 197, 'dropout1': 0.4338975005631903, 'units2': 127, 'dropout2': 0.3659086142594795}. Best is trial 34 with value: 0.12816633186212079.\n"
     ]
    },
    {
     "name": "stdout",
     "output_type": "stream",
     "text": [
      "2/2 [==============================] - 0s 3ms/step\n"
     ]
    },
    {
     "name": "stderr",
     "output_type": "stream",
     "text": [
      "[I 2025-02-09 20:20:20,392] Trial 40 finished with value: 0.2144391746221473 and parameters: {'units1': 246, 'dropout1': 0.10057159115550454, 'units2': 70, 'dropout2': 0.2817245161180528}. Best is trial 34 with value: 0.12816633186212079.\n"
     ]
    },
    {
     "name": "stdout",
     "output_type": "stream",
     "text": [
      "2/2 [==============================] - 0s 2ms/step\n"
     ]
    },
    {
     "name": "stderr",
     "output_type": "stream",
     "text": [
      "[I 2025-02-09 20:20:25,300] Trial 41 finished with value: 0.2613077865288044 and parameters: {'units1': 255, 'dropout1': 0.11177663932771176, 'units2': 72, 'dropout2': 0.27905249840931684}. Best is trial 34 with value: 0.12816633186212079.\n"
     ]
    },
    {
     "name": "stdout",
     "output_type": "stream",
     "text": [
      "2/2 [==============================] - 0s 3ms/step\n"
     ]
    },
    {
     "name": "stderr",
     "output_type": "stream",
     "text": [
      "[I 2025-02-09 20:20:29,841] Trial 42 finished with value: 0.7494898163716746 and parameters: {'units1': 234, 'dropout1': 0.1370552010745249, 'units2': 40, 'dropout2': 0.35918138959171747}. Best is trial 34 with value: 0.12816633186212079.\n"
     ]
    },
    {
     "name": "stdout",
     "output_type": "stream",
     "text": [
      "2/2 [==============================] - 0s 2ms/step\n"
     ]
    },
    {
     "name": "stderr",
     "output_type": "stream",
     "text": [
      "[I 2025-02-09 20:20:33,951] Trial 43 finished with value: 0.7328135692461866 and parameters: {'units1': 200, 'dropout1': 0.1368442038240404, 'units2': 108, 'dropout2': 0.308025216616195}. Best is trial 34 with value: 0.12816633186212079.\n"
     ]
    },
    {
     "name": "stdout",
     "output_type": "stream",
     "text": [
      "2/2 [==============================] - 0s 4ms/step\n"
     ]
    },
    {
     "name": "stderr",
     "output_type": "stream",
     "text": [
      "[I 2025-02-09 20:20:38,704] Trial 44 finished with value: 0.15488338080258623 and parameters: {'units1': 243, 'dropout1': 0.10589963174345682, 'units2': 51, 'dropout2': 0.25130675074296493}. Best is trial 34 with value: 0.12816633186212079.\n"
     ]
    },
    {
     "name": "stdout",
     "output_type": "stream",
     "text": [
      "2/2 [==============================] - 0s 2ms/step\n"
     ]
    },
    {
     "name": "stderr",
     "output_type": "stream",
     "text": [
      "[I 2025-02-09 20:20:43,411] Trial 45 finished with value: 0.2279176870690023 and parameters: {'units1': 243, 'dropout1': 0.1003259347373169, 'units2': 56, 'dropout2': 0.25280583052382594}. Best is trial 34 with value: 0.12816633186212079.\n"
     ]
    },
    {
     "name": "stdout",
     "output_type": "stream",
     "text": [
      "2/2 [==============================] - 0s 2ms/step\n"
     ]
    },
    {
     "name": "stderr",
     "output_type": "stream",
     "text": [
      "[I 2025-02-09 20:20:47,912] Trial 46 finished with value: 0.17901910026124518 and parameters: {'units1': 219, 'dropout1': 0.32813442651853053, 'units2': 80, 'dropout2': 0.28327663684394766}. Best is trial 34 with value: 0.12816633186212079.\n"
     ]
    },
    {
     "name": "stdout",
     "output_type": "stream",
     "text": [
      "2/2 [==============================] - 0s 3ms/step\n"
     ]
    },
    {
     "name": "stderr",
     "output_type": "stream",
     "text": [
      "[I 2025-02-09 20:20:52,674] Trial 47 finished with value: 0.6907135384516435 and parameters: {'units1': 219, 'dropout1': 0.3453373721729268, 'units2': 88, 'dropout2': 0.22247801785024718}. Best is trial 34 with value: 0.12816633186212079.\n"
     ]
    },
    {
     "name": "stdout",
     "output_type": "stream",
     "text": [
      "2/2 [==============================] - 0s 2ms/step\n"
     ]
    },
    {
     "name": "stderr",
     "output_type": "stream",
     "text": [
      "[I 2025-02-09 20:20:56,747] Trial 48 finished with value: 0.5190971276050678 and parameters: {'units1': 189, 'dropout1': 0.33423048368407354, 'units2': 49, 'dropout2': 0.2645194018329343}. Best is trial 34 with value: 0.12816633186212079.\n"
     ]
    },
    {
     "name": "stdout",
     "output_type": "stream",
     "text": [
      "2/2 [==============================] - 0s 9ms/step\n"
     ]
    },
    {
     "name": "stderr",
     "output_type": "stream",
     "text": [
      "[I 2025-02-09 20:21:01,691] Trial 49 finished with value: 0.4467886609922357 and parameters: {'units1': 228, 'dropout1': 0.3998155390114946, 'units2': 76, 'dropout2': 0.391149963763447}. Best is trial 34 with value: 0.12816633186212079.\n"
     ]
    },
    {
     "name": "stdout",
     "output_type": "stream",
     "text": [
      "2/2 [==============================] - 0s 2ms/step\n"
     ]
    },
    {
     "name": "stderr",
     "output_type": "stream",
     "text": [
      "[I 2025-02-09 20:21:06,985] Trial 50 finished with value: 0.45045623513784383 and parameters: {'units1': 156, 'dropout1': 0.28229617101213655, 'units2': 120, 'dropout2': 0.3280051530629559}. Best is trial 34 with value: 0.12816633186212079.\n"
     ]
    },
    {
     "name": "stdout",
     "output_type": "stream",
     "text": [
      "2/2 [==============================] - 0s 6ms/step\n"
     ]
    },
    {
     "name": "stderr",
     "output_type": "stream",
     "text": [
      "[I 2025-02-09 20:21:12,239] Trial 51 finished with value: 0.4955894051511629 and parameters: {'units1': 242, 'dropout1': 0.3792662358206453, 'units2': 68, 'dropout2': 0.28930617361561783}. Best is trial 34 with value: 0.12816633186212079.\n"
     ]
    },
    {
     "name": "stdout",
     "output_type": "stream",
     "text": [
      "2/2 [==============================] - 0s 2ms/step\n"
     ]
    },
    {
     "name": "stderr",
     "output_type": "stream",
     "text": [
      "[I 2025-02-09 20:21:17,829] Trial 52 finished with value: 0.3376649917417488 and parameters: {'units1': 212, 'dropout1': 0.323544770385786, 'units2': 58, 'dropout2': 0.2736686074495187}. Best is trial 34 with value: 0.12816633186212079.\n"
     ]
    },
    {
     "name": "stdout",
     "output_type": "stream",
     "text": [
      "2/2 [==============================] - 0s 4ms/step\n"
     ]
    },
    {
     "name": "stderr",
     "output_type": "stream",
     "text": [
      "[I 2025-02-09 20:21:22,982] Trial 53 finished with value: 0.29303945724278135 and parameters: {'units1': 245, 'dropout1': 0.11586341079641047, 'units2': 95, 'dropout2': 0.3441943998579351}. Best is trial 34 with value: 0.12816633186212079.\n"
     ]
    },
    {
     "name": "stdout",
     "output_type": "stream",
     "text": [
      "2/2 [==============================] - 0s 2ms/step\n"
     ]
    },
    {
     "name": "stderr",
     "output_type": "stream",
     "text": [
      "[I 2025-02-09 20:21:27,732] Trial 54 finished with value: 0.34077643274880476 and parameters: {'units1': 210, 'dropout1': 0.14813308012102705, 'units2': 46, 'dropout2': 0.24109736541880333}. Best is trial 34 with value: 0.12816633186212079.\n"
     ]
    },
    {
     "name": "stdout",
     "output_type": "stream",
     "text": [
      "2/2 [==============================] - 0s 3ms/step\n"
     ]
    },
    {
     "name": "stderr",
     "output_type": "stream",
     "text": [
      "[I 2025-02-09 20:21:32,603] Trial 55 finished with value: 0.2834462630634769 and parameters: {'units1': 238, 'dropout1': 0.11589988946963825, 'units2': 81, 'dropout2': 0.2910469554817172}. Best is trial 34 with value: 0.12816633186212079.\n"
     ]
    },
    {
     "name": "stdout",
     "output_type": "stream",
     "text": [
      "2/2 [==============================] - 0s 2ms/step\n"
     ]
    },
    {
     "name": "stderr",
     "output_type": "stream",
     "text": [
      "[I 2025-02-09 20:21:37,351] Trial 56 finished with value: 0.3261861620456422 and parameters: {'units1': 224, 'dropout1': 0.1450716566936639, 'units2': 107, 'dropout2': 0.30151561613731664}. Best is trial 34 with value: 0.12816633186212079.\n"
     ]
    },
    {
     "name": "stdout",
     "output_type": "stream",
     "text": [
      "2/2 [==============================] - 0s 4ms/step\n"
     ]
    },
    {
     "name": "stderr",
     "output_type": "stream",
     "text": [
      "[I 2025-02-09 20:21:42,238] Trial 57 finished with value: 0.1926067247342244 and parameters: {'units1': 256, 'dropout1': 0.3157153142876576, 'units2': 67, 'dropout2': 0.256445938576776}. Best is trial 34 with value: 0.12816633186212079.\n"
     ]
    },
    {
     "name": "stdout",
     "output_type": "stream",
     "text": [
      "2/2 [==============================] - 0s 2ms/step\n"
     ]
    },
    {
     "name": "stderr",
     "output_type": "stream",
     "text": [
      "[I 2025-02-09 20:21:46,904] Trial 58 finished with value: 0.4787452407848915 and parameters: {'units1': 256, 'dropout1': 0.31001451457711404, 'units2': 37, 'dropout2': 0.25992595789918804}. Best is trial 34 with value: 0.12816633186212079.\n"
     ]
    },
    {
     "name": "stdout",
     "output_type": "stream",
     "text": [
      "2/2 [==============================] - 0s 2ms/step\n"
     ]
    },
    {
     "name": "stderr",
     "output_type": "stream",
     "text": [
      "[I 2025-02-09 20:21:51,501] Trial 59 finished with value: 0.4958449503892347 and parameters: {'units1': 230, 'dropout1': 0.2808796061852326, 'units2': 166, 'dropout2': 0.21734135485633016}. Best is trial 34 with value: 0.12816633186212079.\n"
     ]
    },
    {
     "name": "stdout",
     "output_type": "stream",
     "text": [
      "2/2 [==============================] - 0s 2ms/step\n"
     ]
    },
    {
     "name": "stderr",
     "output_type": "stream",
     "text": [
      "[I 2025-02-09 20:21:55,840] Trial 60 finished with value: 0.46560255821957525 and parameters: {'units1': 173, 'dropout1': 0.24619438741692015, 'units2': 134, 'dropout2': 0.23933761048462193}. Best is trial 34 with value: 0.12816633186212079.\n"
     ]
    },
    {
     "name": "stdout",
     "output_type": "stream",
     "text": [
      "2/2 [==============================] - 0s 3ms/step\n"
     ]
    },
    {
     "name": "stderr",
     "output_type": "stream",
     "text": [
      "[I 2025-02-09 20:22:00,239] Trial 61 finished with value: 0.3651493766747892 and parameters: {'units1': 248, 'dropout1': 0.3213738696246782, 'units2': 66, 'dropout2': 0.27412375987601606}. Best is trial 34 with value: 0.12816633186212079.\n"
     ]
    },
    {
     "name": "stdout",
     "output_type": "stream",
     "text": [
      "2/2 [==============================] - 0s 4ms/step\n"
     ]
    },
    {
     "name": "stderr",
     "output_type": "stream",
     "text": [
      "[I 2025-02-09 20:22:04,871] Trial 62 finished with value: 0.6049914326115501 and parameters: {'units1': 222, 'dropout1': 0.295860671909062, 'units2': 52, 'dropout2': 0.31197578004799364}. Best is trial 34 with value: 0.12816633186212079.\n"
     ]
    },
    {
     "name": "stdout",
     "output_type": "stream",
     "text": [
      "2/2 [==============================] - 0s 3ms/step\n"
     ]
    },
    {
     "name": "stderr",
     "output_type": "stream",
     "text": [
      "[I 2025-02-09 20:22:09,644] Trial 63 finished with value: 0.44816440819802816 and parameters: {'units1': 251, 'dropout1': 0.37559781666648284, 'units2': 78, 'dropout2': 0.2530956578708089}. Best is trial 34 with value: 0.12816633186212079.\n"
     ]
    },
    {
     "name": "stdout",
     "output_type": "stream",
     "text": [
      "2/2 [==============================] - 0s 2ms/step\n"
     ]
    },
    {
     "name": "stderr",
     "output_type": "stream",
     "text": [
      "[I 2025-02-09 20:22:13,987] Trial 64 finished with value: 0.1704992699629971 and parameters: {'units1': 204, 'dropout1': 0.1099669019461896, 'units2': 94, 'dropout2': 0.3298698542847769}. Best is trial 34 with value: 0.12816633186212079.\n"
     ]
    },
    {
     "name": "stdout",
     "output_type": "stream",
     "text": [
      "2/2 [==============================] - 0s 3ms/step\n"
     ]
    },
    {
     "name": "stderr",
     "output_type": "stream",
     "text": [
      "[I 2025-02-09 20:22:18,381] Trial 65 finished with value: 0.33858960089997775 and parameters: {'units1': 203, 'dropout1': 0.17424984254369402, 'units2': 92, 'dropout2': 0.32274118769831023}. Best is trial 34 with value: 0.12816633186212079.\n"
     ]
    },
    {
     "name": "stdout",
     "output_type": "stream",
     "text": [
      "2/2 [==============================] - 0s 4ms/step\n"
     ]
    },
    {
     "name": "stderr",
     "output_type": "stream",
     "text": [
      "[I 2025-02-09 20:22:22,756] Trial 66 finished with value: 0.241968553165471 and parameters: {'units1': 174, 'dropout1': 0.1300625804894573, 'units2': 248, 'dropout2': 0.38437402565602746}. Best is trial 34 with value: 0.12816633186212079.\n"
     ]
    },
    {
     "name": "stdout",
     "output_type": "stream",
     "text": [
      "2/2 [==============================] - 0s 2ms/step\n"
     ]
    },
    {
     "name": "stderr",
     "output_type": "stream",
     "text": [
      "[I 2025-02-09 20:22:27,385] Trial 67 finished with value: 0.3300734862479435 and parameters: {'units1': 207, 'dropout1': 0.3576153406789542, 'units2': 83, 'dropout2': 0.35630994886439027}. Best is trial 34 with value: 0.12816633186212079.\n"
     ]
    },
    {
     "name": "stdout",
     "output_type": "stream",
     "text": [
      "2/2 [==============================] - 0s 4ms/step\n"
     ]
    },
    {
     "name": "stderr",
     "output_type": "stream",
     "text": [
      "[I 2025-02-09 20:22:31,539] Trial 68 finished with value: 0.5121367730535917 and parameters: {'units1': 188, 'dropout1': 0.26469903837265674, 'units2': 58, 'dropout2': 0.43281897082119336}. Best is trial 34 with value: 0.12816633186212079.\n"
     ]
    },
    {
     "name": "stdout",
     "output_type": "stream",
     "text": [
      "2/2 [==============================] - 0s 2ms/step\n"
     ]
    },
    {
     "name": "stderr",
     "output_type": "stream",
     "text": [
      "[I 2025-02-09 20:22:36,027] Trial 69 finished with value: 0.34413184916244194 and parameters: {'units1': 218, 'dropout1': 0.4922737653886827, 'units2': 63, 'dropout2': 0.2121279283303627}. Best is trial 34 with value: 0.12816633186212079.\n"
     ]
    },
    {
     "name": "stdout",
     "output_type": "stream",
     "text": [
      "2/2 [==============================] - 0s 2ms/step\n"
     ]
    },
    {
     "name": "stderr",
     "output_type": "stream",
     "text": [
      "[I 2025-02-09 20:22:40,588] Trial 70 finished with value: 0.4350958076661668 and parameters: {'units1': 194, 'dropout1': 0.1565119903862897, 'units2': 101, 'dropout2': 0.3351687150645727}. Best is trial 34 with value: 0.12816633186212079.\n"
     ]
    },
    {
     "name": "stdout",
     "output_type": "stream",
     "text": [
      "2/2 [==============================] - 0s 2ms/step\n"
     ]
    },
    {
     "name": "stderr",
     "output_type": "stream",
     "text": [
      "[I 2025-02-09 20:22:44,202] Trial 71 finished with value: 0.44396932977370007 and parameters: {'units1': 236, 'dropout1': 0.10646077851631852, 'units2': 74, 'dropout2': 0.28475629317598383}. Best is trial 34 with value: 0.12816633186212079.\n"
     ]
    },
    {
     "name": "stdout",
     "output_type": "stream",
     "text": [
      "2/2 [==============================] - 0s 2ms/step\n"
     ]
    },
    {
     "name": "stderr",
     "output_type": "stream",
     "text": [
      "[I 2025-02-09 20:22:47,943] Trial 72 finished with value: 0.16701845925016237 and parameters: {'units1': 229, 'dropout1': 0.12121587099276512, 'units2': 154, 'dropout2': 0.3019259783583711}. Best is trial 34 with value: 0.12816633186212079.\n"
     ]
    },
    {
     "name": "stdout",
     "output_type": "stream",
     "text": [
      "2/2 [==============================] - 0s 2ms/step\n"
     ]
    },
    {
     "name": "stderr",
     "output_type": "stream",
     "text": [
      "[I 2025-02-09 20:22:51,735] Trial 73 finished with value: 0.5027989365928636 and parameters: {'units1': 229, 'dropout1': 0.12365327826843009, 'units2': 154, 'dropout2': 0.2995797581459719}. Best is trial 34 with value: 0.12816633186212079.\n"
     ]
    },
    {
     "name": "stdout",
     "output_type": "stream",
     "text": [
      "2/2 [==============================] - 0s 2ms/step\n"
     ]
    },
    {
     "name": "stderr",
     "output_type": "stream",
     "text": [
      "[I 2025-02-09 20:22:55,058] Trial 74 finished with value: 0.2256875575388812 and parameters: {'units1': 117, 'dropout1': 0.13932754127870672, 'units2': 140, 'dropout2': 0.3119430480053926}. Best is trial 34 with value: 0.12816633186212079.\n"
     ]
    },
    {
     "name": "stdout",
     "output_type": "stream",
     "text": [
      "2/2 [==============================] - 0s 2ms/step\n"
     ]
    },
    {
     "name": "stderr",
     "output_type": "stream",
     "text": [
      "[I 2025-02-09 20:22:58,885] Trial 75 finished with value: 0.25594220814493385 and parameters: {'units1': 215, 'dropout1': 0.12061151478968922, 'units2': 163, 'dropout2': 0.35260340353137337}. Best is trial 34 with value: 0.12816633186212079.\n"
     ]
    },
    {
     "name": "stdout",
     "output_type": "stream",
     "text": [
      "2/2 [==============================] - 0s 2ms/step\n"
     ]
    },
    {
     "name": "stderr",
     "output_type": "stream",
     "text": [
      "[I 2025-02-09 20:23:02,239] Trial 76 finished with value: 0.5027923731407952 and parameters: {'units1': 125, 'dropout1': 0.2961512119887513, 'units2': 120, 'dropout2': 0.32707999313429126}. Best is trial 34 with value: 0.12816633186212079.\n"
     ]
    },
    {
     "name": "stdout",
     "output_type": "stream",
     "text": [
      "2/2 [==============================] - 0s 2ms/step\n"
     ]
    },
    {
     "name": "stderr",
     "output_type": "stream",
     "text": [
      "[I 2025-02-09 20:23:05,887] Trial 77 finished with value: 0.4512939676229342 and parameters: {'units1': 181, 'dropout1': 0.11189866369173147, 'units2': 198, 'dropout2': 0.3766877011680103}. Best is trial 34 with value: 0.12816633186212079.\n"
     ]
    },
    {
     "name": "stdout",
     "output_type": "stream",
     "text": [
      "2/2 [==============================] - 0s 2ms/step\n"
     ]
    },
    {
     "name": "stderr",
     "output_type": "stream",
     "text": [
      "[I 2025-02-09 20:23:09,334] Trial 78 finished with value: 0.18454328141287415 and parameters: {'units1': 105, 'dropout1': 0.17063941971876356, 'units2': 180, 'dropout2': 0.23341468382295655}. Best is trial 34 with value: 0.12816633186212079.\n"
     ]
    },
    {
     "name": "stdout",
     "output_type": "stream",
     "text": [
      "2/2 [==============================] - 0s 1ms/step\n"
     ]
    },
    {
     "name": "stderr",
     "output_type": "stream",
     "text": [
      "[I 2025-02-09 20:23:12,766] Trial 79 finished with value: 0.29217282511964 and parameters: {'units1': 103, 'dropout1': 0.1961441801183117, 'units2': 179, 'dropout2': 0.232815985551995}. Best is trial 34 with value: 0.12816633186212079.\n"
     ]
    },
    {
     "name": "stdout",
     "output_type": "stream",
     "text": [
      "2/2 [==============================] - 0s 2ms/step\n"
     ]
    },
    {
     "name": "stderr",
     "output_type": "stream",
     "text": [
      "[I 2025-02-09 20:23:16,303] Trial 80 finished with value: 0.2751239763186092 and parameters: {'units1': 146, 'dropout1': 0.12667764859051653, 'units2': 150, 'dropout2': 0.1912637739342035}. Best is trial 34 with value: 0.12816633186212079.\n"
     ]
    },
    {
     "name": "stdout",
     "output_type": "stream",
     "text": [
      "2/2 [==============================] - 0s 1ms/step\n"
     ]
    },
    {
     "name": "stderr",
     "output_type": "stream",
     "text": [
      "[I 2025-02-09 20:23:19,455] Trial 81 finished with value: 0.6903102171701462 and parameters: {'units1': 32, 'dropout1': 0.16745010612392175, 'units2': 161, 'dropout2': 0.2470282888023275}. Best is trial 34 with value: 0.12816633186212079.\n"
     ]
    },
    {
     "name": "stdout",
     "output_type": "stream",
     "text": [
      "2/2 [==============================] - 0s 2ms/step\n"
     ]
    },
    {
     "name": "stderr",
     "output_type": "stream",
     "text": [
      "[I 2025-02-09 20:23:22,849] Trial 82 finished with value: 0.7355368744051428 and parameters: {'units1': 111, 'dropout1': 0.1532547619344437, 'units2': 216, 'dropout2': 0.26768032412677484}. Best is trial 34 with value: 0.12816633186212079.\n"
     ]
    },
    {
     "name": "stdout",
     "output_type": "stream",
     "text": [
      "2/2 [==============================] - 0s 1ms/step\n"
     ]
    },
    {
     "name": "stderr",
     "output_type": "stream",
     "text": [
      "[I 2025-02-09 20:23:25,990] Trial 83 finished with value: 0.35096407474744856 and parameters: {'units1': 44, 'dropout1': 0.18307586122637182, 'units2': 174, 'dropout2': 0.2652544620344614}. Best is trial 34 with value: 0.12816633186212079.\n"
     ]
    },
    {
     "name": "stdout",
     "output_type": "stream",
     "text": [
      "2/2 [==============================] - 0s 3ms/step\n"
     ]
    },
    {
     "name": "stderr",
     "output_type": "stream",
     "text": [
      "[I 2025-02-09 20:23:29,822] Trial 84 finished with value: 0.22051309786251597 and parameters: {'units1': 239, 'dropout1': 0.10820045763960792, 'units2': 227, 'dropout2': 0.2996743908747794}. Best is trial 34 with value: 0.12816633186212079.\n"
     ]
    },
    {
     "name": "stdout",
     "output_type": "stream",
     "text": [
      "2/2 [==============================] - 0s 2ms/step\n"
     ]
    },
    {
     "name": "stderr",
     "output_type": "stream",
     "text": [
      "[I 2025-02-09 20:23:32,970] Trial 85 finished with value: 0.3403150881464667 and parameters: {'units1': 98, 'dropout1': 0.14005322926168204, 'units2': 44, 'dropout2': 0.31709360005961823}. Best is trial 34 with value: 0.12816633186212079.\n"
     ]
    },
    {
     "name": "stdout",
     "output_type": "stream",
     "text": [
      "2/2 [==============================] - 0s 2ms/step\n"
     ]
    },
    {
     "name": "stderr",
     "output_type": "stream",
     "text": [
      "[I 2025-02-09 20:23:36,102] Trial 86 finished with value: 0.853417199591562 and parameters: {'units1': 57, 'dropout1': 0.3367281437124419, 'units2': 32, 'dropout2': 0.22638584557196342}. Best is trial 34 with value: 0.12816633186212079.\n"
     ]
    },
    {
     "name": "stdout",
     "output_type": "stream",
     "text": [
      "2/2 [==============================] - 0s 2ms/step\n"
     ]
    },
    {
     "name": "stderr",
     "output_type": "stream",
     "text": [
      "[I 2025-02-09 20:23:39,753] Trial 87 finished with value: 0.36021504896457146 and parameters: {'units1': 225, 'dropout1': 0.13328840890317312, 'units2': 192, 'dropout2': 0.33432376110098677}. Best is trial 34 with value: 0.12816633186212079.\n"
     ]
    },
    {
     "name": "stdout",
     "output_type": "stream",
     "text": [
      "2/2 [==============================] - 0s 2ms/step\n"
     ]
    },
    {
     "name": "stderr",
     "output_type": "stream",
     "text": [
      "[I 2025-02-09 20:23:44,002] Trial 88 finished with value: 0.5323267946083258 and parameters: {'units1': 204, 'dropout1': 0.10075592088296288, 'units2': 255, 'dropout2': 0.244993859884718}. Best is trial 34 with value: 0.12816633186212079.\n"
     ]
    },
    {
     "name": "stdout",
     "output_type": "stream",
     "text": [
      "2/2 [==============================] - 0s 1ms/step\n"
     ]
    },
    {
     "name": "stderr",
     "output_type": "stream",
     "text": [
      "[I 2025-02-09 20:23:46,978] Trial 89 finished with value: 0.7701327857823974 and parameters: {'units1': 48, 'dropout1': 0.15551566017350274, 'units2': 144, 'dropout2': 0.20747587854884655}. Best is trial 34 with value: 0.12816633186212079.\n"
     ]
    },
    {
     "name": "stdout",
     "output_type": "stream",
     "text": [
      "2/2 [==============================] - 0s 2ms/step\n"
     ]
    },
    {
     "name": "stderr",
     "output_type": "stream",
     "text": [
      "[I 2025-02-09 20:23:50,725] Trial 90 finished with value: 0.1871846601576182 and parameters: {'units1': 233, 'dropout1': 0.12324831677195695, 'units2': 134, 'dropout2': 0.2330576492191694}. Best is trial 34 with value: 0.12816633186212079.\n"
     ]
    },
    {
     "name": "stdout",
     "output_type": "stream",
     "text": [
      "2/2 [==============================] - 0s 2ms/step\n"
     ]
    },
    {
     "name": "stderr",
     "output_type": "stream",
     "text": [
      "[I 2025-02-09 20:23:54,435] Trial 91 finished with value: 0.17252282117388426 and parameters: {'units1': 233, 'dropout1': 0.12137927604533776, 'units2': 132, 'dropout2': 0.2378531678940105}. Best is trial 34 with value: 0.12816633186212079.\n"
     ]
    },
    {
     "name": "stdout",
     "output_type": "stream",
     "text": [
      "2/2 [==============================] - 0s 2ms/step\n"
     ]
    },
    {
     "name": "stderr",
     "output_type": "stream",
     "text": [
      "[I 2025-02-09 20:23:58,357] Trial 92 finished with value: 0.5805387091250788 and parameters: {'units1': 233, 'dropout1': 0.12002324970075423, 'units2': 134, 'dropout2': 0.23638753901395906}. Best is trial 34 with value: 0.12816633186212079.\n"
     ]
    },
    {
     "name": "stdout",
     "output_type": "stream",
     "text": [
      "2/2 [==============================] - 0s 2ms/step\n"
     ]
    },
    {
     "name": "stderr",
     "output_type": "stream",
     "text": [
      "[I 2025-02-09 20:24:02,165] Trial 93 finished with value: 0.40930079210707543 and parameters: {'units1': 253, 'dropout1': 0.11412318199265313, 'units2': 131, 'dropout2': 0.25614736210387556}. Best is trial 34 with value: 0.12816633186212079.\n"
     ]
    },
    {
     "name": "stdout",
     "output_type": "stream",
     "text": [
      "2/2 [==============================] - 0s 2ms/step\n"
     ]
    },
    {
     "name": "stderr",
     "output_type": "stream",
     "text": [
      "[I 2025-02-09 20:24:05,813] Trial 94 finished with value: 0.3895829167177526 and parameters: {'units1': 240, 'dropout1': 0.14243080874838307, 'units2': 116, 'dropout2': 0.23128846286949173}. Best is trial 34 with value: 0.12816633186212079.\n"
     ]
    },
    {
     "name": "stdout",
     "output_type": "stream",
     "text": [
      "2/2 [==============================] - 0s 2ms/step\n"
     ]
    },
    {
     "name": "stderr",
     "output_type": "stream",
     "text": [
      "[I 2025-02-09 20:24:09,556] Trial 95 finished with value: 0.40790423347704685 and parameters: {'units1': 248, 'dropout1': 0.12640505585720616, 'units2': 154, 'dropout2': 0.2726856882265259}. Best is trial 34 with value: 0.12816633186212079.\n"
     ]
    },
    {
     "name": "stdout",
     "output_type": "stream",
     "text": [
      "2/2 [==============================] - 0s 2ms/step\n"
     ]
    },
    {
     "name": "stderr",
     "output_type": "stream",
     "text": [
      "[I 2025-02-09 20:24:13,107] Trial 96 finished with value: 0.49164807532687294 and parameters: {'units1': 216, 'dropout1': 0.10913802789122107, 'units2': 125, 'dropout2': 0.18924889839537612}. Best is trial 34 with value: 0.12816633186212079.\n"
     ]
    },
    {
     "name": "stdout",
     "output_type": "stream",
     "text": [
      "2/2 [==============================] - 0s 2ms/step\n"
     ]
    },
    {
     "name": "stderr",
     "output_type": "stream",
     "text": [
      "[I 2025-02-09 20:24:16,737] Trial 97 finished with value: 0.355201766535533 and parameters: {'units1': 232, 'dropout1': 0.3195096843574612, 'units2': 171, 'dropout2': 0.21556402759395127}. Best is trial 34 with value: 0.12816633186212079.\n"
     ]
    },
    {
     "name": "stdout",
     "output_type": "stream",
     "text": [
      "2/2 [==============================] - 0s 2ms/step\n"
     ]
    },
    {
     "name": "stderr",
     "output_type": "stream",
     "text": [
      "[I 2025-02-09 20:24:20,365] Trial 98 finished with value: 0.29354428240597896 and parameters: {'units1': 222, 'dropout1': 0.13149445044574914, 'units2': 159, 'dropout2': 0.25120543300160053}. Best is trial 34 with value: 0.12816633186212079.\n"
     ]
    },
    {
     "name": "stdout",
     "output_type": "stream",
     "text": [
      "2/2 [==============================] - 0s 2ms/step\n"
     ]
    },
    {
     "name": "stderr",
     "output_type": "stream",
     "text": [
      "[I 2025-02-09 20:24:23,722] Trial 99 finished with value: 0.21214904726778028 and parameters: {'units1': 144, 'dropout1': 0.10017685898588992, 'units2': 110, 'dropout2': 0.2615114187796322}. Best is trial 34 with value: 0.12816633186212079.\n",
      "[I 2025-02-09 20:24:23,731] A new study created in memory with name: no-name-acd9ce9a-0653-45f2-a639-18e0876317b2\n"
     ]
    },
    {
     "name": "stdout",
     "output_type": "stream",
     "text": [
      "\n",
      "\n",
      "Biomass (g/L):\n",
      "\n",
      "MSE:  0.12816633186212079\n",
      "2/2 [==============================] - 0s 2ms/step\n"
     ]
    },
    {
     "name": "stderr",
     "output_type": "stream",
     "text": [
      "[I 2025-02-09 20:24:27,210] Trial 0 finished with value: 0.42938546865577865 and parameters: {'units1': 237, 'dropout1': 0.44205783672800936, 'units2': 71, 'dropout2': 0.22952146758318645}. Best is trial 0 with value: 0.42938546865577865.\n"
     ]
    },
    {
     "name": "stdout",
     "output_type": "stream",
     "text": [
      "2/2 [==============================] - 0s 2ms/step\n"
     ]
    },
    {
     "name": "stderr",
     "output_type": "stream",
     "text": [
      "[I 2025-02-09 20:24:30,406] Trial 1 finished with value: 0.42431369010278663 and parameters: {'units1': 131, 'dropout1': 0.4922946305248759, 'units2': 80, 'dropout2': 0.3632122816378719}. Best is trial 1 with value: 0.42431369010278663.\n"
     ]
    },
    {
     "name": "stdout",
     "output_type": "stream",
     "text": [
      "2/2 [==============================] - 0s 1ms/step\n"
     ]
    },
    {
     "name": "stderr",
     "output_type": "stream",
     "text": [
      "[I 2025-02-09 20:24:33,494] Trial 2 finished with value: 0.4754025546379705 and parameters: {'units1': 82, 'dropout1': 0.46025862924249444, 'units2': 140, 'dropout2': 0.11599448794666496}. Best is trial 1 with value: 0.42431369010278663.\n"
     ]
    },
    {
     "name": "stdout",
     "output_type": "stream",
     "text": [
      "2/2 [==============================] - 0s 2ms/step\n"
     ]
    },
    {
     "name": "stderr",
     "output_type": "stream",
     "text": [
      "[I 2025-02-09 20:24:38,417] Trial 3 finished with value: 0.4205680010049138 and parameters: {'units1': 205, 'dropout1': 0.3005647871902799, 'units2': 207, 'dropout2': 0.3692724044618301}. Best is trial 3 with value: 0.4205680010049138.\n"
     ]
    },
    {
     "name": "stdout",
     "output_type": "stream",
     "text": [
      "2/2 [==============================] - 0s 2ms/step\n"
     ]
    },
    {
     "name": "stderr",
     "output_type": "stream",
     "text": [
      "[I 2025-02-09 20:24:41,621] Trial 4 finished with value: 0.3719067293934305 and parameters: {'units1': 96, 'dropout1': 0.4224645913870693, 'units2': 189, 'dropout2': 0.3494368004573421}. Best is trial 4 with value: 0.3719067293934305.\n"
     ]
    },
    {
     "name": "stdout",
     "output_type": "stream",
     "text": [
      "2/2 [==============================] - 0s 3ms/step\n"
     ]
    },
    {
     "name": "stderr",
     "output_type": "stream",
     "text": [
      "[I 2025-02-09 20:24:44,818] Trial 5 finished with value: 0.4578108132045906 and parameters: {'units1': 43, 'dropout1': 0.1073514362613448, 'units2': 109, 'dropout2': 0.4539951938022892}. Best is trial 4 with value: 0.3719067293934305.\n"
     ]
    },
    {
     "name": "stdout",
     "output_type": "stream",
     "text": [
      "2/2 [==============================] - 0s 2ms/step\n"
     ]
    },
    {
     "name": "stderr",
     "output_type": "stream",
     "text": [
      "[I 2025-02-09 20:24:48,634] Trial 6 finished with value: 0.441193350910626 and parameters: {'units1': 38, 'dropout1': 0.35519093940458696, 'units2': 39, 'dropout2': 0.4131113525070447}. Best is trial 4 with value: 0.3719067293934305.\n"
     ]
    },
    {
     "name": "stdout",
     "output_type": "stream",
     "text": [
      "2/2 [==============================] - 0s 2ms/step\n"
     ]
    },
    {
     "name": "stderr",
     "output_type": "stream",
     "text": [
      "[I 2025-02-09 20:24:52,878] Trial 7 finished with value: 0.33710494459593876 and parameters: {'units1': 174, 'dropout1': 0.12515392958100935, 'units2': 202, 'dropout2': 0.21586703540032046}. Best is trial 7 with value: 0.33710494459593876.\n"
     ]
    },
    {
     "name": "stdout",
     "output_type": "stream",
     "text": [
      "2/2 [==============================] - 0s 2ms/step\n"
     ]
    },
    {
     "name": "stderr",
     "output_type": "stream",
     "text": [
      "[I 2025-02-09 20:24:56,498] Trial 8 finished with value: 0.4529022070467314 and parameters: {'units1': 191, 'dropout1': 0.37161216839456374, 'units2': 81, 'dropout2': 0.3173925443394865}. Best is trial 7 with value: 0.33710494459593876.\n"
     ]
    },
    {
     "name": "stdout",
     "output_type": "stream",
     "text": [
      "2/2 [==============================] - 0s 2ms/step\n"
     ]
    },
    {
     "name": "stderr",
     "output_type": "stream",
     "text": [
      "[I 2025-02-09 20:24:59,789] Trial 9 finished with value: 0.4114442505574651 and parameters: {'units1': 114, 'dropout1': 0.2997562308991497, 'units2': 148, 'dropout2': 0.2192973399232163}. Best is trial 7 with value: 0.33710494459593876.\n"
     ]
    },
    {
     "name": "stdout",
     "output_type": "stream",
     "text": [
      "2/2 [==============================] - 0s 2ms/step\n"
     ]
    },
    {
     "name": "stderr",
     "output_type": "stream",
     "text": [
      "[I 2025-02-09 20:25:03,427] Trial 10 finished with value: 0.8031572358757716 and parameters: {'units1': 170, 'dropout1': 0.10473163181646834, 'units2': 238, 'dropout2': 0.10224656016435685}. Best is trial 7 with value: 0.33710494459593876.\n"
     ]
    },
    {
     "name": "stdout",
     "output_type": "stream",
     "text": [
      "2/2 [==============================] - 0s 2ms/step\n"
     ]
    },
    {
     "name": "stderr",
     "output_type": "stream",
     "text": [
      "[I 2025-02-09 20:25:06,851] Trial 11 finished with value: 0.3401873323480383 and parameters: {'units1': 92, 'dropout1': 0.1970434297638029, 'units2': 189, 'dropout2': 0.23112548284730405}. Best is trial 7 with value: 0.33710494459593876.\n"
     ]
    },
    {
     "name": "stdout",
     "output_type": "stream",
     "text": [
      "2/2 [==============================] - 0s 2ms/step\n"
     ]
    },
    {
     "name": "stderr",
     "output_type": "stream",
     "text": [
      "[I 2025-02-09 20:25:10,323] Trial 12 finished with value: 0.382512422121741 and parameters: {'units1': 152, 'dropout1': 0.20576237635225392, 'units2': 255, 'dropout2': 0.22713963006271332}. Best is trial 7 with value: 0.33710494459593876.\n"
     ]
    },
    {
     "name": "stdout",
     "output_type": "stream",
     "text": [
      "2/2 [==============================] - 0s 2ms/step\n"
     ]
    },
    {
     "name": "stderr",
     "output_type": "stream",
     "text": [
      "[I 2025-02-09 20:25:13,527] Trial 13 finished with value: 0.36538605452282064 and parameters: {'units1': 80, 'dropout1': 0.18222232108455938, 'units2': 181, 'dropout2': 0.1741415380425849}. Best is trial 7 with value: 0.33710494459593876.\n"
     ]
    },
    {
     "name": "stdout",
     "output_type": "stream",
     "text": [
      "2/2 [==============================] - 0s 2ms/step\n"
     ]
    },
    {
     "name": "stderr",
     "output_type": "stream",
     "text": [
      "[I 2025-02-09 20:25:17,349] Trial 14 finished with value: 0.34744257448001586 and parameters: {'units1': 229, 'dropout1': 0.19687807613402059, 'units2': 209, 'dropout2': 0.275025118572812}. Best is trial 7 with value: 0.33710494459593876.\n"
     ]
    },
    {
     "name": "stdout",
     "output_type": "stream",
     "text": [
      "2/2 [==============================] - 0s 2ms/step\n"
     ]
    },
    {
     "name": "stderr",
     "output_type": "stream",
     "text": [
      "[I 2025-02-09 20:25:20,685] Trial 15 finished with value: 0.42569314207778153 and parameters: {'units1': 156, 'dropout1': 0.14941457585133353, 'units2': 160, 'dropout2': 0.16810837887594487}. Best is trial 7 with value: 0.33710494459593876.\n"
     ]
    },
    {
     "name": "stdout",
     "output_type": "stream",
     "text": [
      "2/2 [==============================] - 0s 2ms/step\n"
     ]
    },
    {
     "name": "stderr",
     "output_type": "stream",
     "text": [
      "[I 2025-02-09 20:25:24,060] Trial 16 finished with value: 0.6976561122823968 and parameters: {'units1': 122, 'dropout1': 0.24549084170129748, 'units2': 226, 'dropout2': 0.27597873127806555}. Best is trial 7 with value: 0.33710494459593876.\n"
     ]
    },
    {
     "name": "stdout",
     "output_type": "stream",
     "text": [
      "2/2 [==============================] - 0s 2ms/step\n"
     ]
    },
    {
     "name": "stderr",
     "output_type": "stream",
     "text": [
      "[I 2025-02-09 20:25:27,646] Trial 17 finished with value: 0.336901098989346 and parameters: {'units1': 187, 'dropout1': 0.2499472699451734, 'units2': 173, 'dropout2': 0.16558129865623583}. Best is trial 17 with value: 0.336901098989346.\n"
     ]
    },
    {
     "name": "stdout",
     "output_type": "stream",
     "text": [
      "2/2 [==============================] - 0s 2ms/step\n"
     ]
    },
    {
     "name": "stderr",
     "output_type": "stream",
     "text": [
      "[I 2025-02-09 20:25:31,199] Trial 18 finished with value: 0.46175542122557317 and parameters: {'units1': 190, 'dropout1': 0.25627547322299987, 'units2': 118, 'dropout2': 0.16495806284243353}. Best is trial 17 with value: 0.336901098989346.\n"
     ]
    },
    {
     "name": "stdout",
     "output_type": "stream",
     "text": [
      "2/2 [==============================] - 0s 2ms/step\n"
     ]
    },
    {
     "name": "stderr",
     "output_type": "stream",
     "text": [
      "[I 2025-02-09 20:25:35,169] Trial 19 finished with value: 0.41009114158223875 and parameters: {'units1': 253, 'dropout1': 0.15148889225223122, 'units2': 175, 'dropout2': 0.14295284326520702}. Best is trial 17 with value: 0.336901098989346.\n"
     ]
    },
    {
     "name": "stdout",
     "output_type": "stream",
     "text": [
      "2/2 [==============================] - 0s 2ms/step\n"
     ]
    },
    {
     "name": "stderr",
     "output_type": "stream",
     "text": [
      "[I 2025-02-09 20:25:38,627] Trial 20 finished with value: 0.4387459015496095 and parameters: {'units1': 173, 'dropout1': 0.27306293613370847, 'units2': 125, 'dropout2': 0.19104542047872977}. Best is trial 17 with value: 0.336901098989346.\n"
     ]
    },
    {
     "name": "stdout",
     "output_type": "stream",
     "text": [
      "2/2 [==============================] - 0s 2ms/step\n"
     ]
    },
    {
     "name": "stderr",
     "output_type": "stream",
     "text": [
      "[I 2025-02-09 20:25:42,267] Trial 21 finished with value: 0.40258990651798765 and parameters: {'units1': 208, 'dropout1': 0.2230763281782725, 'units2': 197, 'dropout2': 0.2586851216899444}. Best is trial 17 with value: 0.336901098989346.\n"
     ]
    },
    {
     "name": "stdout",
     "output_type": "stream",
     "text": [
      "2/2 [==============================] - 0s 2ms/step\n"
     ]
    },
    {
     "name": "stderr",
     "output_type": "stream",
     "text": [
      "[I 2025-02-09 20:25:45,711] Trial 22 finished with value: 0.41197357006023544 and parameters: {'units1': 143, 'dropout1': 0.15484391159296185, 'units2': 166, 'dropout2': 0.20466682967351083}. Best is trial 17 with value: 0.336901098989346.\n"
     ]
    },
    {
     "name": "stdout",
     "output_type": "stream",
     "text": [
      "2/2 [==============================] - 0s 1ms/step\n"
     ]
    },
    {
     "name": "stderr",
     "output_type": "stream",
     "text": [
      "[I 2025-02-09 20:25:48,873] Trial 23 finished with value: 0.7180214992195428 and parameters: {'units1': 66, 'dropout1': 0.17396686208001005, 'units2': 225, 'dropout2': 0.2460885722591818}. Best is trial 17 with value: 0.336901098989346.\n"
     ]
    },
    {
     "name": "stdout",
     "output_type": "stream",
     "text": [
      "2/2 [==============================] - 0s 2ms/step\n"
     ]
    },
    {
     "name": "stderr",
     "output_type": "stream",
     "text": [
      "[I 2025-02-09 20:25:53,405] Trial 24 finished with value: 0.47865924573202595 and parameters: {'units1': 177, 'dropout1': 0.1323326716315464, 'units2': 210, 'dropout2': 0.30683052057697247}. Best is trial 17 with value: 0.336901098989346.\n"
     ]
    },
    {
     "name": "stdout",
     "output_type": "stream",
     "text": [
      "2/2 [==============================] - 0s 2ms/step\n"
     ]
    },
    {
     "name": "stderr",
     "output_type": "stream",
     "text": [
      "[I 2025-02-09 20:25:56,667] Trial 25 finished with value: 0.3980509786465133 and parameters: {'units1': 107, 'dropout1': 0.22034472004909972, 'units2': 152, 'dropout2': 0.12925052936668585}. Best is trial 17 with value: 0.336901098989346.\n"
     ]
    },
    {
     "name": "stdout",
     "output_type": "stream",
     "text": [
      "2/2 [==============================] - 0s 2ms/step\n"
     ]
    },
    {
     "name": "stderr",
     "output_type": "stream",
     "text": [
      "[I 2025-02-09 20:26:00,344] Trial 26 finished with value: 0.3668161348903677 and parameters: {'units1': 206, 'dropout1': 0.32169621655100705, 'units2': 178, 'dropout2': 0.18942004854193403}. Best is trial 17 with value: 0.336901098989346.\n"
     ]
    },
    {
     "name": "stdout",
     "output_type": "stream",
     "text": [
      "2/2 [==============================] - 0s 2ms/step\n"
     ]
    },
    {
     "name": "stderr",
     "output_type": "stream",
     "text": [
      "[I 2025-02-09 20:26:03,825] Trial 27 finished with value: 0.4309033105387114 and parameters: {'units1': 159, 'dropout1': 0.23312080543852431, 'units2': 195, 'dropout2': 0.14588232914489643}. Best is trial 17 with value: 0.336901098989346.\n"
     ]
    },
    {
     "name": "stdout",
     "output_type": "stream",
     "text": [
      "2/2 [==============================] - 0s 2ms/step\n"
     ]
    },
    {
     "name": "stderr",
     "output_type": "stream",
     "text": [
      "[I 2025-02-09 20:26:07,120] Trial 28 finished with value: 0.39043384414427534 and parameters: {'units1': 135, 'dropout1': 0.2790864937456456, 'units2': 136, 'dropout2': 0.29073903278214325}. Best is trial 17 with value: 0.336901098989346.\n"
     ]
    },
    {
     "name": "stdout",
     "output_type": "stream",
     "text": [
      "2/2 [==============================] - 0s 2ms/step\n"
     ]
    },
    {
     "name": "stderr",
     "output_type": "stream",
     "text": [
      "[I 2025-02-09 20:26:10,889] Trial 29 finished with value: 0.3712967349183243 and parameters: {'units1': 230, 'dropout1': 0.12564185365213848, 'units2': 245, 'dropout2': 0.22433315812193041}. Best is trial 17 with value: 0.336901098989346.\n"
     ]
    },
    {
     "name": "stdout",
     "output_type": "stream",
     "text": [
      "2/2 [==============================] - 0s 2ms/step\n"
     ]
    },
    {
     "name": "stderr",
     "output_type": "stream",
     "text": [
      "[I 2025-02-09 20:26:14,695] Trial 30 finished with value: 0.3815622740594649 and parameters: {'units1': 187, 'dropout1': 0.1875793411413164, 'units2': 225, 'dropout2': 0.24809438273601966}. Best is trial 17 with value: 0.336901098989346.\n"
     ]
    },
    {
     "name": "stdout",
     "output_type": "stream",
     "text": [
      "2/2 [==============================] - 0s 2ms/step\n"
     ]
    },
    {
     "name": "stderr",
     "output_type": "stream",
     "text": [
      "[I 2025-02-09 20:26:18,200] Trial 31 finished with value: 0.3659109264096838 and parameters: {'units1': 224, 'dropout1': 0.19887784232677036, 'units2': 208, 'dropout2': 0.2735079896699464}. Best is trial 17 with value: 0.336901098989346.\n"
     ]
    },
    {
     "name": "stdout",
     "output_type": "stream",
     "text": [
      "2/2 [==============================] - 0s 2ms/step\n"
     ]
    },
    {
     "name": "stderr",
     "output_type": "stream",
     "text": [
      "[I 2025-02-09 20:26:21,938] Trial 32 finished with value: 0.44053624455678286 and parameters: {'units1': 251, 'dropout1': 0.166597237221015, 'units2': 209, 'dropout2': 0.20340116452400872}. Best is trial 17 with value: 0.336901098989346.\n"
     ]
    },
    {
     "name": "stdout",
     "output_type": "stream",
     "text": [
      "2/2 [==============================] - 0s 2ms/step\n"
     ]
    },
    {
     "name": "stderr",
     "output_type": "stream",
     "text": [
      "[I 2025-02-09 20:26:25,587] Trial 33 finished with value: 0.3831118870713638 and parameters: {'units1': 222, 'dropout1': 0.20767816824720264, 'units2': 161, 'dropout2': 0.3380210191327615}. Best is trial 17 with value: 0.336901098989346.\n"
     ]
    },
    {
     "name": "stdout",
     "output_type": "stream",
     "text": [
      "2/2 [==============================] - 0s 2ms/step\n"
     ]
    },
    {
     "name": "stderr",
     "output_type": "stream",
     "text": [
      "[I 2025-02-09 20:26:29,326] Trial 34 finished with value: 0.3690036489557593 and parameters: {'units1': 243, 'dropout1': 0.2525727814866004, 'units2': 189, 'dropout2': 0.2452410018118812}. Best is trial 17 with value: 0.336901098989346.\n"
     ]
    },
    {
     "name": "stdout",
     "output_type": "stream",
     "text": [
      "2/2 [==============================] - 0s 2ms/step\n"
     ]
    },
    {
     "name": "stderr",
     "output_type": "stream",
     "text": [
      "[I 2025-02-09 20:26:33,087] Trial 35 finished with value: 0.41195209396379684 and parameters: {'units1': 205, 'dropout1': 0.12652194967080915, 'units2': 222, 'dropout2': 0.39785658361103843}. Best is trial 17 with value: 0.336901098989346.\n"
     ]
    },
    {
     "name": "stdout",
     "output_type": "stream",
     "text": [
      "2/2 [==============================] - 0s 2ms/step\n"
     ]
    },
    {
     "name": "stderr",
     "output_type": "stream",
     "text": [
      "[I 2025-02-09 20:26:36,758] Trial 36 finished with value: 0.3926289728913672 and parameters: {'units1': 220, 'dropout1': 0.27157134209204814, 'units2': 174, 'dropout2': 0.28657177510465226}. Best is trial 17 with value: 0.336901098989346.\n"
     ]
    },
    {
     "name": "stdout",
     "output_type": "stream",
     "text": [
      "2/2 [==============================] - 0s 2ms/step\n"
     ]
    },
    {
     "name": "stderr",
     "output_type": "stream",
     "text": [
      "[I 2025-02-09 20:26:39,810] Trial 37 finished with value: 0.4632840046986039 and parameters: {'units1': 54, 'dropout1': 0.3312282801276201, 'units2': 196, 'dropout2': 0.3192409548454107}. Best is trial 17 with value: 0.336901098989346.\n"
     ]
    },
    {
     "name": "stdout",
     "output_type": "stream",
     "text": [
      "2/2 [==============================] - 0s 2ms/step\n"
     ]
    },
    {
     "name": "stderr",
     "output_type": "stream",
     "text": [
      "[I 2025-02-09 20:26:43,084] Trial 38 finished with value: 0.4465377639758178 and parameters: {'units1': 132, 'dropout1': 0.48559354015627376, 'units2': 97, 'dropout2': 0.4894605253895023}. Best is trial 17 with value: 0.336901098989346.\n"
     ]
    },
    {
     "name": "stdout",
     "output_type": "stream",
     "text": [
      "2/2 [==============================] - 0s 2ms/step\n"
     ]
    },
    {
     "name": "stderr",
     "output_type": "stream",
     "text": [
      "[I 2025-02-09 20:26:46,367] Trial 39 finished with value: 0.48034829344485086 and parameters: {'units1': 95, 'dropout1': 0.4028340392348928, 'units2': 214, 'dropout2': 0.20881597659860063}. Best is trial 17 with value: 0.336901098989346.\n"
     ]
    },
    {
     "name": "stdout",
     "output_type": "stream",
     "text": [
      "2/2 [==============================] - 0s 2ms/step\n"
     ]
    },
    {
     "name": "stderr",
     "output_type": "stream",
     "text": [
      "[I 2025-02-09 20:26:50,132] Trial 40 finished with value: 0.49251386669816066 and parameters: {'units1': 237, 'dropout1': 0.30039994044140883, 'units2': 234, 'dropout2': 0.26400947081454706}. Best is trial 17 with value: 0.336901098989346.\n"
     ]
    },
    {
     "name": "stdout",
     "output_type": "stream",
     "text": [
      "2/2 [==============================] - 0s 2ms/step\n"
     ]
    },
    {
     "name": "stderr",
     "output_type": "stream",
     "text": [
      "[I 2025-02-09 20:26:53,294] Trial 41 finished with value: 0.4434042248888831 and parameters: {'units1': 74, 'dropout1': 0.18575188457967598, 'units2': 182, 'dropout2': 0.17477279433301185}. Best is trial 17 with value: 0.336901098989346.\n"
     ]
    },
    {
     "name": "stdout",
     "output_type": "stream",
     "text": [
      "2/2 [==============================] - 0s 2ms/step\n"
     ]
    },
    {
     "name": "stderr",
     "output_type": "stream",
     "text": [
      "[I 2025-02-09 20:26:57,345] Trial 42 finished with value: 0.3346352016701979 and parameters: {'units1': 85, 'dropout1': 0.17640426267585252, 'units2': 186, 'dropout2': 0.14961362793663807}. Best is trial 42 with value: 0.3346352016701979.\n"
     ]
    },
    {
     "name": "stdout",
     "output_type": "stream",
     "text": [
      "2/2 [==============================] - 0s 2ms/step\n"
     ]
    },
    {
     "name": "stderr",
     "output_type": "stream",
     "text": [
      "[I 2025-02-09 20:27:00,476] Trial 43 finished with value: 0.39232084696468367 and parameters: {'units1': 60, 'dropout1': 0.1656837583671206, 'units2': 200, 'dropout2': 0.11963344445764178}. Best is trial 42 with value: 0.3346352016701979.\n"
     ]
    },
    {
     "name": "stdout",
     "output_type": "stream",
     "text": [
      "2/2 [==============================] - 0s 2ms/step\n"
     ]
    },
    {
     "name": "stderr",
     "output_type": "stream",
     "text": [
      "[I 2025-02-09 20:27:03,968] Trial 44 finished with value: 0.44029434294936165 and parameters: {'units1': 166, 'dropout1': 0.13445621680232434, 'units2': 168, 'dropout2': 0.15127468521683904}. Best is trial 42 with value: 0.3346352016701979.\n"
     ]
    },
    {
     "name": "stdout",
     "output_type": "stream",
     "text": [
      "2/2 [==============================] - 0s 1ms/step\n"
     ]
    },
    {
     "name": "stderr",
     "output_type": "stream",
     "text": [
      "[I 2025-02-09 20:27:07,201] Trial 45 finished with value: 0.31031232881997056 and parameters: {'units1': 91, 'dropout1': 0.11372542231835346, 'units2': 152, 'dropout2': 0.18931355138781017}. Best is trial 45 with value: 0.31031232881997056.\n"
     ]
    },
    {
     "name": "stdout",
     "output_type": "stream",
     "text": [
      "2/2 [==============================] - 0s 1ms/step\n"
     ]
    },
    {
     "name": "stderr",
     "output_type": "stream",
     "text": [
      "[I 2025-02-09 20:27:10,323] Trial 46 finished with value: 0.4817710946687151 and parameters: {'units1': 92, 'dropout1': 0.10353140907715007, 'units2': 32, 'dropout2': 0.10180844241798412}. Best is trial 45 with value: 0.31031232881997056.\n"
     ]
    },
    {
     "name": "stdout",
     "output_type": "stream",
     "text": [
      "2/2 [==============================] - 0s 1ms/step\n"
     ]
    },
    {
     "name": "stderr",
     "output_type": "stream",
     "text": [
      "[I 2025-02-09 20:27:13,549] Trial 47 finished with value: 0.5110790284774507 and parameters: {'units1': 108, 'dropout1': 0.1232920061007971, 'units2': 136, 'dropout2': 0.1343688803738737}. Best is trial 45 with value: 0.31031232881997056.\n"
     ]
    },
    {
     "name": "stdout",
     "output_type": "stream",
     "text": [
      "2/2 [==============================] - 0s 2ms/step\n"
     ]
    },
    {
     "name": "stderr",
     "output_type": "stream",
     "text": [
      "[I 2025-02-09 20:27:17,087] Trial 48 finished with value: 0.42560352718658606 and parameters: {'units1': 118, 'dropout1': 0.14895267702408208, 'units2': 155, 'dropout2': 0.18224814129867276}. Best is trial 45 with value: 0.31031232881997056.\n"
     ]
    },
    {
     "name": "stdout",
     "output_type": "stream",
     "text": [
      "2/2 [==============================] - 0s 1ms/step\n"
     ]
    },
    {
     "name": "stderr",
     "output_type": "stream",
     "text": [
      "[I 2025-02-09 20:27:20,346] Trial 49 finished with value: 0.36864057279660756 and parameters: {'units1': 87, 'dropout1': 0.10174336408969517, 'units2': 142, 'dropout2': 0.16387240767634254}. Best is trial 45 with value: 0.31031232881997056.\n"
     ]
    },
    {
     "name": "stdout",
     "output_type": "stream",
     "text": [
      "2/2 [==============================] - 0s 1ms/step\n"
     ]
    },
    {
     "name": "stderr",
     "output_type": "stream",
     "text": [
      "[I 2025-02-09 20:27:23,409] Trial 50 finished with value: 0.3609666087023407 and parameters: {'units1': 33, 'dropout1': 0.2350574685124558, 'units2': 191, 'dropout2': 0.15721707380466793}. Best is trial 45 with value: 0.31031232881997056.\n"
     ]
    },
    {
     "name": "stdout",
     "output_type": "stream",
     "text": [
      "2/2 [==============================] - 0s 1ms/step\n"
     ]
    },
    {
     "name": "stderr",
     "output_type": "stream",
     "text": [
      "[I 2025-02-09 20:27:26,630] Trial 51 finished with value: 0.5237998564398001 and parameters: {'units1': 77, 'dropout1': 0.20666375218594268, 'units2': 185, 'dropout2': 0.23243727918068163}. Best is trial 45 with value: 0.31031232881997056.\n"
     ]
    },
    {
     "name": "stdout",
     "output_type": "stream",
     "text": [
      "2/2 [==============================] - 0s 2ms/step\n"
     ]
    },
    {
     "name": "stderr",
     "output_type": "stream",
     "text": [
      "[I 2025-02-09 20:27:29,896] Trial 52 finished with value: 0.5037740475688347 and parameters: {'units1': 102, 'dropout1': 0.1918069964780211, 'units2': 169, 'dropout2': 0.19810051268411386}. Best is trial 45 with value: 0.31031232881997056.\n"
     ]
    },
    {
     "name": "stdout",
     "output_type": "stream",
     "text": [
      "2/2 [==============================] - 0s 2ms/step\n"
     ]
    },
    {
     "name": "stderr",
     "output_type": "stream",
     "text": [
      "[I 2025-02-09 20:27:33,352] Trial 53 finished with value: 0.29862885766662084 and parameters: {'units1': 145, 'dropout1': 0.14430328969276726, 'units2': 203, 'dropout2': 0.21759349604495806}. Best is trial 53 with value: 0.29862885766662084.\n"
     ]
    },
    {
     "name": "stdout",
     "output_type": "stream",
     "text": [
      "2/2 [==============================] - 0s 2ms/step\n"
     ]
    },
    {
     "name": "stderr",
     "output_type": "stream",
     "text": [
      "[I 2025-02-09 20:27:36,955] Trial 54 finished with value: 0.45987978263109275 and parameters: {'units1': 143, 'dropout1': 0.11792264394098816, 'units2': 202, 'dropout2': 0.21322464876746725}. Best is trial 53 with value: 0.29862885766662084.\n"
     ]
    },
    {
     "name": "stdout",
     "output_type": "stream",
     "text": [
      "2/2 [==============================] - 0s 2ms/step\n"
     ]
    },
    {
     "name": "stderr",
     "output_type": "stream",
     "text": [
      "[I 2025-02-09 20:27:40,335] Trial 55 finished with value: 0.34311990548735827 and parameters: {'units1': 125, 'dropout1': 0.14183034760058502, 'units2': 215, 'dropout2': 0.1818584638252938}. Best is trial 53 with value: 0.29862885766662084.\n"
     ]
    },
    {
     "name": "stdout",
     "output_type": "stream",
     "text": [
      "2/2 [==============================] - 0s 2ms/step\n"
     ]
    },
    {
     "name": "stderr",
     "output_type": "stream",
     "text": [
      "[I 2025-02-09 20:27:43,793] Trial 56 finished with value: 0.5331883222236411 and parameters: {'units1': 183, 'dropout1': 0.16369509658604142, 'units2': 125, 'dropout2': 0.11774845132575143}. Best is trial 53 with value: 0.29862885766662084.\n"
     ]
    },
    {
     "name": "stdout",
     "output_type": "stream",
     "text": [
      "2/2 [==============================] - 0s 1ms/step\n"
     ]
    },
    {
     "name": "stderr",
     "output_type": "stream",
     "text": [
      "[I 2025-02-09 20:27:46,814] Trial 57 finished with value: 0.6107251864641041 and parameters: {'units1': 50, 'dropout1': 0.11512031092085079, 'units2': 149, 'dropout2': 0.23722965140177338}. Best is trial 53 with value: 0.29862885766662084.\n"
     ]
    },
    {
     "name": "stdout",
     "output_type": "stream",
     "text": [
      "2/2 [==============================] - 0s 2ms/step\n"
     ]
    },
    {
     "name": "stderr",
     "output_type": "stream",
     "text": [
      "[I 2025-02-09 20:27:50,354] Trial 58 finished with value: 0.33440156550137906 and parameters: {'units1': 196, 'dropout1': 0.17668420717211225, 'units2': 162, 'dropout2': 0.21588092011593943}. Best is trial 53 with value: 0.29862885766662084.\n"
     ]
    },
    {
     "name": "stdout",
     "output_type": "stream",
     "text": [
      "2/2 [==============================] - 0s 2ms/step\n"
     ]
    },
    {
     "name": "stderr",
     "output_type": "stream",
     "text": [
      "[I 2025-02-09 20:27:53,921] Trial 59 finished with value: 0.3867603654535721 and parameters: {'units1': 198, 'dropout1': 0.1748682029143339, 'units2': 157, 'dropout2': 0.21530630282586616}. Best is trial 53 with value: 0.29862885766662084.\n"
     ]
    },
    {
     "name": "stdout",
     "output_type": "stream",
     "text": [
      "2/2 [==============================] - 0s 2ms/step\n"
     ]
    },
    {
     "name": "stderr",
     "output_type": "stream",
     "text": [
      "[I 2025-02-09 20:27:57,393] Trial 60 finished with value: 0.36521145093587914 and parameters: {'units1': 164, 'dropout1': 0.1393825490005516, 'units2': 175, 'dropout2': 0.13361160568179742}. Best is trial 53 with value: 0.29862885766662084.\n"
     ]
    },
    {
     "name": "stdout",
     "output_type": "stream",
     "text": [
      "2/2 [==============================] - 0s 2ms/step\n"
     ]
    },
    {
     "name": "stderr",
     "output_type": "stream",
     "text": [
      "[I 2025-02-09 20:28:01,677] Trial 61 finished with value: 0.36508293094317834 and parameters: {'units1': 179, 'dropout1': 0.21795881269085882, 'units2': 187, 'dropout2': 0.19255121591186816}. Best is trial 53 with value: 0.29862885766662084.\n"
     ]
    },
    {
     "name": "stdout",
     "output_type": "stream",
     "text": [
      "2/2 [==============================] - 0s 2ms/step\n"
     ]
    },
    {
     "name": "stderr",
     "output_type": "stream",
     "text": [
      "[I 2025-02-09 20:28:05,171] Trial 62 finished with value: 0.345415563537637 and parameters: {'units1': 150, 'dropout1': 0.15801380224346692, 'units2': 164, 'dropout2': 0.17294218134186698}. Best is trial 53 with value: 0.29862885766662084.\n"
     ]
    },
    {
     "name": "stdout",
     "output_type": "stream",
     "text": [
      "2/2 [==============================] - 0s 2ms/step\n"
     ]
    },
    {
     "name": "stderr",
     "output_type": "stream",
     "text": [
      "[I 2025-02-09 20:28:08,841] Trial 63 finished with value: 0.39588732960029804 and parameters: {'units1': 192, 'dropout1': 0.17850970312584666, 'units2': 203, 'dropout2': 0.22291138458867077}. Best is trial 53 with value: 0.29862885766662084.\n"
     ]
    },
    {
     "name": "stdout",
     "output_type": "stream",
     "text": [
      "2/2 [==============================] - 0s 2ms/step\n"
     ]
    },
    {
     "name": "stderr",
     "output_type": "stream",
     "text": [
      "[I 2025-02-09 20:28:12,098] Trial 64 finished with value: 0.3797079542956903 and parameters: {'units1': 71, 'dropout1': 0.15274503805416975, 'units2': 181, 'dropout2': 0.25946377235711937}. Best is trial 53 with value: 0.29862885766662084.\n"
     ]
    },
    {
     "name": "stdout",
     "output_type": "stream",
     "text": [
      "2/2 [==============================] - 0s 1ms/step\n"
     ]
    },
    {
     "name": "stderr",
     "output_type": "stream",
     "text": [
      "[I 2025-02-09 20:28:15,487] Trial 65 finished with value: 0.354593167527994 and parameters: {'units1': 86, 'dropout1': 0.11364911121968678, 'units2': 174, 'dropout2': 0.15272674581992882}. Best is trial 53 with value: 0.29862885766662084.\n"
     ]
    },
    {
     "name": "stdout",
     "output_type": "stream",
     "text": [
      "2/2 [==============================] - 0s 2ms/step\n"
     ]
    },
    {
     "name": "stderr",
     "output_type": "stream",
     "text": [
      "[I 2025-02-09 20:28:19,008] Trial 66 finished with value: 0.34878457921872985 and parameters: {'units1': 172, 'dropout1': 0.13479367084310523, 'units2': 192, 'dropout2': 0.19867891544403088}. Best is trial 53 with value: 0.29862885766662084.\n"
     ]
    },
    {
     "name": "stdout",
     "output_type": "stream",
     "text": [
      "2/2 [==============================] - 0s 2ms/step\n"
     ]
    },
    {
     "name": "stderr",
     "output_type": "stream",
     "text": [
      "[I 2025-02-09 20:28:22,495] Trial 67 finished with value: 0.3963697221331952 and parameters: {'units1': 213, 'dropout1': 0.23774289571889337, 'units2': 54, 'dropout2': 0.23206216142530814}. Best is trial 53 with value: 0.29862885766662084.\n"
     ]
    },
    {
     "name": "stdout",
     "output_type": "stream",
     "text": [
      "2/2 [==============================] - 0s 2ms/step\n"
     ]
    },
    {
     "name": "stderr",
     "output_type": "stream",
     "text": [
      "[I 2025-02-09 20:28:26,078] Trial 68 finished with value: 0.41911151970143445 and parameters: {'units1': 198, 'dropout1': 0.21108694817370866, 'units2': 144, 'dropout2': 0.18776588525816876}. Best is trial 53 with value: 0.29862885766662084.\n"
     ]
    },
    {
     "name": "stdout",
     "output_type": "stream",
     "text": [
      "2/2 [==============================] - 0s 2ms/step\n"
     ]
    },
    {
     "name": "stderr",
     "output_type": "stream",
     "text": [
      "[I 2025-02-09 20:28:29,469] Trial 69 finished with value: 0.4161276287427906 and parameters: {'units1': 137, 'dropout1': 0.1773189582860815, 'units2': 130, 'dropout2': 0.16587305998998925}. Best is trial 53 with value: 0.29862885766662084.\n"
     ]
    },
    {
     "name": "stdout",
     "output_type": "stream",
     "text": [
      "2/2 [==============================] - 0s 6ms/step\n"
     ]
    },
    {
     "name": "stderr",
     "output_type": "stream",
     "text": [
      "[I 2025-02-09 20:28:35,253] Trial 70 finished with value: 0.3678126989405205 and parameters: {'units1': 158, 'dropout1': 0.2602208902783504, 'units2': 220, 'dropout2': 0.2492448467750558}. Best is trial 53 with value: 0.29862885766662084.\n"
     ]
    },
    {
     "name": "stdout",
     "output_type": "stream",
     "text": [
      "2/2 [==============================] - 0s 3ms/step\n"
     ]
    },
    {
     "name": "stderr",
     "output_type": "stream",
     "text": [
      "[I 2025-02-09 20:28:39,501] Trial 71 finished with value: 0.3898761576161873 and parameters: {'units1': 126, 'dropout1': 0.14125304334042116, 'units2': 239, 'dropout2': 0.1773817657591736}. Best is trial 53 with value: 0.29862885766662084.\n"
     ]
    },
    {
     "name": "stdout",
     "output_type": "stream",
     "text": [
      "2/2 [==============================] - 0s 4ms/step\n"
     ]
    },
    {
     "name": "stderr",
     "output_type": "stream",
     "text": [
      "[I 2025-02-09 20:28:43,897] Trial 72 finished with value: 0.3869656156906453 and parameters: {'units1': 112, 'dropout1': 0.19399131969473757, 'units2': 217, 'dropout2': 0.20714480031257568}. Best is trial 53 with value: 0.29862885766662084.\n"
     ]
    },
    {
     "name": "stdout",
     "output_type": "stream",
     "text": [
      "2/2 [==============================] - 0s 2ms/step\n"
     ]
    },
    {
     "name": "stderr",
     "output_type": "stream",
     "text": [
      "[I 2025-02-09 20:28:47,713] Trial 73 finished with value: 0.49667783358328865 and parameters: {'units1': 122, 'dropout1': 0.16781094776764865, 'units2': 229, 'dropout2': 0.1440500891856645}. Best is trial 53 with value: 0.29862885766662084.\n"
     ]
    },
    {
     "name": "stdout",
     "output_type": "stream",
     "text": [
      "2/2 [==============================] - 0s 2ms/step\n"
     ]
    },
    {
     "name": "stderr",
     "output_type": "stream",
     "text": [
      "[I 2025-02-09 20:28:51,101] Trial 74 finished with value: 0.4713701305124636 and parameters: {'units1': 104, 'dropout1': 0.1485943645763869, 'units2': 213, 'dropout2': 0.18448415378875405}. Best is trial 53 with value: 0.29862885766662084.\n"
     ]
    },
    {
     "name": "stdout",
     "output_type": "stream",
     "text": [
      "2/2 [==============================] - 0s 3ms/step\n"
     ]
    },
    {
     "name": "stderr",
     "output_type": "stream",
     "text": [
      "[I 2025-02-09 20:28:55,122] Trial 75 finished with value: 0.46254072398473284 and parameters: {'units1': 151, 'dropout1': 0.14298826736321282, 'units2': 205, 'dropout2': 0.221021636324099}. Best is trial 53 with value: 0.29862885766662084.\n"
     ]
    },
    {
     "name": "stdout",
     "output_type": "stream",
     "text": [
      "2/2 [==============================] - 0s 3ms/step\n"
     ]
    },
    {
     "name": "stderr",
     "output_type": "stream",
     "text": [
      "[I 2025-02-09 20:29:00,531] Trial 76 finished with value: 0.577004397055761 and parameters: {'units1': 83, 'dropout1': 0.11070534702789471, 'units2': 254, 'dropout2': 0.16140677887347557}. Best is trial 53 with value: 0.29862885766662084.\n"
     ]
    },
    {
     "name": "stdout",
     "output_type": "stream",
     "text": [
      "2/2 [==============================] - 0s 2ms/step\n"
     ]
    },
    {
     "name": "stderr",
     "output_type": "stream",
     "text": [
      "[I 2025-02-09 20:29:04,443] Trial 77 finished with value: 0.4187033852317097 and parameters: {'units1': 197, 'dropout1': 0.1310386926254689, 'units2': 169, 'dropout2': 0.23758943918692}. Best is trial 53 with value: 0.29862885766662084.\n"
     ]
    },
    {
     "name": "stdout",
     "output_type": "stream",
     "text": [
      "2/2 [==============================] - 0s 2ms/step\n"
     ]
    },
    {
     "name": "stderr",
     "output_type": "stream",
     "text": [
      "[I 2025-02-09 20:29:07,670] Trial 78 finished with value: 0.34547767673040963 and parameters: {'units1': 92, 'dropout1': 0.2277622901287118, 'units2': 159, 'dropout2': 0.19423742514391812}. Best is trial 53 with value: 0.29862885766662084.\n"
     ]
    },
    {
     "name": "stdout",
     "output_type": "stream",
     "text": [
      "2/2 [==============================] - 0s 2ms/step\n"
     ]
    },
    {
     "name": "stderr",
     "output_type": "stream",
     "text": [
      "[I 2025-02-09 20:29:11,585] Trial 79 finished with value: 0.36815526034715007 and parameters: {'units1': 67, 'dropout1': 0.16237511328179646, 'units2': 195, 'dropout2': 0.37537776193308975}. Best is trial 53 with value: 0.29862885766662084.\n"
     ]
    },
    {
     "name": "stdout",
     "output_type": "stream",
     "text": [
      "2/2 [==============================] - 0s 2ms/step\n"
     ]
    },
    {
     "name": "stderr",
     "output_type": "stream",
     "text": [
      "[I 2025-02-09 20:29:15,396] Trial 80 finished with value: 0.36255864487176076 and parameters: {'units1': 213, 'dropout1': 0.28423325443063574, 'units2': 180, 'dropout2': 0.208430680173024}. Best is trial 53 with value: 0.29862885766662084.\n"
     ]
    },
    {
     "name": "stdout",
     "output_type": "stream",
     "text": [
      "2/2 [==============================] - 0s 2ms/step\n"
     ]
    },
    {
     "name": "stderr",
     "output_type": "stream",
     "text": [
      "[I 2025-02-09 20:29:19,273] Trial 81 finished with value: 0.37908164648113374 and parameters: {'units1': 167, 'dropout1': 0.15778546905069477, 'units2': 160, 'dropout2': 0.17445154684523775}. Best is trial 53 with value: 0.29862885766662084.\n"
     ]
    },
    {
     "name": "stdout",
     "output_type": "stream",
     "text": [
      "2/2 [==============================] - 0s 2ms/step\n"
     ]
    },
    {
     "name": "stderr",
     "output_type": "stream",
     "text": [
      "[I 2025-02-09 20:29:22,950] Trial 82 finished with value: 0.3846265461453305 and parameters: {'units1': 153, 'dropout1': 0.12382722353151406, 'units2': 164, 'dropout2': 0.17141560764807645}. Best is trial 53 with value: 0.29862885766662084.\n"
     ]
    },
    {
     "name": "stdout",
     "output_type": "stream",
     "text": [
      "2/2 [==============================] - 0s 2ms/step\n"
     ]
    },
    {
     "name": "stderr",
     "output_type": "stream",
     "text": [
      "[I 2025-02-09 20:29:26,750] Trial 83 finished with value: 0.38073440807428466 and parameters: {'units1': 176, 'dropout1': 0.20301314435094753, 'units2': 185, 'dropout2': 0.12733041770895387}. Best is trial 53 with value: 0.29862885766662084.\n"
     ]
    },
    {
     "name": "stdout",
     "output_type": "stream",
     "text": [
      "2/2 [==============================] - 0s 2ms/step\n"
     ]
    },
    {
     "name": "stderr",
     "output_type": "stream",
     "text": [
      "[I 2025-02-09 20:29:30,275] Trial 84 finished with value: 0.4017771650303526 and parameters: {'units1': 148, 'dropout1': 0.18616865611060113, 'units2': 147, 'dropout2': 0.1837085389156451}. Best is trial 53 with value: 0.29862885766662084.\n"
     ]
    },
    {
     "name": "stdout",
     "output_type": "stream",
     "text": [
      "2/2 [==============================] - 0s 2ms/step\n"
     ]
    },
    {
     "name": "stderr",
     "output_type": "stream",
     "text": [
      "[I 2025-02-09 20:29:34,442] Trial 85 finished with value: 0.36018070622528636 and parameters: {'units1': 137, 'dropout1': 0.1551404033770374, 'units2': 153, 'dropout2': 0.14553851372639265}. Best is trial 53 with value: 0.29862885766662084.\n"
     ]
    },
    {
     "name": "stdout",
     "output_type": "stream",
     "text": [
      "2/2 [==============================] - 0s 3ms/step\n"
     ]
    },
    {
     "name": "stderr",
     "output_type": "stream",
     "text": [
      "[I 2025-02-09 20:29:38,528] Trial 86 finished with value: 0.39351036916658105 and parameters: {'units1': 101, 'dropout1': 0.17080811993407125, 'units2': 199, 'dropout2': 0.20022758510611804}. Best is trial 53 with value: 0.29862885766662084.\n"
     ]
    },
    {
     "name": "stdout",
     "output_type": "stream",
     "text": [
      "2/2 [==============================] - 0s 4ms/step\n"
     ]
    },
    {
     "name": "stderr",
     "output_type": "stream",
     "text": [
      "[I 2025-02-09 20:29:44,021] Trial 87 finished with value: 0.3930273365339237 and parameters: {'units1': 162, 'dropout1': 0.313082264253735, 'units2': 172, 'dropout2': 0.21559799753726763}. Best is trial 53 with value: 0.29862885766662084.\n"
     ]
    },
    {
     "name": "stdout",
     "output_type": "stream",
     "text": [
      "2/2 [==============================] - 0s 2ms/step\n"
     ]
    },
    {
     "name": "stderr",
     "output_type": "stream",
     "text": [
      "[I 2025-02-09 20:29:47,512] Trial 88 finished with value: 0.36859045377556193 and parameters: {'units1': 144, 'dropout1': 0.14195678860244765, 'units2': 165, 'dropout2': 0.16098614769494282}. Best is trial 53 with value: 0.29862885766662084.\n"
     ]
    },
    {
     "name": "stdout",
     "output_type": "stream",
     "text": [
      "2/2 [==============================] - 0s 2ms/step\n"
     ]
    },
    {
     "name": "stderr",
     "output_type": "stream",
     "text": [
      "[I 2025-02-09 20:29:51,166] Trial 89 finished with value: 0.47376178246612294 and parameters: {'units1': 129, 'dropout1': 0.37629179053019246, 'units2': 191, 'dropout2': 0.27259104381034754}. Best is trial 53 with value: 0.29862885766662084.\n"
     ]
    },
    {
     "name": "stdout",
     "output_type": "stream",
     "text": [
      "2/2 [==============================] - 0s 2ms/step\n"
     ]
    },
    {
     "name": "stderr",
     "output_type": "stream",
     "text": [
      "[I 2025-02-09 20:29:55,057] Trial 90 finished with value: 0.4040140534765463 and parameters: {'units1': 185, 'dropout1': 0.12211490932807365, 'units2': 208, 'dropout2': 0.13651396312467046}. Best is trial 53 with value: 0.29862885766662084.\n"
     ]
    },
    {
     "name": "stdout",
     "output_type": "stream",
     "text": [
      "2/2 [==============================] - 0s 4ms/step\n"
     ]
    },
    {
     "name": "stderr",
     "output_type": "stream",
     "text": [
      "[I 2025-02-09 20:29:59,092] Trial 91 finished with value: 0.4170275027134943 and parameters: {'units1': 94, 'dropout1': 0.22032495024980608, 'units2': 162, 'dropout2': 0.1941789161964288}. Best is trial 53 with value: 0.29862885766662084.\n"
     ]
    },
    {
     "name": "stdout",
     "output_type": "stream",
     "text": [
      "2/2 [==============================] - 0s 2ms/step\n"
     ]
    },
    {
     "name": "stderr",
     "output_type": "stream",
     "text": [
      "[I 2025-02-09 20:30:02,682] Trial 92 finished with value: 0.4334324862419559 and parameters: {'units1': 114, 'dropout1': 0.2290728987611187, 'units2': 137, 'dropout2': 0.2255121644101798}. Best is trial 53 with value: 0.29862885766662084.\n"
     ]
    },
    {
     "name": "stdout",
     "output_type": "stream",
     "text": [
      "2/2 [==============================] - 0s 3ms/step\n"
     ]
    },
    {
     "name": "stderr",
     "output_type": "stream",
     "text": [
      "[I 2025-02-09 20:30:06,149] Trial 93 finished with value: 0.5559080071899337 and parameters: {'units1': 79, 'dropout1': 0.248683969750726, 'units2': 178, 'dropout2': 0.17651152149309324}. Best is trial 53 with value: 0.29862885766662084.\n"
     ]
    },
    {
     "name": "stdout",
     "output_type": "stream",
     "text": [
      "2/2 [==============================] - 0s 1ms/step\n"
     ]
    },
    {
     "name": "stderr",
     "output_type": "stream",
     "text": [
      "[I 2025-02-09 20:30:09,700] Trial 94 finished with value: 0.36912576852980644 and parameters: {'units1': 90, 'dropout1': 0.18235543308425325, 'units2': 150, 'dropout2': 0.1901983077379764}. Best is trial 53 with value: 0.29862885766662084.\n"
     ]
    },
    {
     "name": "stdout",
     "output_type": "stream",
     "text": [
      "2/2 [==============================] - 0s 2ms/step\n"
     ]
    },
    {
     "name": "stderr",
     "output_type": "stream",
     "text": [
      "[I 2025-02-09 20:30:13,067] Trial 95 finished with value: 0.348697745936373 and parameters: {'units1': 101, 'dropout1': 0.19845318346554214, 'units2': 109, 'dropout2': 0.15290959415423785}. Best is trial 53 with value: 0.29862885766662084.\n"
     ]
    },
    {
     "name": "stdout",
     "output_type": "stream",
     "text": [
      "2/2 [==============================] - 0s 3ms/step\n"
     ]
    },
    {
     "name": "stderr",
     "output_type": "stream",
     "text": [
      "[I 2025-02-09 20:30:16,932] Trial 96 finished with value: 0.5157916794375543 and parameters: {'units1': 180, 'dropout1': 0.2118558846392602, 'units2': 186, 'dropout2': 0.16753568222293158}. Best is trial 53 with value: 0.29862885766662084.\n"
     ]
    },
    {
     "name": "stdout",
     "output_type": "stream",
     "text": [
      "2/2 [==============================] - 0s 15ms/step\n"
     ]
    },
    {
     "name": "stderr",
     "output_type": "stream",
     "text": [
      "[I 2025-02-09 20:30:21,434] Trial 97 finished with value: 0.3794258672351396 and parameters: {'units1': 98, 'dropout1': 0.1004792163588765, 'units2': 158, 'dropout2': 0.24274322660260703}. Best is trial 53 with value: 0.29862885766662084.\n"
     ]
    },
    {
     "name": "stdout",
     "output_type": "stream",
     "text": [
      "2/2 [==============================] - 0s 3ms/step\n"
     ]
    },
    {
     "name": "stderr",
     "output_type": "stream",
     "text": [
      "[I 2025-02-09 20:30:25,534] Trial 98 finished with value: 0.35909473387632646 and parameters: {'units1': 190, 'dropout1': 0.2658953948604683, 'units2': 197, 'dropout2': 0.20319263756829123}. Best is trial 53 with value: 0.29862885766662084.\n"
     ]
    },
    {
     "name": "stdout",
     "output_type": "stream",
     "text": [
      "2/2 [==============================] - 0s 2ms/step\n"
     ]
    },
    {
     "name": "stderr",
     "output_type": "stream",
     "text": [
      "[I 2025-02-09 20:30:29,191] Trial 99 finished with value: 0.7436972793791153 and parameters: {'units1': 108, 'dropout1': 0.15946212767833226, 'units2': 171, 'dropout2': 0.18374318083557115}. Best is trial 53 with value: 0.29862885766662084.\n"
     ]
    },
    {
     "name": "stdout",
     "output_type": "stream",
     "text": [
      "\n",
      "\n",
      "Formate (g/L):\n",
      "\n",
      "MSE:  0.29862885766662084\n"
     ]
    }
   ],
   "source": [
    "import optuna\n",
    "\n",
    "best_params = []\n",
    "\n",
    "for column in target3.columns:\n",
    "    X_train, X_test, y_train, y_test = train_test_split(data3, target3[column], test_size=0.2, random_state=0)\n",
    "    X_train, X_val, y_train, y_val = train_test_split(X_train, y_train, test_size=0.2, random_state=0)\n",
    "\n",
    "    def objective(trial):\n",
    "        model = Sequential()\n",
    "        model.add(Dense(trial.suggest_int('units1', 32, 256), input_shape=(X_train.shape[1],)))\n",
    "        model.add(BatchNormalization())\n",
    "        model.add(Activation('relu'))\n",
    "        model.add(Dropout(trial.suggest_float('dropout1', 0.1, 0.5)))\n",
    "        model.add(Dense(trial.suggest_int('units2', 32, 256)))\n",
    "        model.add(BatchNormalization())\n",
    "        model.add(Activation('relu'))\n",
    "        model.add(Dropout(trial.suggest_float('dropout2', 0.1, 0.5)))\n",
    "        model.add(Dense(1))\n",
    "\n",
    "        model.compile(optimizer='adam', loss='mean_squared_error')\n",
    "\n",
    "        history = model.fit(X_train, y_train, validation_data=(X_test, y_test), epochs=100, batch_size=32, verbose=0)\n",
    "\n",
    "        return mean_squared_error(y_test, model.predict(X_test))\n",
    "\n",
    "    study = optuna.create_study(direction='minimize')\n",
    "    study.optimize(objective, n_trials=100)\n",
    "\n",
    "    trial = study.best_trial\n",
    "    print(f'\\n\\n{column}:\\n')\n",
    "    print('MSE: ', trial.value)\n",
    "\n",
    "    best_params.append(trial.params)"
   ]
  },
  {
   "cell_type": "markdown",
   "metadata": {},
   "source": [
    "# loop through each column but this time use the best hyperparameters found by optuna and find the r2 score and rmse score"
   ]
  },
  {
   "cell_type": "code",
   "execution_count": 15,
   "metadata": {},
   "outputs": [
    {
     "name": "stdout",
     "output_type": "stream",
     "text": [
      "2/2 [==============================] - 0s 3ms/step\n",
      "2/2 [==============================] - 0s 2ms/step - loss: 220.9439\n",
      "\n",
      "\n",
      "Glucose (g/L):\n",
      "\n",
      "R2 Score:  220.94390869140625\n",
      "RMSE Score:  14.864182113133763\n",
      "2/2 [==============================] - 0s 3ms/step\n",
      "2/2 [==============================] - 0s 2ms/step - loss: 99.8784\n",
      "\n",
      "\n",
      "Lactate (g/L):\n",
      "\n",
      "R2 Score:  99.87838745117188\n",
      "RMSE Score:  9.993917369126887\n",
      "2/2 [==============================] - 0s 2ms/step\n",
      "2/2 [==============================] - 0s 2ms/step - loss: 0.5069\n",
      "\n",
      "\n",
      "Ethanol (g/L):\n",
      "\n",
      "R2 Score:  0.5069400668144226\n",
      "RMSE Score:  0.711997235207874\n",
      "2/2 [==============================] - 0s 3ms/step\n",
      "2/2 [==============================] - 0s 2ms/step - loss: 0.2747\n",
      "\n",
      "\n",
      "Acetate (g/L):\n",
      "\n",
      "R2 Score:  0.2746771574020386\n",
      "RMSE Score:  0.5240965107828734\n",
      "2/2 [==============================] - 0s 2ms/step\n",
      "2/2 [==============================] - 0s 2ms/step - loss: 0.5177\n",
      "\n",
      "\n",
      "Biomass (g/L):\n",
      "\n",
      "R2 Score:  0.5176977515220642\n",
      "RMSE Score:  0.7195121520944123\n",
      "2/2 [==============================] - 0s 2ms/step\n",
      "2/2 [==============================] - 0s 2ms/step - loss: 0.3894\n",
      "\n",
      "\n",
      "Formate (g/L):\n",
      "\n",
      "R2 Score:  0.3893965780735016\n",
      "RMSE Score:  0.6240164945183301\n"
     ]
    }
   ],
   "source": [
    "for i, column in enumerate(target3.columns):\n",
    "    X_train, X_test, y_train, y_test = train_test_split(data3, target3[column], test_size=0.2, random_state=0)\n",
    "    X_train, X_val, y_train, y_val = train_test_split(X_train, y_train, test_size=0.2, random_state=0)\n",
    "\n",
    "    model = Sequential()\n",
    "    model.add(Dense(best_params[i]['units1'], input_shape=(X_train.shape[1],)))\n",
    "    model.add(BatchNormalization())\n",
    "    model.add(Activation('relu'))\n",
    "    model.add(Dropout(best_params[i]['dropout1']))\n",
    "    model.add(Dense(best_params[i]['units2']))\n",
    "    model.add(BatchNormalization())\n",
    "    model.add(Activation('relu'))\n",
    "    model.add(Dropout(best_params[i]['dropout2']))\n",
    "    model.add(Dense(1))\n",
    "\n",
    "    model.compile(optimizer='adam', loss='mean_squared_error')\n",
    "\n",
    "    history = model.fit(X_train, y_train, validation_data=(X_test, y_test), epochs=100, batch_size=32, verbose=0)\n",
    "\n",
    "    y_pred = model.predict(X_test)\n",
    "    r2_score = model.evaluate(X_test, y_test)\n",
    "    rmse_score = np.sqrt(mean_squared_error(y_test, y_pred))\n",
    "\n",
    "    print(f'\\n\\n{column}:\\n')\n",
    "    print('R2 Score: ', r2_score)\n",
    "    print('RMSE Score: ', rmse_score)"
   ]
  },
  {
   "cell_type": "markdown",
   "metadata": {},
   "source": [
    "Glucose (g/L):\n",
    "\n",
    ">Test loss:  220.94390869140625 (not R2 score)\n",
    ">\n",
    ">RMSE Score:  14.864182113133763\n",
    "\n",
    "\n",
    "Lactate (g/L):\n",
    "\n",
    ">Test loss:  99.87838745117188\n",
    ">\n",
    ">RMSE Score:  9.993917369126887\n",
    "\n",
    "\n",
    "Ethanol (g/L):\n",
    "\n",
    ">Test loss:  0.5069400668144226\n",
    ">\n",
    ">RMSE Score:  0.711997235207874\n",
    "\n",
    "\n",
    "Acetate (g/L):\n",
    "\n",
    ">Test loss:  0.2746771574020386\n",
    ">\n",
    ">RMSE Score:  0.5240965107828734\n",
    "\n",
    "\n",
    "Biomass (g/L):\n",
    "\n",
    ">Test loss:  0.5176977515220642\n",
    ">\n",
    ">RMSE Score:  0.7195121520944123\n",
    "\n",
    "\n",
    "Formate (g/L):\n",
    "\n",
    ">Test loss:  0.3893965780735016\n",
    ">\n",
    ">RMSE Score:  0.6240164945183301"
   ]
  },
  {
   "cell_type": "markdown",
   "metadata": {},
   "source": [
    "# also find the best regression model for each column in target3 using best_model2 function with k=5 (10 gives better results but takes longer time)"
   ]
  },
  {
   "cell_type": "code",
   "execution_count": 16,
   "metadata": {},
   "outputs": [
    {
     "name": "stdout",
     "output_type": "stream",
     "text": [
      "\n",
      "\n",
      "Glucose (g/L):\n",
      "\n",
      "                       Model  R2 Score       RMSE\n",
      "0           LinearRegression  0.989870   1.576538\n",
      "1  GradientBoostingRegressor  0.807923   6.606053\n",
      "2      RandomForestRegressor  0.786442   7.060864\n",
      "3      DecisionTreeRegressor  0.675527   8.568945\n",
      "4        KNeighborsRegressor  0.650175   9.128605\n",
      "5                      Ridge  0.646127   9.208028\n",
      "6              PLSRegression  0.203671  13.927018\n",
      "7                        SVR  0.087424  14.970300\n",
      "8                 ElasticNet  0.030135  15.432048\n",
      "9                      Lasso  0.008403  15.600416\n",
      "\n",
      "\n",
      "Lactate (g/L):\n",
      "\n",
      "                       Model  R2 Score       RMSE\n",
      "0        KNeighborsRegressor  0.845121   6.642506\n",
      "1  GradientBoostingRegressor  0.837059   6.975106\n",
      "2      RandomForestRegressor  0.754432   8.266264\n",
      "3                      Ridge  0.657631   9.889097\n",
      "4      DecisionTreeRegressor  0.641189   9.473679\n",
      "5              PLSRegression  0.341889  13.822119\n",
      "6                 ElasticNet  0.168887  15.495018\n",
      "7                      Lasso  0.141296  15.747846\n",
      "8                        SVR  0.037384  16.735395\n",
      "9           LinearRegression -0.587507  12.411790\n",
      "\n",
      "\n",
      "Ethanol (g/L):\n",
      "\n",
      "                       Model  R2 Score      RMSE\n",
      "0           LinearRegression  0.910407  0.215002\n",
      "1  GradientBoostingRegressor  0.533029  0.520427\n",
      "2      RandomForestRegressor  0.467411  0.535953\n",
      "3        KNeighborsRegressor  0.327890  0.603690\n",
      "4                      Ridge  0.325507  0.611733\n",
      "5                        SVR  0.119033  0.700774\n",
      "6              PLSRegression  0.112463  0.697178\n",
      "7                      Lasso -0.017500  0.748614\n",
      "8                 ElasticNet -0.017500  0.748614\n",
      "9      DecisionTreeRegressor -0.352318  0.815760\n",
      "\n",
      "\n",
      "Acetate (g/L):\n",
      "\n",
      "                       Model  R2 Score      RMSE\n",
      "0           LinearRegression  0.682460  0.310424\n",
      "1  GradientBoostingRegressor  0.536231  0.390962\n",
      "2      RandomForestRegressor  0.501650  0.399880\n",
      "3                      Ridge  0.353852  0.451052\n",
      "4        KNeighborsRegressor  0.297449  0.462448\n",
      "5      DecisionTreeRegressor  0.200687  0.509511\n",
      "6                        SVR  0.188030  0.513491\n",
      "7              PLSRegression  0.135787  0.526222\n",
      "8                      Lasso -0.015361  0.572668\n",
      "9                 ElasticNet -0.015361  0.572668\n",
      "\n",
      "\n",
      "Biomass (g/L):\n",
      "\n",
      "                       Model  R2 Score      RMSE\n",
      "0  GradientBoostingRegressor  0.983416  0.241017\n",
      "1      RandomForestRegressor  0.980713  0.259718\n",
      "2        KNeighborsRegressor  0.966747  0.342507\n",
      "3                      Ridge  0.966628  0.335107\n",
      "4                        SVR  0.962287  0.351581\n",
      "5      DecisionTreeRegressor  0.959363  0.302704\n",
      "6              PLSRegression  0.804973  0.789552\n",
      "7                      Lasso -0.034224  1.903718\n",
      "8                 ElasticNet -0.034224  1.903718\n",
      "9           LinearRegression -6.710714  2.668131\n",
      "\n",
      "\n",
      "Formate (g/L):\n",
      "\n",
      "                       Model  R2 Score      RMSE\n",
      "0           LinearRegression  0.675877  0.396016\n",
      "1  GradientBoostingRegressor  0.489027  0.488942\n",
      "2      RandomForestRegressor  0.464867  0.513867\n",
      "3        KNeighborsRegressor  0.348569  0.586573\n",
      "4                      Ridge  0.221717  0.631032\n",
      "5                        SVR  0.110807  0.696069\n",
      "6              PLSRegression  0.080158  0.702010\n",
      "7                      Lasso -0.021342  0.745549\n",
      "8                 ElasticNet -0.021342  0.745549\n",
      "9      DecisionTreeRegressor -0.362447  0.746041\n"
     ]
    }
   ],
   "source": [
    "for column in target3.columns:\n",
    "    model_scores = best_model2(data3, target3[column].values, 5)\n",
    "    print(f'\\n\\n{column}:\\n')\n",
    "    print(model_scores)"
   ]
  },
  {
   "cell_type": "markdown",
   "metadata": {},
   "source": [
    "Glucose (g/L):\n",
    "\n",
    "| Model                      | R2 Score | RMSE      |\n",
    "|----------------------------|----------|-----------|\n",
    "| LinearRegression           | 0.989870 | 1.576538  |\n",
    "| GradientBoostingRegressor  | 0.807923 | 6.606053  |\n",
    "| RandomForestRegressor      | 0.786442 | 7.060864  |\n",
    "| DecisionTreeRegressor      | 0.675527 | 8.568945  |\n",
    "| KNeighborsRegressor        | 0.650175 | 9.128605  |\n",
    "| Ridge                      | 0.646127 | 9.208028  |\n",
    "| PLSRegression              | 0.203671 | 13.927018 |\n",
    "| SVR                        | 0.087424 | 14.970300 |\n",
    "| ElasticNet                 | 0.030135 | 15.432048 |\n",
    "| Lasso                      | 0.008403 | 15.600416 |\n",
    "\n",
    "Lactate (g/L):\n",
    "\n",
    "| Model                      | R2 Score | RMSE      |\n",
    "|----------------------------|----------|-----------|\n",
    "| KNeighborsRegressor        | 0.845121 | 6.642506  |\n",
    "| GradientBoostingRegressor  | 0.837059 | 6.975106  |\n",
    "| RandomForestRegressor      | 0.754432 | 8.266264  |\n",
    "| Ridge                      | 0.657631 | 9.889097  |\n",
    "| DecisionTreeRegressor      | 0.641189 | 9.473679  |\n",
    "| PLSRegression              | 0.341889 | 13.822119 |\n",
    "| ElasticNet                 | 0.168887 | 15.495018 |\n",
    "| Lasso                      | 0.141296 | 15.747846 |\n",
    "| SVR                        | 0.037384 | 16.735395 |\n",
    "| LinearRegression           | -0.587507| 12.411790 |\n",
    "\n",
    "Ethanol (g/L):\n",
    "\n",
    "| Model                      | R2 Score | RMSE      |\n",
    "|----------------------------|----------|-----------|\n",
    "| LinearRegression           | 0.910407 | 0.215002  |\n",
    "| GradientBoostingRegressor  | 0.533029 | 0.520427  |\n",
    "| RandomForestRegressor      | 0.467411 | 0.535953  |\n",
    "| KNeighborsRegressor        | 0.327890 | 0.603690  |\n",
    "| Ridge                      | 0.325507 | 0.611733  |\n",
    "| SVR                        | 0.119033 | 0.700774  |\n",
    "| PLSRegression              | 0.112463 | 0.697178  |\n",
    "| Lasso                      | -0.017500| 0.748614  |\n",
    "| ElasticNet                 | -0.017500| 0.748614  |\n",
    "| DecisionTreeRegressor      | -0.352318| 0.815760  |\n",
    "\n",
    "Acetate (g/L):\n",
    "\n",
    "| Model                      | R2 Score | RMSE      |\n",
    "|----------------------------|----------|-----------|\n",
    "| LinearRegression           | 0.682460 | 0.310424  |\n",
    "| GradientBoostingRegressor  | 0.536231 | 0.390962  |\n",
    "| RandomForestRegressor      | 0.501650 | 0.399880  |\n",
    "| Ridge                      | 0.353852 | 0.451052  |\n",
    "| KNeighborsRegressor        | 0.297449 | 0.462448  |\n",
    "| DecisionTreeRegressor      | 0.200687 | 0.509511  |\n",
    "| SVR                        | 0.188030 | 0.513491  |\n",
    "| PLSRegression              | 0.135787 | 0.526222  |\n",
    "| Lasso                      | -0.015361| 0.572668  |\n",
    "| ElasticNet                 | -0.015361| 0.572668  |\n",
    "\n",
    "Biomass (g/L):\n",
    "\n",
    "| Model                      | R2 Score | RMSE      |\n",
    "|----------------------------|----------|-----------|\n",
    "| GradientBoostingRegressor  | 0.983416 | 0.241017  |\n",
    "| RandomForestRegressor      | 0.980713 | 0.259718  |\n",
    "| KNeighborsRegressor        | 0.966747 | 0.342507  |\n",
    "| Ridge                      | 0.966628 | 0.335107  |\n",
    "| SVR                        | 0.962287 | 0.351581  |\n",
    "| DecisionTreeRegressor      | 0.959363 | 0.302704  |\n",
    "| PLSRegression              | 0.804973 | 0.789552  |\n",
    "| Lasso                      | -0.034224| 1.903718  |\n",
    "| ElasticNet                 | -0.034224| 1.903718  |\n",
    "| LinearRegression           | -6.710714| 2.668131  |\n",
    "\n",
    "Formate (g/L):\n",
    "\n",
    "| Model                      | R2 Score | RMSE      |\n",
    "|----------------------------|----------|-----------|\n",
    "| LinearRegression           | 0.675877 | 0.396016  |\n",
    "| GradientBoostingRegressor  | 0.489027 | 0.488942  |\n",
    "| RandomForestRegressor      | 0.464867 | 0.513867  |\n",
    "| KNeighborsRegressor        | 0.348569 | 0.586573  |\n",
    "| Ridge                      | 0.221717 | 0.631032  |\n",
    "| SVR                        | 0.110807 | 0.696069  |\n",
    "| PLSRegression              | 0.080158 | 0.702010  |\n",
    "| Lasso                      | -0.021342| 0.745549  |\n",
    "| ElasticNet                 | -0.021342| 0.745549  |\n",
    "| DecisionTreeRegressor      | -0.362447| 0.746041  |"
   ]
  },
  {
   "cell_type": "markdown",
   "metadata": {},
   "source": [
    "# also find the best regression model for each column in target3 using best_model2 function with k=10"
   ]
  },
  {
   "cell_type": "code",
   "execution_count": 17,
   "metadata": {},
   "outputs": [
    {
     "name": "stdout",
     "output_type": "stream",
     "text": [
      "\n",
      "\n",
      "Glucose (g/L):\n",
      "\n",
      "                       Model  R2 Score       RMSE\n",
      "0           LinearRegression  0.988769   1.614717\n",
      "1  GradientBoostingRegressor  0.835508   5.956996\n",
      "2      RandomForestRegressor  0.819535   6.462220\n",
      "3                      Ridge  0.659568   8.873440\n",
      "4        KNeighborsRegressor  0.658043   8.842925\n",
      "5      DecisionTreeRegressor  0.616180   8.980659\n",
      "6              PLSRegression  0.182083  13.869079\n",
      "7                        SVR  0.069160  14.904967\n",
      "8                 ElasticNet  0.002763  15.412115\n",
      "9                      Lasso -0.020964  15.588674\n",
      "\n",
      "\n",
      "Lactate (g/L):\n",
      "\n",
      "                       Model  R2 Score       RMSE\n",
      "0        KNeighborsRegressor  0.831301   6.232073\n",
      "1  GradientBoostingRegressor  0.753150   6.752765\n",
      "2      DecisionTreeRegressor  0.731441   7.367412\n",
      "3      RandomForestRegressor  0.701033   7.616169\n",
      "4                      Ridge  0.646520   9.622301\n",
      "5              PLSRegression  0.295342  13.935056\n",
      "6                 ElasticNet  0.132707  15.477187\n",
      "7                      Lasso  0.105295  15.748981\n",
      "8                        SVR  0.034111  16.446900\n",
      "9           LinearRegression -6.711076  32.972322\n",
      "\n",
      "\n",
      "Ethanol (g/L):\n",
      "\n",
      "                       Model  R2 Score      RMSE\n",
      "0           LinearRegression  0.890640  0.205750\n",
      "1      RandomForestRegressor  0.438678  0.508979\n",
      "2  GradientBoostingRegressor  0.429386  0.504567\n",
      "3        KNeighborsRegressor  0.261753  0.565896\n",
      "4                      Ridge  0.256279  0.588913\n",
      "5                        SVR  0.115113  0.667215\n",
      "6              PLSRegression -0.008663  0.680403\n",
      "7                      Lasso -0.089800  0.726226\n",
      "8                 ElasticNet -0.089800  0.726226\n",
      "9      DecisionTreeRegressor -0.202997  0.668237\n",
      "\n",
      "\n",
      "Acetate (g/L):\n",
      "\n",
      "                       Model  R2 Score      RMSE\n",
      "0           LinearRegression  0.672833  0.279081\n",
      "1  GradientBoostingRegressor  0.557820  0.358910\n",
      "2      RandomForestRegressor  0.455993  0.367004\n",
      "3                      Ridge  0.242999  0.445187\n",
      "4                        SVR  0.196649  0.498876\n",
      "5        KNeighborsRegressor  0.162290  0.446007\n",
      "6              PLSRegression  0.086035  0.519341\n",
      "7                      Lasso -0.053566  0.562975\n",
      "8                 ElasticNet -0.053566  0.562975\n",
      "9      DecisionTreeRegressor -0.512200  0.492840\n",
      "\n",
      "\n",
      "Biomass (g/L):\n",
      "\n",
      "                       Model   R2 Score      RMSE\n",
      "0  GradientBoostingRegressor   0.987698  0.202497\n",
      "1      RandomForestRegressor   0.982928  0.224319\n",
      "2        KNeighborsRegressor   0.974388  0.281367\n",
      "3      DecisionTreeRegressor   0.969533  0.319944\n",
      "4                      Ridge   0.968727  0.313383\n",
      "5                        SVR   0.966400  0.317420\n",
      "6              PLSRegression   0.746645  0.773859\n",
      "7                      Lasso  -0.075516  1.879509\n",
      "8                 ElasticNet  -0.075516  1.879509\n",
      "9           LinearRegression -29.347372  7.368810\n",
      "\n",
      "\n",
      "Formate (g/L):\n",
      "\n",
      "                       Model  R2 Score      RMSE\n",
      "0  GradientBoostingRegressor  0.368196  0.427271\n",
      "1           LinearRegression  0.337277  0.395917\n",
      "2      RandomForestRegressor  0.243948  0.492314\n",
      "3        KNeighborsRegressor  0.231351  0.533445\n",
      "4                        SVR  0.138873  0.659297\n",
      "5                      Ridge -0.070047  0.606121\n",
      "6                      Lasso -0.206286  0.724714\n",
      "7                 ElasticNet -0.206286  0.724714\n",
      "8              PLSRegression -0.375717  0.691459\n",
      "9      DecisionTreeRegressor -2.275494  0.677532\n"
     ]
    }
   ],
   "source": [
    "for column in target3.columns:\n",
    "    model_scores = best_model2(data3, target3[column].values, 10)\n",
    "    print(f'\\n\\n{column}:\\n')\n",
    "    print(model_scores) "
   ]
  },
  {
   "cell_type": "markdown",
   "metadata": {},
   "source": [
    "Glucose (g/L):\n",
    "\n",
    "| Model                     | R2 Score | RMSE      |\n",
    "|---------------------------|----------|-----------|\n",
    "| LinearRegression          | 0.988769 | 1.614717  |\n",
    "| GradientBoostingRegressor | 0.835508 | 5.956996  |\n",
    "| RandomForestRegressor     | 0.819535 | 6.462220  |\n",
    "| Ridge                     | 0.659568 | 8.873440  |\n",
    "| KNeighborsRegressor       | 0.658043 | 8.842925  |\n",
    "| DecisionTreeRegressor     | 0.616180 | 8.980659  |\n",
    "| PLSRegression             | 0.182083 | 13.869079 |\n",
    "| SVR                       | 0.069160 | 14.904967 |\n",
    "| ElasticNet                | 0.002763 | 15.412115 |\n",
    "| Lasso                     | -0.020964| 15.588674 |\n",
    "\n",
    "Lactate (g/L):\n",
    "\n",
    "| Model                     | R2 Score | RMSE      |\n",
    "|---------------------------|----------|-----------|\n",
    "| KNeighborsRegressor       | 0.831301 | 6.232073  |\n",
    "| GradientBoostingRegressor | 0.753150 | 6.752765  |\n",
    "| DecisionTreeRegressor     | 0.731441 | 7.367412  |\n",
    "| RandomForestRegressor     | 0.701033 | 7.616169  |\n",
    "| Ridge                     | 0.646520 | 9.622301  |\n",
    "| PLSRegression             | 0.295342 | 13.935056 |\n",
    "| ElasticNet                | 0.132707 | 15.477187 |\n",
    "| Lasso                     | 0.105295 | 15.748981 |\n",
    "| SVR                       | 0.034111 | 16.446900 |\n",
    "| LinearRegression          | -6.711076| 32.972322 |\n",
    "\n",
    "Ethanol (g/L):\n",
    "\n",
    "| Model                     | R2 Score | RMSE      |\n",
    "|---------------------------|----------|-----------|\n",
    "| LinearRegression          | 0.890640 | 0.205750  |\n",
    "| RandomForestRegressor     | 0.438678 | 0.508979  |\n",
    "| GradientBoostingRegressor | 0.429386 | 0.504567  |\n",
    "| KNeighborsRegressor       | 0.261753 | 0.565896  |\n",
    "| Ridge                     | 0.256279 | 0.588913  |\n",
    "| SVR                       | 0.115113 | 0.667215  |\n",
    "| PLSRegression             | -0.008663| 0.680403  |\n",
    "| Lasso                     | -0.089800| 0.726226  |\n",
    "| ElasticNet                | -0.089800| 0.726226  |\n",
    "| DecisionTreeRegressor     | -0.202997| 0.668237  |\n",
    "\n",
    "Acetate (g/L):\n",
    "\n",
    "| Model                     | R2 Score | RMSE      |\n",
    "|---------------------------|----------|-----------|\n",
    "| LinearRegression          | 0.672833 | 0.279081  |\n",
    "| GradientBoostingRegressor | 0.557820 | 0.358910  |\n",
    "| RandomForestRegressor     | 0.455993 | 0.367004  |\n",
    "| Ridge                     | 0.242999 | 0.445187  |\n",
    "| SVR                       | 0.196649 | 0.498876  |\n",
    "| KNeighborsRegressor       | 0.162290 | 0.446007  |\n",
    "| PLSRegression             | 0.086035 | 0.519341  |\n",
    "| Lasso                     | -0.053566| 0.562975  |\n",
    "| ElasticNet                | -0.053566| 0.562975  |\n",
    "| DecisionTreeRegressor     | -0.512200| 0.492840  |\n",
    "\n",
    "Biomass (g/L):\n",
    "\n",
    "| Model                     | R2 Score | RMSE      |\n",
    "|---------------------------|----------|-----------|\n",
    "| GradientBoostingRegressor | 0.987698 | 0.202497  |\n",
    "| RandomForestRegressor     | 0.982928 | 0.224319  |\n",
    "| KNeighborsRegressor       | 0.974388 | 0.281367  |\n",
    "| DecisionTreeRegressor     | 0.969533 | 0.319944  |\n",
    "| Ridge                     | 0.968727 | 0.313383  |\n",
    "| SVR                       | 0.966400 | 0.317420  |\n",
    "| PLSRegression             | 0.746645 | 0.773859  |\n",
    "| Lasso                     | -0.075516| 1.879509  |\n",
    "| ElasticNet                | -0.075516| 1.879509  |\n",
    "| LinearRegression          | -29.347372| 7.368810 |\n",
    "\n",
    "Formate (g/L):\n",
    "\n",
    "| Model                     | R2 Score | RMSE      |\n",
    "|---------------------------|----------|-----------|\n",
    "| GradientBoostingRegressor | 0.368196 | 0.427271  |\n",
    "| LinearRegression          | 0.337277 | 0.395917  |\n",
    "| RandomForestRegressor     | 0.243948 | 0.492314  |\n",
    "| KNeighborsRegressor       | 0.231351 | 0.533445  |\n",
    "| SVR                       | 0.138873 | 0.659297  |\n",
    "| Ridge                     | -0.070047| 0.606121  |\n",
    "| Lasso                     | -0.206286| 0.724714  |\n",
    "| ElasticNet                | -0.206286| 0.724714  |\n",
    "| PLSRegression             | -0.375717| 0.691459  |\n",
    "| DecisionTreeRegressor     | -2.275494| 0.677532  |"
   ]
  }
 ],
 "metadata": {
  "kernelspec": {
   "display_name": "base",
   "language": "python",
   "name": "python3"
  },
  "language_info": {
   "codemirror_mode": {
    "name": "ipython",
    "version": 3
   },
   "file_extension": ".py",
   "mimetype": "text/x-python",
   "name": "python",
   "nbconvert_exporter": "python",
   "pygments_lexer": "ipython3",
   "version": "3.10.9"
  }
 },
 "nbformat": 4,
 "nbformat_minor": 2
}
